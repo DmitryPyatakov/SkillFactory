{
 "cells": [
  {
   "cell_type": "code",
   "execution_count": 6,
   "metadata": {},
   "outputs": [],
   "source": [
    "#импорируем все необходимые библиотеки\n",
    "from pandas import Series \n",
    "import pandas as pd\n",
    "import numpy as np\n",
    "\n",
    "import matplotlib.pyplot as plt\n",
    "import seaborn as sns\n",
    "\n",
    "from sklearn.feature_selection import f_classif, mutual_info_classif\n",
    "from sklearn.preprocessing import LabelEncoder, OneHotEncoder, StandardScaler\n",
    "\n",
    "from sklearn.model_selection import train_test_split\n",
    "from sklearn.linear_model import LogisticRegression\n",
    "\n",
    "\n",
    "from sklearn.metrics import confusion_matrix, auc, roc_auc_score, roc_curve\n",
    "from sklearn.metrics import accuracy_score, precision_score, recall_score, f1_score\n",
    "\n",
    "import warnings\n",
    "warnings.filterwarnings(\"ignore\") \n",
    "\n",
    "import os\n",
    "for dirname, _, filenames in os.walk('/kaggle/input'):\n",
    "    for filename in filenames:\n",
    "        print(os.path.join(dirname, filename))"
   ]
  },
  {
   "cell_type": "code",
   "execution_count": 7,
   "metadata": {},
   "outputs": [],
   "source": [
    "# зафиксируем версию пакетов, чтобы эксперименты были воспроизводимы:\n",
    "!pip freeze > requirements.txt"
   ]
  },
  {
   "cell_type": "code",
   "execution_count": 5,
   "metadata": {},
   "outputs": [],
   "source": [
    "# Функция для визуализации confusion_matrix\n",
    "def show_confusion_matrix(y_true, y_pred):\n",
    "    color_text = plt.get_cmap('PuBu')(0.95)\n",
    "    class_names = ['Default', 'Non-Default']\n",
    "    cm = confusion_matrix(y_true, y_pred)\n",
    "    cm[0,0], cm[1,1] = cm[1,1], cm[0,0]\n",
    "    df = pd.DataFrame(cm, index=class_names, columns=class_names)\n",
    "    \n",
    "    fig, ax = plt.subplots(figsize=(6, 6))\n",
    "    ax.set(xticks=np.arange(cm.shape[1]), yticks=np.arange(cm.shape[0]), title=\"Confusion Matrix\")\n",
    "    ax.title.set_fontsize(15)\n",
    "    sns.heatmap(df, square=True, annot=True, fmt=\"d\", linewidths=1, cmap=\"PuBu\")\n",
    "    plt.setp(ax.get_yticklabels(), rotation=0, ha=\"right\", rotation_mode=\"anchor\", fontsize=12)\n",
    "    plt.setp(ax.get_xticklabels(), rotation=0, ha=\"center\", rotation_mode=\"anchor\", fontsize=12)\n",
    "    ax.set_ylabel('Predicted Values', fontsize=14, color = color_text)\n",
    "    ax.set_xlabel('Real Values', fontsize=14, color = color_text)\n",
    "    b, t = plt.ylim()\n",
    "    plt.ylim(b+0.5, t-0.5)\n",
    "    fig.tight_layout()\n",
    "    plt.show()"
   ]
  },
  {
   "cell_type": "code",
   "execution_count": 14,
   "metadata": {},
   "outputs": [],
   "source": [
    "# Функция для вывода метрик для оценки качества модели\n",
    "def all_metrics(y_true, y_pred, y_pred_prob):\n",
    "    dict_metric = {}\n",
    "    P = np.sum(y_true==1)\n",
    "    N = np.sum(y_true==0)\n",
    "    TP = np.sum((y_true==1)&(y_pred==1))\n",
    "    TN = np.sum((y_true==0)&(y_pred==0))\n",
    "    FP = np.sum((y_true==0)&(y_pred==1))\n",
    "    FN = np.sum((y_true==1)&(y_pred==0))\n",
    "    \n",
    "    dict_metric['Positive, P'] = [P,'default']\n",
    "    dict_metric['Negative, N'] = [N,'non-default']\n",
    "    dict_metric['True Positive, TP'] = [TP,'correctly identified default']\n",
    "    dict_metric['True Negative, TN'] = [TN,'correctly identified non-default']\n",
    "    dict_metric['False Positive, FP'] = [FP,'incorrectly identified default']\n",
    "    dict_metric['False Negative, FN'] = [FN,'incorrectly identified non-default']\n",
    "    dict_metric['Accuracy'] = [accuracy_score(y_true, y_pred),'Accuracy=(TP+TN)/(P+N)']\n",
    "    dict_metric['Precision'] = [precision_score(y_true, y_pred),'Precision = TP/(TP+FP)'] \n",
    "    dict_metric['Recall'] = [recall_score(y_true, y_pred),'Recall = TP/P']\n",
    "    dict_metric['F1-score'] = [f1_score(y_true, y_pred),'Harmonical mean of Precision и Recall']\n",
    "    dict_metric['ROC_AUC'] = [roc_auc_score(y_true, y_pred_prob),'ROC AUC Score']    \n",
    "\n",
    "    temp_df = pd.DataFrame.from_dict(dict_metric, orient='index', columns=['Value', 'Description'])\n",
    "    display(temp_df)"
   ]
  },
  {
   "cell_type": "code",
   "execution_count": 18,
   "metadata": {},
   "outputs": [],
   "source": [
    "# загружаем исходные данные \n",
    "\n",
    "train = pd.read_csv('train.csv')\n",
    "test= pd.read_csv('test.csv')\n",
    "sample_submission = pd.read_csv('sample_submission.csv')"
   ]
  },
  {
   "cell_type": "code",
   "execution_count": 19,
   "metadata": {},
   "outputs": [
    {
     "data": {
      "text/html": [
       "<div>\n",
       "<style scoped>\n",
       "    .dataframe tbody tr th:only-of-type {\n",
       "        vertical-align: middle;\n",
       "    }\n",
       "\n",
       "    .dataframe tbody tr th {\n",
       "        vertical-align: top;\n",
       "    }\n",
       "\n",
       "    .dataframe thead th {\n",
       "        text-align: right;\n",
       "    }\n",
       "</style>\n",
       "<table border=\"1\" class=\"dataframe\">\n",
       "  <thead>\n",
       "    <tr style=\"text-align: right;\">\n",
       "      <th></th>\n",
       "      <th>client_id</th>\n",
       "      <th>app_date</th>\n",
       "      <th>education</th>\n",
       "      <th>sex</th>\n",
       "      <th>age</th>\n",
       "      <th>car</th>\n",
       "      <th>car_type</th>\n",
       "      <th>decline_app_cnt</th>\n",
       "      <th>good_work</th>\n",
       "      <th>score_bki</th>\n",
       "      <th>bki_request_cnt</th>\n",
       "      <th>region_rating</th>\n",
       "      <th>home_address</th>\n",
       "      <th>work_address</th>\n",
       "      <th>income</th>\n",
       "      <th>sna</th>\n",
       "      <th>first_time</th>\n",
       "      <th>foreign_passport</th>\n",
       "      <th>default</th>\n",
       "    </tr>\n",
       "  </thead>\n",
       "  <tbody>\n",
       "    <tr>\n",
       "      <th>52010</th>\n",
       "      <td>69927</td>\n",
       "      <td>18MAR2014</td>\n",
       "      <td>GRD</td>\n",
       "      <td>F</td>\n",
       "      <td>23</td>\n",
       "      <td>Y</td>\n",
       "      <td>N</td>\n",
       "      <td>0</td>\n",
       "      <td>1</td>\n",
       "      <td>-1.518010</td>\n",
       "      <td>1</td>\n",
       "      <td>60</td>\n",
       "      <td>2</td>\n",
       "      <td>3</td>\n",
       "      <td>70000</td>\n",
       "      <td>1</td>\n",
       "      <td>4</td>\n",
       "      <td>N</td>\n",
       "      <td>0</td>\n",
       "    </tr>\n",
       "    <tr>\n",
       "      <th>39464</th>\n",
       "      <td>108924</td>\n",
       "      <td>29APR2014</td>\n",
       "      <td>GRD</td>\n",
       "      <td>M</td>\n",
       "      <td>27</td>\n",
       "      <td>Y</td>\n",
       "      <td>Y</td>\n",
       "      <td>2</td>\n",
       "      <td>0</td>\n",
       "      <td>-2.729800</td>\n",
       "      <td>3</td>\n",
       "      <td>80</td>\n",
       "      <td>2</td>\n",
       "      <td>3</td>\n",
       "      <td>85000</td>\n",
       "      <td>1</td>\n",
       "      <td>3</td>\n",
       "      <td>Y</td>\n",
       "      <td>0</td>\n",
       "    </tr>\n",
       "    <tr>\n",
       "      <th>62562</th>\n",
       "      <td>53518</td>\n",
       "      <td>02MAR2014</td>\n",
       "      <td>UGR</td>\n",
       "      <td>M</td>\n",
       "      <td>59</td>\n",
       "      <td>Y</td>\n",
       "      <td>Y</td>\n",
       "      <td>0</td>\n",
       "      <td>0</td>\n",
       "      <td>-1.599533</td>\n",
       "      <td>0</td>\n",
       "      <td>60</td>\n",
       "      <td>2</td>\n",
       "      <td>3</td>\n",
       "      <td>100000</td>\n",
       "      <td>1</td>\n",
       "      <td>3</td>\n",
       "      <td>Y</td>\n",
       "      <td>0</td>\n",
       "    </tr>\n",
       "    <tr>\n",
       "      <th>3093</th>\n",
       "      <td>80373</td>\n",
       "      <td>28MAR2014</td>\n",
       "      <td>GRD</td>\n",
       "      <td>M</td>\n",
       "      <td>44</td>\n",
       "      <td>N</td>\n",
       "      <td>N</td>\n",
       "      <td>0</td>\n",
       "      <td>0</td>\n",
       "      <td>-2.867592</td>\n",
       "      <td>0</td>\n",
       "      <td>50</td>\n",
       "      <td>1</td>\n",
       "      <td>3</td>\n",
       "      <td>70000</td>\n",
       "      <td>1</td>\n",
       "      <td>4</td>\n",
       "      <td>N</td>\n",
       "      <td>0</td>\n",
       "    </tr>\n",
       "    <tr>\n",
       "      <th>45842</th>\n",
       "      <td>86547</td>\n",
       "      <td>03APR2014</td>\n",
       "      <td>SCH</td>\n",
       "      <td>F</td>\n",
       "      <td>24</td>\n",
       "      <td>N</td>\n",
       "      <td>N</td>\n",
       "      <td>0</td>\n",
       "      <td>0</td>\n",
       "      <td>-1.873626</td>\n",
       "      <td>0</td>\n",
       "      <td>80</td>\n",
       "      <td>2</td>\n",
       "      <td>3</td>\n",
       "      <td>20000</td>\n",
       "      <td>1</td>\n",
       "      <td>4</td>\n",
       "      <td>Y</td>\n",
       "      <td>0</td>\n",
       "    </tr>\n",
       "  </tbody>\n",
       "</table>\n",
       "</div>"
      ],
      "text/plain": [
       "       client_id   app_date education sex  age car car_type  decline_app_cnt  \\\n",
       "52010      69927  18MAR2014       GRD   F   23   Y        N                0   \n",
       "39464     108924  29APR2014       GRD   M   27   Y        Y                2   \n",
       "62562      53518  02MAR2014       UGR   M   59   Y        Y                0   \n",
       "3093       80373  28MAR2014       GRD   M   44   N        N                0   \n",
       "45842      86547  03APR2014       SCH   F   24   N        N                0   \n",
       "\n",
       "       good_work  score_bki  bki_request_cnt  region_rating  home_address  \\\n",
       "52010          1  -1.518010                1             60             2   \n",
       "39464          0  -2.729800                3             80             2   \n",
       "62562          0  -1.599533                0             60             2   \n",
       "3093           0  -2.867592                0             50             1   \n",
       "45842          0  -1.873626                0             80             2   \n",
       "\n",
       "       work_address  income  sna  first_time foreign_passport  default  \n",
       "52010             3   70000    1           4                N        0  \n",
       "39464             3   85000    1           3                Y        0  \n",
       "62562             3  100000    1           3                Y        0  \n",
       "3093              3   70000    1           4                N        0  \n",
       "45842             3   20000    1           4                Y        0  "
      ]
     },
     "execution_count": 19,
     "metadata": {},
     "output_type": "execute_result"
    }
   ],
   "source": [
    "# Посмотрим на случайные 5 строк обучающей базы\n",
    "train.sample(5)"
   ]
  },
  {
   "cell_type": "code",
   "execution_count": 20,
   "metadata": {},
   "outputs": [
    {
     "data": {
      "text/html": [
       "<div>\n",
       "<style scoped>\n",
       "    .dataframe tbody tr th:only-of-type {\n",
       "        vertical-align: middle;\n",
       "    }\n",
       "\n",
       "    .dataframe tbody tr th {\n",
       "        vertical-align: top;\n",
       "    }\n",
       "\n",
       "    .dataframe thead th {\n",
       "        text-align: right;\n",
       "    }\n",
       "</style>\n",
       "<table border=\"1\" class=\"dataframe\">\n",
       "  <thead>\n",
       "    <tr style=\"text-align: right;\">\n",
       "      <th></th>\n",
       "      <th>client_id</th>\n",
       "      <th>app_date</th>\n",
       "      <th>education</th>\n",
       "      <th>sex</th>\n",
       "      <th>age</th>\n",
       "      <th>car</th>\n",
       "      <th>car_type</th>\n",
       "      <th>decline_app_cnt</th>\n",
       "      <th>good_work</th>\n",
       "      <th>score_bki</th>\n",
       "      <th>bki_request_cnt</th>\n",
       "      <th>region_rating</th>\n",
       "      <th>home_address</th>\n",
       "      <th>work_address</th>\n",
       "      <th>income</th>\n",
       "      <th>sna</th>\n",
       "      <th>first_time</th>\n",
       "      <th>foreign_passport</th>\n",
       "    </tr>\n",
       "  </thead>\n",
       "  <tbody>\n",
       "    <tr>\n",
       "      <th>24456</th>\n",
       "      <td>68263</td>\n",
       "      <td>17MAR2014</td>\n",
       "      <td>GRD</td>\n",
       "      <td>F</td>\n",
       "      <td>27</td>\n",
       "      <td>N</td>\n",
       "      <td>N</td>\n",
       "      <td>7</td>\n",
       "      <td>0</td>\n",
       "      <td>-0.482722</td>\n",
       "      <td>6</td>\n",
       "      <td>80</td>\n",
       "      <td>2</td>\n",
       "      <td>3</td>\n",
       "      <td>60000</td>\n",
       "      <td>1</td>\n",
       "      <td>3</td>\n",
       "      <td>Y</td>\n",
       "    </tr>\n",
       "    <tr>\n",
       "      <th>22415</th>\n",
       "      <td>16178</td>\n",
       "      <td>23JAN2014</td>\n",
       "      <td>SCH</td>\n",
       "      <td>M</td>\n",
       "      <td>41</td>\n",
       "      <td>N</td>\n",
       "      <td>N</td>\n",
       "      <td>0</td>\n",
       "      <td>0</td>\n",
       "      <td>-1.668129</td>\n",
       "      <td>1</td>\n",
       "      <td>80</td>\n",
       "      <td>2</td>\n",
       "      <td>3</td>\n",
       "      <td>60000</td>\n",
       "      <td>1</td>\n",
       "      <td>3</td>\n",
       "      <td>N</td>\n",
       "    </tr>\n",
       "    <tr>\n",
       "      <th>5067</th>\n",
       "      <td>31879</td>\n",
       "      <td>07FEB2014</td>\n",
       "      <td>SCH</td>\n",
       "      <td>F</td>\n",
       "      <td>24</td>\n",
       "      <td>N</td>\n",
       "      <td>N</td>\n",
       "      <td>0</td>\n",
       "      <td>0</td>\n",
       "      <td>-2.169664</td>\n",
       "      <td>2</td>\n",
       "      <td>40</td>\n",
       "      <td>2</td>\n",
       "      <td>3</td>\n",
       "      <td>16000</td>\n",
       "      <td>3</td>\n",
       "      <td>3</td>\n",
       "      <td>N</td>\n",
       "    </tr>\n",
       "    <tr>\n",
       "      <th>24328</th>\n",
       "      <td>96946</td>\n",
       "      <td>14APR2014</td>\n",
       "      <td>SCH</td>\n",
       "      <td>F</td>\n",
       "      <td>56</td>\n",
       "      <td>N</td>\n",
       "      <td>N</td>\n",
       "      <td>1</td>\n",
       "      <td>0</td>\n",
       "      <td>-1.836782</td>\n",
       "      <td>7</td>\n",
       "      <td>70</td>\n",
       "      <td>2</td>\n",
       "      <td>3</td>\n",
       "      <td>60000</td>\n",
       "      <td>1</td>\n",
       "      <td>3</td>\n",
       "      <td>N</td>\n",
       "    </tr>\n",
       "    <tr>\n",
       "      <th>1944</th>\n",
       "      <td>64802</td>\n",
       "      <td>13MAR2014</td>\n",
       "      <td>GRD</td>\n",
       "      <td>F</td>\n",
       "      <td>67</td>\n",
       "      <td>Y</td>\n",
       "      <td>N</td>\n",
       "      <td>0</td>\n",
       "      <td>0</td>\n",
       "      <td>-1.833391</td>\n",
       "      <td>3</td>\n",
       "      <td>50</td>\n",
       "      <td>1</td>\n",
       "      <td>2</td>\n",
       "      <td>18000</td>\n",
       "      <td>1</td>\n",
       "      <td>3</td>\n",
       "      <td>N</td>\n",
       "    </tr>\n",
       "  </tbody>\n",
       "</table>\n",
       "</div>"
      ],
      "text/plain": [
       "       client_id   app_date education sex  age car car_type  decline_app_cnt  \\\n",
       "24456      68263  17MAR2014       GRD   F   27   N        N                7   \n",
       "22415      16178  23JAN2014       SCH   M   41   N        N                0   \n",
       "5067       31879  07FEB2014       SCH   F   24   N        N                0   \n",
       "24328      96946  14APR2014       SCH   F   56   N        N                1   \n",
       "1944       64802  13MAR2014       GRD   F   67   Y        N                0   \n",
       "\n",
       "       good_work  score_bki  bki_request_cnt  region_rating  home_address  \\\n",
       "24456          0  -0.482722                6             80             2   \n",
       "22415          0  -1.668129                1             80             2   \n",
       "5067           0  -2.169664                2             40             2   \n",
       "24328          0  -1.836782                7             70             2   \n",
       "1944           0  -1.833391                3             50             1   \n",
       "\n",
       "       work_address  income  sna  first_time foreign_passport  \n",
       "24456             3   60000    1           3                Y  \n",
       "22415             3   60000    1           3                N  \n",
       "5067              3   16000    3           3                N  \n",
       "24328             3   60000    1           3                N  \n",
       "1944              2   18000    1           3                N  "
      ]
     },
     "execution_count": 20,
     "metadata": {},
     "output_type": "execute_result"
    }
   ],
   "source": [
    "\n",
    "# Посмотрим на случайные 5 строк тестовой базы\n",
    "test.sample(5)"
   ]
  },
  {
   "cell_type": "markdown",
   "metadata": {},
   "source": [
    "\n",
    "Описание признаков:\n",
    "\n",
    "client_id - идентификатор клиента\n",
    "education - уровень образования\n",
    "sex - пол заемщика\n",
    "age - возраст заемщика\n",
    "car - флаг наличия автомобиля\n",
    "car_type - флаг автомобиля иномарки\n",
    "decline_app_cnt - количество отказанных прошлых заявок\n",
    "good_work - флаг наличия “хорошей” работы\n",
    "bki_request_cnt - количество запросов в БКИ\n",
    "home_address - категоризатор домашнего адреса\n",
    "work_address - категоризатор рабочего адреса\n",
    "income - доход заемщика\n",
    "foreign_passport - наличие загранпаспорта\n",
    "sna - связь заемщика с клиентами банка\n",
    "first_time - давность наличия информации о заемщике\n",
    "score_bki - скоринговый балл по данным из БКИ\n",
    "region_rating - рейтинг региона\n",
    "app_date - дата подачи заявки\n",
    "default - флаг дефолта по кредиту"
   ]
  },
  {
   "cell_type": "code",
   "execution_count": 22,
   "metadata": {},
   "outputs": [
    {
     "data": {
      "text/html": [
       "<div>\n",
       "<style scoped>\n",
       "    .dataframe tbody tr th:only-of-type {\n",
       "        vertical-align: middle;\n",
       "    }\n",
       "\n",
       "    .dataframe tbody tr th {\n",
       "        vertical-align: top;\n",
       "    }\n",
       "\n",
       "    .dataframe thead th {\n",
       "        text-align: right;\n",
       "    }\n",
       "</style>\n",
       "<table border=\"1\" class=\"dataframe\">\n",
       "  <thead>\n",
       "    <tr style=\"text-align: right;\">\n",
       "      <th></th>\n",
       "      <th>client_id</th>\n",
       "      <th>default</th>\n",
       "    </tr>\n",
       "  </thead>\n",
       "  <tbody>\n",
       "    <tr>\n",
       "      <th>0</th>\n",
       "      <td>66799</td>\n",
       "      <td>0.441004</td>\n",
       "    </tr>\n",
       "    <tr>\n",
       "      <th>1</th>\n",
       "      <td>25379</td>\n",
       "      <td>0.138092</td>\n",
       "    </tr>\n",
       "    <tr>\n",
       "      <th>2</th>\n",
       "      <td>28825</td>\n",
       "      <td>0.373370</td>\n",
       "    </tr>\n",
       "    <tr>\n",
       "      <th>3</th>\n",
       "      <td>37530</td>\n",
       "      <td>0.476501</td>\n",
       "    </tr>\n",
       "    <tr>\n",
       "      <th>4</th>\n",
       "      <td>4264</td>\n",
       "      <td>0.304640</td>\n",
       "    </tr>\n",
       "    <tr>\n",
       "      <th>5</th>\n",
       "      <td>175</td>\n",
       "      <td>0.311599</td>\n",
       "    </tr>\n",
       "    <tr>\n",
       "      <th>6</th>\n",
       "      <td>57558</td>\n",
       "      <td>0.584807</td>\n",
       "    </tr>\n",
       "    <tr>\n",
       "      <th>7</th>\n",
       "      <td>88407</td>\n",
       "      <td>0.815792</td>\n",
       "    </tr>\n",
       "    <tr>\n",
       "      <th>8</th>\n",
       "      <td>79183</td>\n",
       "      <td>0.325037</td>\n",
       "    </tr>\n",
       "    <tr>\n",
       "      <th>9</th>\n",
       "      <td>69300</td>\n",
       "      <td>0.094011</td>\n",
       "    </tr>\n",
       "  </tbody>\n",
       "</table>\n",
       "</div>"
      ],
      "text/plain": [
       "   client_id   default\n",
       "0      66799  0.441004\n",
       "1      25379  0.138092\n",
       "2      28825  0.373370\n",
       "3      37530  0.476501\n",
       "4       4264  0.304640\n",
       "5        175  0.311599\n",
       "6      57558  0.584807\n",
       "7      88407  0.815792\n",
       "8      79183  0.325037\n",
       "9      69300  0.094011"
      ]
     },
     "execution_count": 22,
     "metadata": {},
     "output_type": "execute_result"
    }
   ],
   "source": [
    "# Посмотрим на первые 10 строк sample_submission\n",
    "sample_submission.head(10)"
   ]
  },
  {
   "cell_type": "code",
   "execution_count": 24,
   "metadata": {},
   "outputs": [
    {
     "name": "stdout",
     "output_type": "stream",
     "text": [
      "<class 'pandas.core.frame.DataFrame'>\n",
      "RangeIndex: 73799 entries, 0 to 73798\n",
      "Data columns (total 19 columns):\n",
      " #   Column            Non-Null Count  Dtype  \n",
      "---  ------            --------------  -----  \n",
      " 0   client_id         73799 non-null  int64  \n",
      " 1   app_date          73799 non-null  object \n",
      " 2   education         73492 non-null  object \n",
      " 3   sex               73799 non-null  object \n",
      " 4   age               73799 non-null  int64  \n",
      " 5   car               73799 non-null  object \n",
      " 6   car_type          73799 non-null  object \n",
      " 7   decline_app_cnt   73799 non-null  int64  \n",
      " 8   good_work         73799 non-null  int64  \n",
      " 9   score_bki         73799 non-null  float64\n",
      " 10  bki_request_cnt   73799 non-null  int64  \n",
      " 11  region_rating     73799 non-null  int64  \n",
      " 12  home_address      73799 non-null  int64  \n",
      " 13  work_address      73799 non-null  int64  \n",
      " 14  income            73799 non-null  int64  \n",
      " 15  sna               73799 non-null  int64  \n",
      " 16  first_time        73799 non-null  int64  \n",
      " 17  foreign_passport  73799 non-null  object \n",
      " 18  default           73799 non-null  int64  \n",
      "dtypes: float64(1), int64(12), object(6)\n",
      "memory usage: 10.7+ MB\n"
     ]
    }
   ],
   "source": [
    "# Информация об обучающей базе\n",
    "train.info()\n"
   ]
  },
  {
   "cell_type": "code",
   "execution_count": 25,
   "metadata": {},
   "outputs": [
    {
     "name": "stdout",
     "output_type": "stream",
     "text": [
      "<class 'pandas.core.frame.DataFrame'>\n",
      "RangeIndex: 36349 entries, 0 to 36348\n",
      "Data columns (total 18 columns):\n",
      " #   Column            Non-Null Count  Dtype  \n",
      "---  ------            --------------  -----  \n",
      " 0   client_id         36349 non-null  int64  \n",
      " 1   app_date          36349 non-null  object \n",
      " 2   education         36178 non-null  object \n",
      " 3   sex               36349 non-null  object \n",
      " 4   age               36349 non-null  int64  \n",
      " 5   car               36349 non-null  object \n",
      " 6   car_type          36349 non-null  object \n",
      " 7   decline_app_cnt   36349 non-null  int64  \n",
      " 8   good_work         36349 non-null  int64  \n",
      " 9   score_bki         36349 non-null  float64\n",
      " 10  bki_request_cnt   36349 non-null  int64  \n",
      " 11  region_rating     36349 non-null  int64  \n",
      " 12  home_address      36349 non-null  int64  \n",
      " 13  work_address      36349 non-null  int64  \n",
      " 14  income            36349 non-null  int64  \n",
      " 15  sna               36349 non-null  int64  \n",
      " 16  first_time        36349 non-null  int64  \n",
      " 17  foreign_passport  36349 non-null  object \n",
      "dtypes: float64(1), int64(11), object(6)\n",
      "memory usage: 5.0+ MB\n"
     ]
    }
   ],
   "source": [
    "# Информация о тестовой базе\n",
    "test.info()"
   ]
  },
  {
   "cell_type": "code",
   "execution_count": 26,
   "metadata": {},
   "outputs": [
    {
     "data": {
      "text/html": [
       "<div>\n",
       "<style scoped>\n",
       "    .dataframe tbody tr th:only-of-type {\n",
       "        vertical-align: middle;\n",
       "    }\n",
       "\n",
       "    .dataframe tbody tr th {\n",
       "        vertical-align: top;\n",
       "    }\n",
       "\n",
       "    .dataframe thead th {\n",
       "        text-align: right;\n",
       "    }\n",
       "</style>\n",
       "<table border=\"1\" class=\"dataframe\">\n",
       "  <thead>\n",
       "    <tr style=\"text-align: right;\">\n",
       "      <th></th>\n",
       "      <th>client_id</th>\n",
       "      <th>age</th>\n",
       "      <th>decline_app_cnt</th>\n",
       "      <th>good_work</th>\n",
       "      <th>score_bki</th>\n",
       "      <th>bki_request_cnt</th>\n",
       "      <th>region_rating</th>\n",
       "      <th>home_address</th>\n",
       "      <th>work_address</th>\n",
       "      <th>income</th>\n",
       "      <th>sna</th>\n",
       "      <th>first_time</th>\n",
       "      <th>default</th>\n",
       "    </tr>\n",
       "  </thead>\n",
       "  <tbody>\n",
       "    <tr>\n",
       "      <th>count</th>\n",
       "      <td>73799.000000</td>\n",
       "      <td>73799.000000</td>\n",
       "      <td>73799.000000</td>\n",
       "      <td>73799.000000</td>\n",
       "      <td>73799.000000</td>\n",
       "      <td>73799.000000</td>\n",
       "      <td>73799.000000</td>\n",
       "      <td>73799.000000</td>\n",
       "      <td>73799.000000</td>\n",
       "      <td>73799.000000</td>\n",
       "      <td>73799.000000</td>\n",
       "      <td>73799.000000</td>\n",
       "      <td>73799.000000</td>\n",
       "    </tr>\n",
       "    <tr>\n",
       "      <th>mean</th>\n",
       "      <td>55137.965094</td>\n",
       "      <td>39.280641</td>\n",
       "      <td>0.275749</td>\n",
       "      <td>0.164894</td>\n",
       "      <td>-1.904724</td>\n",
       "      <td>2.000339</td>\n",
       "      <td>56.725701</td>\n",
       "      <td>1.575509</td>\n",
       "      <td>2.496280</td>\n",
       "      <td>41099.775417</td>\n",
       "      <td>1.733330</td>\n",
       "      <td>2.765458</td>\n",
       "      <td>0.126994</td>\n",
       "    </tr>\n",
       "    <tr>\n",
       "      <th>std</th>\n",
       "      <td>31841.921168</td>\n",
       "      <td>11.520378</td>\n",
       "      <td>0.804272</td>\n",
       "      <td>0.371087</td>\n",
       "      <td>0.498231</td>\n",
       "      <td>2.252073</td>\n",
       "      <td>13.055717</td>\n",
       "      <td>0.527631</td>\n",
       "      <td>0.689818</td>\n",
       "      <td>46166.322400</td>\n",
       "      <td>1.123622</td>\n",
       "      <td>1.009463</td>\n",
       "      <td>0.332968</td>\n",
       "    </tr>\n",
       "    <tr>\n",
       "      <th>min</th>\n",
       "      <td>1.000000</td>\n",
       "      <td>21.000000</td>\n",
       "      <td>0.000000</td>\n",
       "      <td>0.000000</td>\n",
       "      <td>-3.624586</td>\n",
       "      <td>0.000000</td>\n",
       "      <td>20.000000</td>\n",
       "      <td>1.000000</td>\n",
       "      <td>1.000000</td>\n",
       "      <td>1000.000000</td>\n",
       "      <td>1.000000</td>\n",
       "      <td>1.000000</td>\n",
       "      <td>0.000000</td>\n",
       "    </tr>\n",
       "    <tr>\n",
       "      <th>25%</th>\n",
       "      <td>27440.500000</td>\n",
       "      <td>30.000000</td>\n",
       "      <td>0.000000</td>\n",
       "      <td>0.000000</td>\n",
       "      <td>-2.259534</td>\n",
       "      <td>0.000000</td>\n",
       "      <td>50.000000</td>\n",
       "      <td>1.000000</td>\n",
       "      <td>2.000000</td>\n",
       "      <td>20000.000000</td>\n",
       "      <td>1.000000</td>\n",
       "      <td>2.000000</td>\n",
       "      <td>0.000000</td>\n",
       "    </tr>\n",
       "    <tr>\n",
       "      <th>50%</th>\n",
       "      <td>55274.000000</td>\n",
       "      <td>37.000000</td>\n",
       "      <td>0.000000</td>\n",
       "      <td>0.000000</td>\n",
       "      <td>-1.920823</td>\n",
       "      <td>1.000000</td>\n",
       "      <td>50.000000</td>\n",
       "      <td>2.000000</td>\n",
       "      <td>3.000000</td>\n",
       "      <td>30000.000000</td>\n",
       "      <td>1.000000</td>\n",
       "      <td>3.000000</td>\n",
       "      <td>0.000000</td>\n",
       "    </tr>\n",
       "    <tr>\n",
       "      <th>75%</th>\n",
       "      <td>82758.500000</td>\n",
       "      <td>48.000000</td>\n",
       "      <td>0.000000</td>\n",
       "      <td>0.000000</td>\n",
       "      <td>-1.569831</td>\n",
       "      <td>3.000000</td>\n",
       "      <td>60.000000</td>\n",
       "      <td>2.000000</td>\n",
       "      <td>3.000000</td>\n",
       "      <td>48000.000000</td>\n",
       "      <td>2.000000</td>\n",
       "      <td>4.000000</td>\n",
       "      <td>0.000000</td>\n",
       "    </tr>\n",
       "    <tr>\n",
       "      <th>max</th>\n",
       "      <td>110147.000000</td>\n",
       "      <td>72.000000</td>\n",
       "      <td>33.000000</td>\n",
       "      <td>1.000000</td>\n",
       "      <td>0.199773</td>\n",
       "      <td>53.000000</td>\n",
       "      <td>80.000000</td>\n",
       "      <td>3.000000</td>\n",
       "      <td>3.000000</td>\n",
       "      <td>1000000.000000</td>\n",
       "      <td>4.000000</td>\n",
       "      <td>4.000000</td>\n",
       "      <td>1.000000</td>\n",
       "    </tr>\n",
       "  </tbody>\n",
       "</table>\n",
       "</div>"
      ],
      "text/plain": [
       "           client_id           age  decline_app_cnt     good_work  \\\n",
       "count   73799.000000  73799.000000     73799.000000  73799.000000   \n",
       "mean    55137.965094     39.280641         0.275749      0.164894   \n",
       "std     31841.921168     11.520378         0.804272      0.371087   \n",
       "min         1.000000     21.000000         0.000000      0.000000   \n",
       "25%     27440.500000     30.000000         0.000000      0.000000   \n",
       "50%     55274.000000     37.000000         0.000000      0.000000   \n",
       "75%     82758.500000     48.000000         0.000000      0.000000   \n",
       "max    110147.000000     72.000000        33.000000      1.000000   \n",
       "\n",
       "          score_bki  bki_request_cnt  region_rating  home_address  \\\n",
       "count  73799.000000     73799.000000   73799.000000  73799.000000   \n",
       "mean      -1.904724         2.000339      56.725701      1.575509   \n",
       "std        0.498231         2.252073      13.055717      0.527631   \n",
       "min       -3.624586         0.000000      20.000000      1.000000   \n",
       "25%       -2.259534         0.000000      50.000000      1.000000   \n",
       "50%       -1.920823         1.000000      50.000000      2.000000   \n",
       "75%       -1.569831         3.000000      60.000000      2.000000   \n",
       "max        0.199773        53.000000      80.000000      3.000000   \n",
       "\n",
       "       work_address          income           sna    first_time       default  \n",
       "count  73799.000000    73799.000000  73799.000000  73799.000000  73799.000000  \n",
       "mean       2.496280    41099.775417      1.733330      2.765458      0.126994  \n",
       "std        0.689818    46166.322400      1.123622      1.009463      0.332968  \n",
       "min        1.000000     1000.000000      1.000000      1.000000      0.000000  \n",
       "25%        2.000000    20000.000000      1.000000      2.000000      0.000000  \n",
       "50%        3.000000    30000.000000      1.000000      3.000000      0.000000  \n",
       "75%        3.000000    48000.000000      2.000000      4.000000      0.000000  \n",
       "max        3.000000  1000000.000000      4.000000      4.000000      1.000000  "
      ]
     },
     "execution_count": 26,
     "metadata": {},
     "output_type": "execute_result"
    }
   ],
   "source": [
    "# Статистическая информация об обучающей базе\n",
    "train.describe()"
   ]
  },
  {
   "cell_type": "code",
   "execution_count": 27,
   "metadata": {},
   "outputs": [
    {
     "data": {
      "text/html": [
       "<div>\n",
       "<style scoped>\n",
       "    .dataframe tbody tr th:only-of-type {\n",
       "        vertical-align: middle;\n",
       "    }\n",
       "\n",
       "    .dataframe tbody tr th {\n",
       "        vertical-align: top;\n",
       "    }\n",
       "\n",
       "    .dataframe thead th {\n",
       "        text-align: right;\n",
       "    }\n",
       "</style>\n",
       "<table border=\"1\" class=\"dataframe\">\n",
       "  <thead>\n",
       "    <tr style=\"text-align: right;\">\n",
       "      <th></th>\n",
       "      <th>client_id</th>\n",
       "      <th>age</th>\n",
       "      <th>decline_app_cnt</th>\n",
       "      <th>good_work</th>\n",
       "      <th>score_bki</th>\n",
       "      <th>bki_request_cnt</th>\n",
       "      <th>region_rating</th>\n",
       "      <th>home_address</th>\n",
       "      <th>work_address</th>\n",
       "      <th>income</th>\n",
       "      <th>sna</th>\n",
       "      <th>first_time</th>\n",
       "    </tr>\n",
       "  </thead>\n",
       "  <tbody>\n",
       "    <tr>\n",
       "      <th>count</th>\n",
       "      <td>36349.000000</td>\n",
       "      <td>36349.000000</td>\n",
       "      <td>36349.000000</td>\n",
       "      <td>36349.000000</td>\n",
       "      <td>36349.000000</td>\n",
       "      <td>36349.000000</td>\n",
       "      <td>36349.000000</td>\n",
       "      <td>36349.000000</td>\n",
       "      <td>36349.000000</td>\n",
       "      <td>36349.000000</td>\n",
       "      <td>36349.000000</td>\n",
       "      <td>36349.000000</td>\n",
       "    </tr>\n",
       "    <tr>\n",
       "      <th>mean</th>\n",
       "      <td>54945.647473</td>\n",
       "      <td>39.186002</td>\n",
       "      <td>0.268040</td>\n",
       "      <td>0.166772</td>\n",
       "      <td>-1.904152</td>\n",
       "      <td>2.014471</td>\n",
       "      <td>56.802938</td>\n",
       "      <td>1.573798</td>\n",
       "      <td>2.501087</td>\n",
       "      <td>40835.755729</td>\n",
       "      <td>1.728053</td>\n",
       "      <td>2.765798</td>\n",
       "    </tr>\n",
       "    <tr>\n",
       "      <th>std</th>\n",
       "      <td>31706.052195</td>\n",
       "      <td>11.513258</td>\n",
       "      <td>0.788478</td>\n",
       "      <td>0.372777</td>\n",
       "      <td>0.501764</td>\n",
       "      <td>2.296789</td>\n",
       "      <td>13.086646</td>\n",
       "      <td>0.527428</td>\n",
       "      <td>0.683227</td>\n",
       "      <td>43802.180951</td>\n",
       "      <td>1.120686</td>\n",
       "      <td>1.011560</td>\n",
       "    </tr>\n",
       "    <tr>\n",
       "      <th>min</th>\n",
       "      <td>4.000000</td>\n",
       "      <td>21.000000</td>\n",
       "      <td>0.000000</td>\n",
       "      <td>0.000000</td>\n",
       "      <td>-3.574197</td>\n",
       "      <td>0.000000</td>\n",
       "      <td>20.000000</td>\n",
       "      <td>1.000000</td>\n",
       "      <td>1.000000</td>\n",
       "      <td>1000.000000</td>\n",
       "      <td>1.000000</td>\n",
       "      <td>1.000000</td>\n",
       "    </tr>\n",
       "    <tr>\n",
       "      <th>25%</th>\n",
       "      <td>27744.000000</td>\n",
       "      <td>30.000000</td>\n",
       "      <td>0.000000</td>\n",
       "      <td>0.000000</td>\n",
       "      <td>-2.261909</td>\n",
       "      <td>0.000000</td>\n",
       "      <td>50.000000</td>\n",
       "      <td>1.000000</td>\n",
       "      <td>2.000000</td>\n",
       "      <td>20000.000000</td>\n",
       "      <td>1.000000</td>\n",
       "      <td>2.000000</td>\n",
       "    </tr>\n",
       "    <tr>\n",
       "      <th>50%</th>\n",
       "      <td>54657.000000</td>\n",
       "      <td>37.000000</td>\n",
       "      <td>0.000000</td>\n",
       "      <td>0.000000</td>\n",
       "      <td>-1.920823</td>\n",
       "      <td>1.000000</td>\n",
       "      <td>50.000000</td>\n",
       "      <td>2.000000</td>\n",
       "      <td>3.000000</td>\n",
       "      <td>30000.000000</td>\n",
       "      <td>1.000000</td>\n",
       "      <td>3.000000</td>\n",
       "    </tr>\n",
       "    <tr>\n",
       "      <th>75%</th>\n",
       "      <td>82322.000000</td>\n",
       "      <td>48.000000</td>\n",
       "      <td>0.000000</td>\n",
       "      <td>0.000000</td>\n",
       "      <td>-1.563957</td>\n",
       "      <td>3.000000</td>\n",
       "      <td>60.000000</td>\n",
       "      <td>2.000000</td>\n",
       "      <td>3.000000</td>\n",
       "      <td>48000.000000</td>\n",
       "      <td>2.000000</td>\n",
       "      <td>4.000000</td>\n",
       "    </tr>\n",
       "    <tr>\n",
       "      <th>max</th>\n",
       "      <td>110148.000000</td>\n",
       "      <td>71.000000</td>\n",
       "      <td>30.000000</td>\n",
       "      <td>1.000000</td>\n",
       "      <td>0.188820</td>\n",
       "      <td>47.000000</td>\n",
       "      <td>80.000000</td>\n",
       "      <td>3.000000</td>\n",
       "      <td>3.000000</td>\n",
       "      <td>1000000.000000</td>\n",
       "      <td>4.000000</td>\n",
       "      <td>4.000000</td>\n",
       "    </tr>\n",
       "  </tbody>\n",
       "</table>\n",
       "</div>"
      ],
      "text/plain": [
       "           client_id           age  decline_app_cnt     good_work  \\\n",
       "count   36349.000000  36349.000000     36349.000000  36349.000000   \n",
       "mean    54945.647473     39.186002         0.268040      0.166772   \n",
       "std     31706.052195     11.513258         0.788478      0.372777   \n",
       "min         4.000000     21.000000         0.000000      0.000000   \n",
       "25%     27744.000000     30.000000         0.000000      0.000000   \n",
       "50%     54657.000000     37.000000         0.000000      0.000000   \n",
       "75%     82322.000000     48.000000         0.000000      0.000000   \n",
       "max    110148.000000     71.000000        30.000000      1.000000   \n",
       "\n",
       "          score_bki  bki_request_cnt  region_rating  home_address  \\\n",
       "count  36349.000000     36349.000000   36349.000000  36349.000000   \n",
       "mean      -1.904152         2.014471      56.802938      1.573798   \n",
       "std        0.501764         2.296789      13.086646      0.527428   \n",
       "min       -3.574197         0.000000      20.000000      1.000000   \n",
       "25%       -2.261909         0.000000      50.000000      1.000000   \n",
       "50%       -1.920823         1.000000      50.000000      2.000000   \n",
       "75%       -1.563957         3.000000      60.000000      2.000000   \n",
       "max        0.188820        47.000000      80.000000      3.000000   \n",
       "\n",
       "       work_address          income           sna    first_time  \n",
       "count  36349.000000    36349.000000  36349.000000  36349.000000  \n",
       "mean       2.501087    40835.755729      1.728053      2.765798  \n",
       "std        0.683227    43802.180951      1.120686      1.011560  \n",
       "min        1.000000     1000.000000      1.000000      1.000000  \n",
       "25%        2.000000    20000.000000      1.000000      2.000000  \n",
       "50%        3.000000    30000.000000      1.000000      3.000000  \n",
       "75%        3.000000    48000.000000      2.000000      4.000000  \n",
       "max        3.000000  1000000.000000      4.000000      4.000000  "
      ]
     },
     "execution_count": 27,
     "metadata": {},
     "output_type": "execute_result"
    }
   ],
   "source": [
    "# Статистическая информация о тестовой базе\n",
    "test.describe()\n"
   ]
  },
  {
   "cell_type": "markdown",
   "metadata": {},
   "source": [
    "Предобработка данных\n"
   ]
  },
  {
   "cell_type": "code",
   "execution_count": 28,
   "metadata": {},
   "outputs": [
    {
     "data": {
      "text/plain": [
       "0    64427\n",
       "1     9372\n",
       "Name: default, dtype: int64"
      ]
     },
     "execution_count": 28,
     "metadata": {},
     "output_type": "execute_result"
    }
   ],
   "source": [
    "# Посмотрим на рапределение целевой переменной\n",
    "train.default.value_counts()"
   ]
  },
  {
   "cell_type": "code",
   "execution_count": 29,
   "metadata": {},
   "outputs": [
    {
     "data": {
      "text/plain": [
       "client_id             0\n",
       "app_date              0\n",
       "education           307\n",
       "sex                   0\n",
       "age                   0\n",
       "car                   0\n",
       "car_type              0\n",
       "decline_app_cnt       0\n",
       "good_work             0\n",
       "score_bki             0\n",
       "bki_request_cnt       0\n",
       "region_rating         0\n",
       "home_address          0\n",
       "work_address          0\n",
       "income                0\n",
       "sna                   0\n",
       "first_time            0\n",
       "foreign_passport      0\n",
       "default               0\n",
       "dtype: int64"
      ]
     },
     "execution_count": 29,
     "metadata": {},
     "output_type": "execute_result"
    }
   ],
   "source": [
    "# Количество пропусков в обучающей базе\n",
    "train.isna().sum()\n",
    "\n",
    "# Количество пропусков в обучающей базе\n",
    "train.isna().sum()"
   ]
  },
  {
   "cell_type": "code",
   "execution_count": 30,
   "metadata": {},
   "outputs": [
    {
     "data": {
      "image/png": "[encoded data removed]",
      "text/plain": [
       "<Figure size 864x576 with 1 Axes>"
      ]
     },
     "metadata": {
      "needs_background": "light"
     },
     "output_type": "display_data"
    }
   ],
   "source": [
    "# Графическое отображение нахождения пропусков в обучающей базе\n",
    "fig, ax = plt.subplots(figsize=(12, 8))\n",
    "sns_heatmap = sns.heatmap(train.isna(),cbar=False, cmap ='PuBu_r')"
   ]
  },
  {
   "cell_type": "code",
   "execution_count": 31,
   "metadata": {},
   "outputs": [
    {
     "data": {
      "text/plain": [
       "client_id             0\n",
       "app_date              0\n",
       "education           171\n",
       "sex                   0\n",
       "age                   0\n",
       "car                   0\n",
       "car_type              0\n",
       "decline_app_cnt       0\n",
       "good_work             0\n",
       "score_bki             0\n",
       "bki_request_cnt       0\n",
       "region_rating         0\n",
       "home_address          0\n",
       "work_address          0\n",
       "income                0\n",
       "sna                   0\n",
       "first_time            0\n",
       "foreign_passport      0\n",
       "dtype: int64"
      ]
     },
     "execution_count": 31,
     "metadata": {},
     "output_type": "execute_result"
    }
   ],
   "source": [
    "# Количество пропусков в тестовой базе\n",
    "test.isna().sum()"
   ]
  },
  {
   "cell_type": "code",
   "execution_count": 32,
   "metadata": {},
   "outputs": [
    {
     "data": {
      "image/png": "[encoded data removed]",
      "text/plain": [
       "<Figure size 864x576 with 1 Axes>"
      ]
     },
     "metadata": {
      "needs_background": "light"
     },
     "output_type": "display_data"
    }
   ],
   "source": [
    "# Графическое отображение нахождения пропусков в тестовой базе\n",
    "fig, ax = plt.subplots(figsize=(12, 8))\n",
    "sns_heatmap = sns.heatmap(test.isna(),cbar=False, cmap ='PuBu_r')"
   ]
  },
  {
   "cell_type": "code",
   "execution_count": 33,
   "metadata": {},
   "outputs": [
    {
     "data": {
      "text/plain": [
       "<AxesSubplot:>"
      ]
     },
     "execution_count": 33,
     "metadata": {},
     "output_type": "execute_result"
    },
    {
     "data": {
      "image/png": "[encoded data removed]",
      "text/plain": [
       "<Figure size 432x288 with 1 Axes>"
      ]
     },
     "metadata": {
      "needs_background": "light"
     },
     "output_type": "display_data"
    }
   ],
   "source": [
    "# Гистограмма значений признака education, содержащего пропуски, в обучающей базе\n",
    "train.education.value_counts().plot.barh()"
   ]
  },
  {
   "cell_type": "code",
   "execution_count": 34,
   "metadata": {},
   "outputs": [
    {
     "data": {
      "text/plain": [
       "<AxesSubplot:>"
      ]
     },
     "execution_count": 34,
     "metadata": {},
     "output_type": "execute_result"
    },
    {
     "data": {
      "image/png": "[encoded data removed]",
      "text/plain": [
       "<Figure size 432x288 with 1 Axes>"
      ]
     },
     "metadata": {
      "needs_background": "light"
     },
     "output_type": "display_data"
    }
   ],
   "source": [
    "# Гистограмма значений признака education, содержащего пропуски, в тестовой базе\n",
    "test.education.value_counts().plot.barh()"
   ]
  },
  {
   "cell_type": "code",
   "execution_count": 35,
   "metadata": {},
   "outputs": [],
   "source": [
    "# Избавимся от пропусков\n",
    "train['education'].fillna('empty', inplace=True)\n",
    "test['education'].fillna('empty', inplace=True)"
   ]
  },
  {
   "cell_type": "code",
   "execution_count": 36,
   "metadata": {},
   "outputs": [
    {
     "data": {
      "text/plain": [
       "Index(['client_id', 'app_date', 'education', 'sex', 'age', 'car', 'car_type',\n",
       "       'decline_app_cnt', 'good_work', 'score_bki', 'bki_request_cnt',\n",
       "       'region_rating', 'home_address', 'work_address', 'income', 'sna',\n",
       "       'first_time', 'foreign_passport', 'default'],\n",
       "      dtype='object')"
      ]
     },
     "execution_count": 36,
     "metadata": {},
     "output_type": "execute_result"
    }
   ],
   "source": [
    "# Выведем наименования всех признаков обучающей базы\n",
    "train.columns"
   ]
  },
  {
   "cell_type": "markdown",
   "metadata": {},
   "source": [
    "Разбиваем признаки по трем типам и создаем соответствующие списки (исключая client_id, app_date)"
   ]
  },
  {
   "cell_type": "code",
   "execution_count": 37,
   "metadata": {},
   "outputs": [],
   "source": [
    "# числовые \n",
    "num_cols = ['age', 'decline_app_cnt', 'bki_request_cnt', 'income', 'score_bki', 'region_rating']\n",
    "\n",
    "# категориальные\n",
    "cat_cols = ['education', 'work_address', 'home_address', 'sna', 'first_time']\n",
    "\n",
    "# бинарные\n",
    "bin_cols = ['sex', 'car', 'car_type', 'good_work', 'foreign_passport']"
   ]
  },
  {
   "cell_type": "code",
   "execution_count": 38,
   "metadata": {},
   "outputs": [
    {
     "data": {
      "image/png": "[encoded data removed]",
      "text/plain": [
       "<Figure size 432x288 with 1 Axes>"
      ]
     },
     "metadata": {
      "needs_background": "light"
     },
     "output_type": "display_data"
    },
    {
     "data": {
      "image/png": "[encoded data removed]",
      "text/plain": [
       "<Figure size 432x288 with 1 Axes>"
      ]
     },
     "metadata": {
      "needs_background": "light"
     },
     "output_type": "display_data"
    },
    {
     "data": {
      "image/png": "[encoded data removed]",
      "text/plain": [
       "<Figure size 432x288 with 1 Axes>"
      ]
     },
     "metadata": {
      "needs_background": "light"
     },
     "output_type": "display_data"
    },
    {
     "data": {
      "image/png": "[encoded data removed]",
      "text/plain": [
       "<Figure size 432x288 with 1 Axes>"
      ]
     },
     "metadata": {
      "needs_background": "light"
     },
     "output_type": "display_data"
    },
    {
     "data": {
      "image/png": "[encoded data removed]",
      "text/plain": [
       "<Figure size 432x288 with 1 Axes>"
      ]
     },
     "metadata": {
      "needs_background": "light"
     },
     "output_type": "display_data"
    },
    {
     "data": {
      "image/png": "[encoded data removed]",
      "text/plain": [
       "<Figure size 432x288 with 1 Axes>"
      ]
     },
     "metadata": {
      "needs_background": "light"
     },
     "output_type": "display_data"
    }
   ],
   "source": [
    "# Графики распределений числовых признаков\n",
    "for i in num_cols:\n",
    "    plt.figure()\n",
    "    sns.distplot(train[i][train[i] > 0].dropna(), kde = False, rug=False)\n",
    "    plt.title(i)\n",
    "    plt.show()"
   ]
  },
  {
   "cell_type": "code",
   "execution_count": 39,
   "metadata": {},
   "outputs": [
    {
     "data": {
      "text/plain": [
       "<AxesSubplot:>"
      ]
     },
     "execution_count": 39,
     "metadata": {},
     "output_type": "execute_result"
    },
    {
     "data": {
      "image/png": "[encoded data removed]",
      "text/plain": [
       "<Figure size 432x288 with 2 Axes>"
      ]
     },
     "metadata": {
      "needs_background": "light"
     },
     "output_type": "display_data"
    }
   ],
   "source": [
    "# Посмотрим на тепловую карту числовых признаков\n",
    "sns.heatmap(train[num_cols].corr().abs(), vmin=0, vmax=1, annot = True)"
   ]
  },
  {
   "cell_type": "markdown",
   "metadata": {},
   "source": [
    "Распределение числовых признаков 'age', 'bki_request_cnt', 'income' смещено, необходимо будет их прологарифмировать"
   ]
  },
  {
   "cell_type": "code",
   "execution_count": 40,
   "metadata": {},
   "outputs": [
    {
     "data": {
      "text/plain": [
       "<AxesSubplot:>"
      ]
     },
     "execution_count": 40,
     "metadata": {},
     "output_type": "execute_result"
    },
    {
     "data": {
      "image/png": "[encoded data removed]",
      "text/plain": [
       "<Figure size 432x288 with 1 Axes>"
      ]
     },
     "metadata": {
      "needs_background": "light"
     },
     "output_type": "display_data"
    }
   ],
   "source": [
    "# Посмотрим значимость числовых признаков\n",
    "imp_num = pd.Series(f_classif(train[num_cols], train['default'])[0], index = num_cols)\n",
    "imp_num.sort_values(inplace = True)\n",
    "imp_num.plot(kind = 'barh')"
   ]
  },
  {
   "cell_type": "markdown",
   "metadata": {},
   "source": [
    "Бинарные и категориальные признаки"
   ]
  },
  {
   "cell_type": "code",
   "execution_count": 41,
   "metadata": {},
   "outputs": [],
   "source": [
    "# Для бинарных признаков мы будем использовать LabelEncoder, чтобы избавится от строковых значений\n",
    "\n",
    "label_encoder = LabelEncoder()\n",
    "\n",
    "for column in bin_cols:\n",
    "    train[column] = label_encoder.fit_transform(train[column])\n",
    "    \n",
    "for column in bin_cols:\n",
    "    test[column] = label_encoder.fit_transform(test[column])"
   ]
  },
  {
   "cell_type": "code",
   "execution_count": 42,
   "metadata": {},
   "outputs": [
    {
     "data": {
      "text/html": [
       "<div>\n",
       "<style scoped>\n",
       "    .dataframe tbody tr th:only-of-type {\n",
       "        vertical-align: middle;\n",
       "    }\n",
       "\n",
       "    .dataframe tbody tr th {\n",
       "        vertical-align: top;\n",
       "    }\n",
       "\n",
       "    .dataframe thead th {\n",
       "        text-align: right;\n",
       "    }\n",
       "</style>\n",
       "<table border=\"1\" class=\"dataframe\">\n",
       "  <thead>\n",
       "    <tr style=\"text-align: right;\">\n",
       "      <th></th>\n",
       "      <th>client_id</th>\n",
       "      <th>app_date</th>\n",
       "      <th>education</th>\n",
       "      <th>sex</th>\n",
       "      <th>age</th>\n",
       "      <th>car</th>\n",
       "      <th>car_type</th>\n",
       "      <th>decline_app_cnt</th>\n",
       "      <th>good_work</th>\n",
       "      <th>score_bki</th>\n",
       "      <th>bki_request_cnt</th>\n",
       "      <th>region_rating</th>\n",
       "      <th>home_address</th>\n",
       "      <th>work_address</th>\n",
       "      <th>income</th>\n",
       "      <th>sna</th>\n",
       "      <th>first_time</th>\n",
       "      <th>foreign_passport</th>\n",
       "      <th>default</th>\n",
       "    </tr>\n",
       "  </thead>\n",
       "  <tbody>\n",
       "    <tr>\n",
       "      <th>34012</th>\n",
       "      <td>59071</td>\n",
       "      <td>07MAR2014</td>\n",
       "      <td>UGR</td>\n",
       "      <td>1</td>\n",
       "      <td>34</td>\n",
       "      <td>1</td>\n",
       "      <td>0</td>\n",
       "      <td>1</td>\n",
       "      <td>0</td>\n",
       "      <td>-1.490090</td>\n",
       "      <td>5</td>\n",
       "      <td>50</td>\n",
       "      <td>2</td>\n",
       "      <td>3</td>\n",
       "      <td>55000</td>\n",
       "      <td>4</td>\n",
       "      <td>3</td>\n",
       "      <td>0</td>\n",
       "      <td>1</td>\n",
       "    </tr>\n",
       "    <tr>\n",
       "      <th>32184</th>\n",
       "      <td>75916</td>\n",
       "      <td>24MAR2014</td>\n",
       "      <td>SCH</td>\n",
       "      <td>0</td>\n",
       "      <td>42</td>\n",
       "      <td>0</td>\n",
       "      <td>0</td>\n",
       "      <td>0</td>\n",
       "      <td>0</td>\n",
       "      <td>-2.619809</td>\n",
       "      <td>0</td>\n",
       "      <td>50</td>\n",
       "      <td>1</td>\n",
       "      <td>1</td>\n",
       "      <td>23000</td>\n",
       "      <td>1</td>\n",
       "      <td>4</td>\n",
       "      <td>0</td>\n",
       "      <td>0</td>\n",
       "    </tr>\n",
       "    <tr>\n",
       "      <th>8372</th>\n",
       "      <td>69064</td>\n",
       "      <td>17MAR2014</td>\n",
       "      <td>SCH</td>\n",
       "      <td>1</td>\n",
       "      <td>37</td>\n",
       "      <td>1</td>\n",
       "      <td>0</td>\n",
       "      <td>6</td>\n",
       "      <td>0</td>\n",
       "      <td>-1.451349</td>\n",
       "      <td>3</td>\n",
       "      <td>80</td>\n",
       "      <td>2</td>\n",
       "      <td>3</td>\n",
       "      <td>80000</td>\n",
       "      <td>4</td>\n",
       "      <td>1</td>\n",
       "      <td>0</td>\n",
       "      <td>0</td>\n",
       "    </tr>\n",
       "    <tr>\n",
       "      <th>12309</th>\n",
       "      <td>90635</td>\n",
       "      <td>07APR2014</td>\n",
       "      <td>SCH</td>\n",
       "      <td>1</td>\n",
       "      <td>26</td>\n",
       "      <td>1</td>\n",
       "      <td>0</td>\n",
       "      <td>0</td>\n",
       "      <td>0</td>\n",
       "      <td>-1.812774</td>\n",
       "      <td>3</td>\n",
       "      <td>60</td>\n",
       "      <td>1</td>\n",
       "      <td>2</td>\n",
       "      <td>15000</td>\n",
       "      <td>3</td>\n",
       "      <td>1</td>\n",
       "      <td>0</td>\n",
       "      <td>0</td>\n",
       "    </tr>\n",
       "    <tr>\n",
       "      <th>38922</th>\n",
       "      <td>98984</td>\n",
       "      <td>16APR2014</td>\n",
       "      <td>SCH</td>\n",
       "      <td>0</td>\n",
       "      <td>41</td>\n",
       "      <td>0</td>\n",
       "      <td>0</td>\n",
       "      <td>0</td>\n",
       "      <td>0</td>\n",
       "      <td>-2.143486</td>\n",
       "      <td>9</td>\n",
       "      <td>50</td>\n",
       "      <td>2</td>\n",
       "      <td>3</td>\n",
       "      <td>60000</td>\n",
       "      <td>1</td>\n",
       "      <td>3</td>\n",
       "      <td>0</td>\n",
       "      <td>0</td>\n",
       "    </tr>\n",
       "  </tbody>\n",
       "</table>\n",
       "</div>"
      ],
      "text/plain": [
       "       client_id   app_date education  sex  age  car  car_type  \\\n",
       "34012      59071  07MAR2014       UGR    1   34    1         0   \n",
       "32184      75916  24MAR2014       SCH    0   42    0         0   \n",
       "8372       69064  17MAR2014       SCH    1   37    1         0   \n",
       "12309      90635  07APR2014       SCH    1   26    1         0   \n",
       "38922      98984  16APR2014       SCH    0   41    0         0   \n",
       "\n",
       "       decline_app_cnt  good_work  score_bki  bki_request_cnt  region_rating  \\\n",
       "34012                1          0  -1.490090                5             50   \n",
       "32184                0          0  -2.619809                0             50   \n",
       "8372                 6          0  -1.451349                3             80   \n",
       "12309                0          0  -1.812774                3             60   \n",
       "38922                0          0  -2.143486                9             50   \n",
       "\n",
       "       home_address  work_address  income  sna  first_time  foreign_passport  \\\n",
       "34012             2             3   55000    4           3                 0   \n",
       "32184             1             1   23000    1           4                 0   \n",
       "8372              2             3   80000    4           1                 0   \n",
       "12309             1             2   15000    3           1                 0   \n",
       "38922             2             3   60000    1           3                 0   \n",
       "\n",
       "       default  \n",
       "34012        1  \n",
       "32184        0  \n",
       "8372         0  \n",
       "12309        0  \n",
       "38922        0  "
      ]
     },
     "execution_count": 42,
     "metadata": {},
     "output_type": "execute_result"
    }
   ],
   "source": [
    "# посмотрим как выглядит обучающая база после изменений\n",
    "train.sample(5)"
   ]
  },
  {
   "cell_type": "code",
   "execution_count": 43,
   "metadata": {},
   "outputs": [
    {
     "data": {
      "text/plain": [
       "0     39167\n",
       "13    23365\n",
       "2      9816\n",
       "3      1257\n",
       "4       194\n",
       "Name: education, dtype: int64"
      ]
     },
     "execution_count": 43,
     "metadata": {},
     "output_type": "execute_result"
    }
   ],
   "source": [
    "# Заменим значения признака education числами в обучающей базе\n",
    "education_dict = {'ACD': 4, 'PGR': 3, 'UGR': 2, 'GRD': 13, 'SCH': 0, 'empty': 0}\n",
    "train.education = train['education'].map(education_dict)\n",
    "\n",
    "train.education.value_counts()"
   ]
  },
  {
   "cell_type": "code",
   "execution_count": 44,
   "metadata": {},
   "outputs": [
    {
     "data": {
      "text/plain": [
       "0     19309\n",
       "13    11403\n",
       "2      4932\n",
       "3       608\n",
       "4        97\n",
       "Name: education, dtype: int64"
      ]
     },
     "execution_count": 44,
     "metadata": {},
     "output_type": "execute_result"
    }
   ],
   "source": [
    "# Заменим значения признака education числами в тестовой базе\n",
    "test.education = test['education'].map(education_dict)\n",
    "\n",
    "test.education.value_counts()"
   ]
  },
  {
   "cell_type": "code",
   "execution_count": 45,
   "metadata": {},
   "outputs": [],
   "source": [
    "# Переведем даты из признака app_date к типу datetime \n",
    "train.app_date = pd.to_datetime(train.app_date)\n",
    "test.app_date = pd.to_datetime(test.app_date)"
   ]
  },
  {
   "cell_type": "code",
   "execution_count": 46,
   "metadata": {},
   "outputs": [
    {
     "data": {
      "text/plain": [
       "2014    73799\n",
       "Name: app_date, dtype: int64"
      ]
     },
     "execution_count": 46,
     "metadata": {},
     "output_type": "execute_result"
    }
   ],
   "source": [
    "# Посмотрим количество уникальных годов в признаке app_date обучающей базы\n",
    "train.app_date.apply(lambda x: x.year).value_counts()"
   ]
  },
  {
   "cell_type": "code",
   "execution_count": 47,
   "metadata": {},
   "outputs": [
    {
     "data": {
      "text/plain": [
       "2014    36349\n",
       "Name: app_date, dtype: int64"
      ]
     },
     "execution_count": 47,
     "metadata": {},
     "output_type": "execute_result"
    }
   ],
   "source": [
    "# Посмотрим количество уникальных годов в признаке app_date тестовой базы\n",
    "test.app_date.apply(lambda x: x.year).value_counts()"
   ]
  },
  {
   "cell_type": "code",
   "execution_count": 48,
   "metadata": {},
   "outputs": [
    {
     "data": {
      "text/plain": [
       "3    21178\n",
       "2    18028\n",
       "4    17683\n",
       "1    16910\n",
       "Name: app_date, dtype: int64"
      ]
     },
     "execution_count": 48,
     "metadata": {},
     "output_type": "execute_result"
    }
   ],
   "source": [
    "# Посмотрим количество уникальных месяцев в признаке app_date обучающей базы\n",
    "train.app_date.apply(lambda x: x.month).value_counts()"
   ]
  },
  {
   "cell_type": "code",
   "execution_count": 49,
   "metadata": {},
   "outputs": [
    {
     "data": {
      "text/plain": [
       "3    10419\n",
       "2     9069\n",
       "4     8583\n",
       "1     8278\n",
       "Name: app_date, dtype: int64"
      ]
     },
     "execution_count": 49,
     "metadata": {},
     "output_type": "execute_result"
    }
   ],
   "source": [
    "# Посмотрим количество уникальных месяцев в признаке app_date тестовой базы\n",
    "test.app_date.apply(lambda x: x.month).value_counts()"
   ]
  },
  {
   "cell_type": "markdown",
   "metadata": {},
   "source": [
    "Создание новых признаков"
   ]
  },
  {
   "cell_type": "code",
   "execution_count": 50,
   "metadata": {},
   "outputs": [],
   "source": [
    "# Новый признак месяца подачи заявления на кредит\n",
    "train['month'] = train.app_date.apply(lambda x: x.month)\n",
    "test['month'] = train.app_date.apply(lambda x: x.month)\n",
    "\n",
    "cat_cols.append('month')"
   ]
  },
  {
   "cell_type": "code",
   "execution_count": 51,
   "metadata": {},
   "outputs": [],
   "source": [
    "# Новый признак количество дней между датой подачи заявления на кредит и датой первой подачи в базе\n",
    "train['days'] = (train.app_date - train.app_date.min()).dt.days\n",
    "test['days'] = (test.app_date - test.app_date.min()).dt.days\n",
    "\n",
    "num_cols.append('days')"
   ]
  },
  {
   "cell_type": "code",
   "execution_count": 52,
   "metadata": {},
   "outputs": [
    {
     "name": "stdout",
     "output_type": "stream",
     "text": [
      "<class 'pandas.core.frame.DataFrame'>\n",
      "RangeIndex: 73799 entries, 0 to 73798\n",
      "Data columns (total 21 columns):\n",
      " #   Column            Non-Null Count  Dtype         \n",
      "---  ------            --------------  -----         \n",
      " 0   client_id         73799 non-null  int64         \n",
      " 1   app_date          73799 non-null  datetime64[ns]\n",
      " 2   education         73799 non-null  int64         \n",
      " 3   sex               73799 non-null  int32         \n",
      " 4   age               73799 non-null  int64         \n",
      " 5   car               73799 non-null  int32         \n",
      " 6   car_type          73799 non-null  int32         \n",
      " 7   decline_app_cnt   73799 non-null  int64         \n",
      " 8   good_work         73799 non-null  int64         \n",
      " 9   score_bki         73799 non-null  float64       \n",
      " 10  bki_request_cnt   73799 non-null  int64         \n",
      " 11  region_rating     73799 non-null  int64         \n",
      " 12  home_address      73799 non-null  int64         \n",
      " 13  work_address      73799 non-null  int64         \n",
      " 14  income            73799 non-null  int64         \n",
      " 15  sna               73799 non-null  int64         \n",
      " 16  first_time        73799 non-null  int64         \n",
      " 17  foreign_passport  73799 non-null  int32         \n",
      " 18  default           73799 non-null  int64         \n",
      " 19  month             73799 non-null  int64         \n",
      " 20  days              73799 non-null  int64         \n",
      "dtypes: datetime64[ns](1), float64(1), int32(4), int64(15)\n",
      "memory usage: 10.7 MB\n",
      "<class 'pandas.core.frame.DataFrame'>\n",
      "RangeIndex: 36349 entries, 0 to 36348\n",
      "Data columns (total 20 columns):\n",
      " #   Column            Non-Null Count  Dtype         \n",
      "---  ------            --------------  -----         \n",
      " 0   client_id         36349 non-null  int64         \n",
      " 1   app_date          36349 non-null  datetime64[ns]\n",
      " 2   education         36349 non-null  int64         \n",
      " 3   sex               36349 non-null  int32         \n",
      " 4   age               36349 non-null  int64         \n",
      " 5   car               36349 non-null  int32         \n",
      " 6   car_type          36349 non-null  int32         \n",
      " 7   decline_app_cnt   36349 non-null  int64         \n",
      " 8   good_work         36349 non-null  int64         \n",
      " 9   score_bki         36349 non-null  float64       \n",
      " 10  bki_request_cnt   36349 non-null  int64         \n",
      " 11  region_rating     36349 non-null  int64         \n",
      " 12  home_address      36349 non-null  int64         \n",
      " 13  work_address      36349 non-null  int64         \n",
      " 14  income            36349 non-null  int64         \n",
      " 15  sna               36349 non-null  int64         \n",
      " 16  first_time        36349 non-null  int64         \n",
      " 17  foreign_passport  36349 non-null  int32         \n",
      " 18  month             36349 non-null  int64         \n",
      " 19  days              36349 non-null  int64         \n",
      "dtypes: datetime64[ns](1), float64(1), int32(4), int64(14)\n",
      "memory usage: 5.0 MB\n"
     ]
    }
   ],
   "source": [
    "# посмотрим на ифнормацию по базам после изменений  \n",
    "train.info()\n",
    "test.info()"
   ]
  },
  {
   "cell_type": "code",
   "execution_count": 53,
   "metadata": {},
   "outputs": [],
   "source": [
    "# Также добавим новые признаки, потенциально способные улучшить результаты модели\n",
    "train['bki_age_reg'] = (train['score_bki']/train['age'])*train['region_rating']\n",
    "test['bki_age_reg'] = (test['score_bki']/test['age'])*test['region_rating']\n",
    "\n",
    "train['mult_sna_ftime'] = train['sna'] * train['first_time']\n",
    "test['mult_sna_ftime'] = test['sna'] * test['first_time']\n",
    "\n",
    "train['edu_and_income'] = (train['education'] + 1) * train['income']\n",
    "test['edu_and_income'] = (test['education'] + 1) * test['income']\n",
    "\n",
    "train['success_client'] = (train['foreign_passport'] + 1) * (train['good_work'] + 1) * (train['car'] + 1)\n",
    "test['success_client'] = (test['foreign_passport'] + 1) * (test['good_work'] + 1) * (test['car'] + 1)\n",
    "\n",
    "train['very_success_client'] = train['foreign_passport'] * train['good_work'] * train['car']\n",
    "test['very_success_client'] = test['foreign_passport'] * test['good_work'] * test['car']\n",
    "\n",
    "train['fpassp_and_gwork'] = train['foreign_passport'] * train['good_work'] \n",
    "test['fpassp_and_gwork'] = test['foreign_passport'] * test['good_work']\n",
    "\n",
    "train['fpassp_and_car'] = train['foreign_passport'] * train['car']\n",
    "test['fpassp_and_car'] = test['foreign_passport'] * test['car']\n",
    "\n",
    "train['gwork_and_car'] = train['good_work'] * train['car']\n",
    "test['gwork_and_car'] = test['good_work'] * test['car']"
   ]
  },
  {
   "cell_type": "code",
   "execution_count": 54,
   "metadata": {},
   "outputs": [],
   "source": [
    "# Добавляем новые признаки в соответствующие списки\n",
    "num_cols.append('bki_age_reg')\n",
    "num_cols.append('mult_sna_ftime')\n",
    "num_cols.append('edu_and_income')\n",
    "cat_cols.append('success_client')\n",
    "bin_cols.append('very_success_client')\n",
    "bin_cols.append('fpassp_and_gwork')\n",
    "bin_cols.append('fpassp_and_car')\n",
    "bin_cols.append('gwork_and_car')"
   ]
  },
  {
   "cell_type": "code",
   "execution_count": 55,
   "metadata": {},
   "outputs": [
    {
     "data": {
      "text/plain": [
       "0     61214\n",
       "1      8397\n",
       "2      2468\n",
       "3       903\n",
       "4       414\n",
       "5       165\n",
       "6       113\n",
       "7        48\n",
       "9        24\n",
       "8        19\n",
       "10       11\n",
       "11        9\n",
       "13        3\n",
       "12        2\n",
       "14        2\n",
       "16        2\n",
       "24        1\n",
       "15        1\n",
       "19        1\n",
       "22        1\n",
       "33        1\n",
       "Name: decline_app_cnt, dtype: int64"
      ]
     },
     "execution_count": 55,
     "metadata": {},
     "output_type": "execute_result"
    }
   ],
   "source": [
    "#Посмотрим на распределение значений decline_app_cnt в обучающей выборке\n",
    "train.decline_app_cnt.value_counts()"
   ]
  },
  {
   "cell_type": "code",
   "execution_count": 56,
   "metadata": {},
   "outputs": [],
   "source": [
    "# изменим значения признака decline_app_cnt, которые встречаются наиболее редко, единственным значением\n",
    "train['decline_app_cnt'] = train['decline_app_cnt'].apply(lambda x: x if x < 4 else 4)\n",
    "test['decline_app_cnt'] = test['decline_app_cnt'].apply(lambda x: x if x < 4 else 4)"
   ]
  },
  {
   "cell_type": "code",
   "execution_count": 57,
   "metadata": {},
   "outputs": [],
   "source": [
    "# Изменяем принадлежность к списку признаку decline_app_cnt\n",
    "num_cols.remove('decline_app_cnt')\n",
    "cat_cols.append('decline_app_cnt')"
   ]
  },
  {
   "cell_type": "code",
   "execution_count": 59,
   "metadata": {},
   "outputs": [],
   "source": [
    "# Теперь прологарифмируем численные переменные, распределение которых смещено \n",
    "\n",
    "num_cols_log = ['age', 'bki_request_cnt', 'income']\n",
    "\n",
    "for i in num_cols_log:\n",
    "    train[i] = np.log(train[i] + 1)\n",
    "    \n",
    "    \n",
    "for i in num_cols_log:\n",
    "    test[i] = np.log(test[i] + 1)"
   ]
  },
  {
   "cell_type": "markdown",
   "metadata": {},
   "source": [
    "Визуализируем признаки\n"
   ]
  },
  {
   "cell_type": "code",
   "execution_count": 60,
   "metadata": {},
   "outputs": [
    {
     "data": {
      "image/png": "[encoded data removed]",
      "text/plain": [
       "<Figure size 432x288 with 1 Axes>"
      ]
     },
     "metadata": {
      "needs_background": "light"
     },
     "output_type": "display_data"
    },
    {
     "data": {
      "image/png": "[encoded data removed]",
      "text/plain": [
       "<Figure size 432x288 with 1 Axes>"
      ]
     },
     "metadata": {
      "needs_background": "light"
     },
     "output_type": "display_data"
    },
    {
     "data": {
      "image/png": "[encoded data removed]",
      "text/plain": [
       "<Figure size 432x288 with 1 Axes>"
      ]
     },
     "metadata": {
      "needs_background": "light"
     },
     "output_type": "display_data"
    },
    {
     "data": {
      "image/png": "[encoded data removed]",
      "text/plain": [
       "<Figure size 432x288 with 1 Axes>"
      ]
     },
     "metadata": {
      "needs_background": "light"
     },
     "output_type": "display_data"
    },
    {
     "data": {
      "image/png": "[encoded data removed]",
      "text/plain": [
       "<Figure size 432x288 with 1 Axes>"
      ]
     },
     "metadata": {
      "needs_background": "light"
     },
     "output_type": "display_data"
    },
    {
     "data": {
      "image/png": "[encoded data removed]",
      "text/plain": [
       "<Figure size 432x288 with 1 Axes>"
      ]
     },
     "metadata": {
      "needs_background": "light"
     },
     "output_type": "display_data"
    },
    {
     "data": {
      "image/png": "[encoded data removed]",
      "text/plain": [
       "<Figure size 432x288 with 1 Axes>"
      ]
     },
     "metadata": {
      "needs_background": "light"
     },
     "output_type": "display_data"
    },
    {
     "data": {
      "image/png": "[encoded data removed]",
      "text/plain": [
       "<Figure size 432x288 with 1 Axes>"
      ]
     },
     "metadata": {
      "needs_background": "light"
     },
     "output_type": "display_data"
    },
    {
     "data": {
      "image/png": "[encoded data removed]",
      "text/plain": [
       "<Figure size 432x288 with 1 Axes>"
      ]
     },
     "metadata": {
      "needs_background": "light"
     },
     "output_type": "display_data"
    }
   ],
   "source": [
    "# Посмотрим на гистограммы распределения бинарных признаков\n",
    "for column in bin_cols:\n",
    "    plt.figure()\n",
    "    sns.countplot(train[column])\n",
    "    plt.title(column)\n",
    "    plt.show()"
   ]
  },
  {
   "cell_type": "code",
   "execution_count": 61,
   "metadata": {},
   "outputs": [
    {
     "data": {
      "image/png": "[encoded data removed]",
      "text/plain": [
       "<Figure size 432x288 with 1 Axes>"
      ]
     },
     "metadata": {
      "needs_background": "light"
     },
     "output_type": "display_data"
    },
    {
     "data": {
      "image/png": "[encoded data removed]",
      "text/plain": [
       "<Figure size 432x288 with 1 Axes>"
      ]
     },
     "metadata": {
      "needs_background": "light"
     },
     "output_type": "display_data"
    },
    {
     "data": {
      "image/png": "[encoded data removed]",
      "text/plain": [
       "<Figure size 432x288 with 1 Axes>"
      ]
     },
     "metadata": {
      "needs_background": "light"
     },
     "output_type": "display_data"
    },
    {
     "data": {
      "image/png": "[encoded data removed]",
      "text/plain": [
       "<Figure size 432x288 with 1 Axes>"
      ]
     },
     "metadata": {
      "needs_background": "light"
     },
     "output_type": "display_data"
    },
    {
     "data": {
      "image/png": "[encoded data removed]",
      "text/plain": [
       "<Figure size 432x288 with 1 Axes>"
      ]
     },
     "metadata": {
      "needs_background": "light"
     },
     "output_type": "display_data"
    },
    {
     "data": {
      "image/png": "[encoded data removed]",
      "text/plain": [
       "<Figure size 432x288 with 1 Axes>"
      ]
     },
     "metadata": {
      "needs_background": "light"
     },
     "output_type": "display_data"
    },
    {
     "data": {
      "image/png": "[encoded data removed]",
      "text/plain": [
       "<Figure size 432x288 with 1 Axes>"
      ]
     },
     "metadata": {
      "needs_background": "light"
     },
     "output_type": "display_data"
    },
    {
     "data": {
      "image/png": "[encoded data removed]",
      "text/plain": [
       "<Figure size 432x288 with 1 Axes>"
      ]
     },
     "metadata": {
      "needs_background": "light"
     },
     "output_type": "display_data"
    },
    {
     "data": {
      "image/png": "[encoded data removed]",
      "text/plain": [
       "<Figure size 432x288 with 1 Axes>"
      ]
     },
     "metadata": {
      "needs_background": "light"
     },
     "output_type": "display_data"
    }
   ],
   "source": [
    "# boxplots числовых признаков\n",
    "for column in num_cols:\n",
    "    plt.figure()\n",
    "    sns.boxplot(x=train['default'], y=train[column])\n",
    "    plt.title(column)\n",
    "    plt.show()"
   ]
  },
  {
   "cell_type": "code",
   "execution_count": 62,
   "metadata": {},
   "outputs": [
    {
     "data": {
      "text/plain": [
       "<AxesSubplot:>"
      ]
     },
     "execution_count": 62,
     "metadata": {},
     "output_type": "execute_result"
    },
    {
     "data": {
      "image/png": "[encoded data removed]",
      "text/plain": [
       "<Figure size 432x288 with 1 Axes>"
      ]
     },
     "metadata": {
      "needs_background": "light"
     },
     "output_type": "display_data"
    }
   ],
   "source": [
    "# оценим значимость бинарных и категориальных переменных\n",
    "imp_cat = Series(mutual_info_classif(train[bin_cols + cat_cols], train['default'],\n",
    "                                     discrete_features =True), index = bin_cols + cat_cols)\n",
    "imp_cat.sort_values(inplace = True)\n",
    "imp_cat.plot(kind = 'barh')"
   ]
  },
  {
   "cell_type": "code",
   "execution_count": 63,
   "metadata": {},
   "outputs": [
    {
     "data": {
      "text/plain": [
       "Text(0.5, 0, 'F-value')"
      ]
     },
     "execution_count": 63,
     "metadata": {},
     "output_type": "execute_result"
    },
    {
     "data": {
      "image/png": "[encoded data removed]",
      "text/plain": [
       "<Figure size 432x288 with 1 Axes>"
      ]
     },
     "metadata": {
      "needs_background": "light"
     },
     "output_type": "display_data"
    }
   ],
   "source": [
    "# еще раз посмотрим на значимость числовых переменных\n",
    "imp_num = Series(f_classif(train[num_cols], train['default'])[0],\n",
    "                 index=num_cols)\n",
    "imp_num.sort_values(inplace=True)\n",
    "imp_num.plot(kind='barh')\n",
    "plt.xlabel('F-value')"
   ]
  },
  {
   "cell_type": "code",
   "execution_count": 64,
   "metadata": {},
   "outputs": [
    {
     "data": {
      "text/html": [
       "<style  type=\"text/css\" >\n",
       "#T_a56861bd_28c9_11ec_894b_d43d7e4999edrow0_col0,#T_a56861bd_28c9_11ec_894b_d43d7e4999edrow1_col1,#T_a56861bd_28c9_11ec_894b_d43d7e4999edrow2_col2,#T_a56861bd_28c9_11ec_894b_d43d7e4999edrow3_col3,#T_a56861bd_28c9_11ec_894b_d43d7e4999edrow4_col4,#T_a56861bd_28c9_11ec_894b_d43d7e4999edrow5_col5,#T_a56861bd_28c9_11ec_894b_d43d7e4999edrow6_col6,#T_a56861bd_28c9_11ec_894b_d43d7e4999edrow7_col7,#T_a56861bd_28c9_11ec_894b_d43d7e4999edrow8_col8,#T_a56861bd_28c9_11ec_894b_d43d7e4999edrow9_col9,#T_a56861bd_28c9_11ec_894b_d43d7e4999edrow10_col10,#T_a56861bd_28c9_11ec_894b_d43d7e4999edrow11_col11,#T_a56861bd_28c9_11ec_894b_d43d7e4999edrow12_col12,#T_a56861bd_28c9_11ec_894b_d43d7e4999edrow13_col13,#T_a56861bd_28c9_11ec_894b_d43d7e4999edrow14_col14,#T_a56861bd_28c9_11ec_894b_d43d7e4999edrow15_col15,#T_a56861bd_28c9_11ec_894b_d43d7e4999edrow16_col16,#T_a56861bd_28c9_11ec_894b_d43d7e4999edrow17_col17,#T_a56861bd_28c9_11ec_894b_d43d7e4999edrow18_col18,#T_a56861bd_28c9_11ec_894b_d43d7e4999edrow19_col19,#T_a56861bd_28c9_11ec_894b_d43d7e4999edrow20_col20,#T_a56861bd_28c9_11ec_894b_d43d7e4999edrow21_col21,#T_a56861bd_28c9_11ec_894b_d43d7e4999edrow22_col22,#T_a56861bd_28c9_11ec_894b_d43d7e4999edrow23_col23,#T_a56861bd_28c9_11ec_894b_d43d7e4999edrow24_col24,#T_a56861bd_28c9_11ec_894b_d43d7e4999edrow25_col25{\n",
       "            background-color:  #b40426;\n",
       "            color:  #f1f1f1;\n",
       "        }#T_a56861bd_28c9_11ec_894b_d43d7e4999edrow0_col1,#T_a56861bd_28c9_11ec_894b_d43d7e4999edrow1_col4,#T_a56861bd_28c9_11ec_894b_d43d7e4999edrow1_col6,#T_a56861bd_28c9_11ec_894b_d43d7e4999edrow2_col7,#T_a56861bd_28c9_11ec_894b_d43d7e4999edrow4_col1,#T_a56861bd_28c9_11ec_894b_d43d7e4999edrow6_col16,#T_a56861bd_28c9_11ec_894b_d43d7e4999edrow6_col17,#T_a56861bd_28c9_11ec_894b_d43d7e4999edrow8_col18,#T_a56861bd_28c9_11ec_894b_d43d7e4999edrow12_col2,#T_a56861bd_28c9_11ec_894b_d43d7e4999edrow12_col3,#T_a56861bd_28c9_11ec_894b_d43d7e4999edrow12_col13,#T_a56861bd_28c9_11ec_894b_d43d7e4999edrow12_col14,#T_a56861bd_28c9_11ec_894b_d43d7e4999edrow12_col24,#T_a56861bd_28c9_11ec_894b_d43d7e4999edrow13_col12,#T_a56861bd_28c9_11ec_894b_d43d7e4999edrow13_col15,#T_a56861bd_28c9_11ec_894b_d43d7e4999edrow14_col19,#T_a56861bd_28c9_11ec_894b_d43d7e4999edrow18_col0,#T_a56861bd_28c9_11ec_894b_d43d7e4999edrow18_col3,#T_a56861bd_28c9_11ec_894b_d43d7e4999edrow18_col5,#T_a56861bd_28c9_11ec_894b_d43d7e4999edrow18_col8,#T_a56861bd_28c9_11ec_894b_d43d7e4999edrow18_col9,#T_a56861bd_28c9_11ec_894b_d43d7e4999edrow18_col10,#T_a56861bd_28c9_11ec_894b_d43d7e4999edrow18_col11,#T_a56861bd_28c9_11ec_894b_d43d7e4999edrow18_col20,#T_a56861bd_28c9_11ec_894b_d43d7e4999edrow18_col21,#T_a56861bd_28c9_11ec_894b_d43d7e4999edrow18_col22,#T_a56861bd_28c9_11ec_894b_d43d7e4999edrow18_col23,#T_a56861bd_28c9_11ec_894b_d43d7e4999edrow18_col25{\n",
       "            background-color:  #3b4cc0;\n",
       "            color:  #f1f1f1;\n",
       "        }#T_a56861bd_28c9_11ec_894b_d43d7e4999edrow0_col2,#T_a56861bd_28c9_11ec_894b_d43d7e4999edrow3_col0,#T_a56861bd_28c9_11ec_894b_d43d7e4999edrow3_col20,#T_a56861bd_28c9_11ec_894b_d43d7e4999edrow4_col8,#T_a56861bd_28c9_11ec_894b_d43d7e4999edrow25_col3{\n",
       "            background-color:  #a7c5fe;\n",
       "            color:  #000000;\n",
       "        }#T_a56861bd_28c9_11ec_894b_d43d7e4999edrow0_col3,#T_a56861bd_28c9_11ec_894b_d43d7e4999edrow0_col21,#T_a56861bd_28c9_11ec_894b_d43d7e4999edrow3_col12,#T_a56861bd_28c9_11ec_894b_d43d7e4999edrow13_col21,#T_a56861bd_28c9_11ec_894b_d43d7e4999edrow20_col18{\n",
       "            background-color:  #9abbff;\n",
       "            color:  #000000;\n",
       "        }#T_a56861bd_28c9_11ec_894b_d43d7e4999edrow0_col4,#T_a56861bd_28c9_11ec_894b_d43d7e4999edrow6_col10,#T_a56861bd_28c9_11ec_894b_d43d7e4999edrow6_col14,#T_a56861bd_28c9_11ec_894b_d43d7e4999edrow7_col20,#T_a56861bd_28c9_11ec_894b_d43d7e4999edrow20_col9,#T_a56861bd_28c9_11ec_894b_d43d7e4999edrow23_col9{\n",
       "            background-color:  #6384eb;\n",
       "            color:  #000000;\n",
       "        }#T_a56861bd_28c9_11ec_894b_d43d7e4999edrow0_col5,#T_a56861bd_28c9_11ec_894b_d43d7e4999edrow1_col2,#T_a56861bd_28c9_11ec_894b_d43d7e4999edrow2_col17,#T_a56861bd_28c9_11ec_894b_d43d7e4999edrow3_col19,#T_a56861bd_28c9_11ec_894b_d43d7e4999edrow4_col16,#T_a56861bd_28c9_11ec_894b_d43d7e4999edrow4_col17,#T_a56861bd_28c9_11ec_894b_d43d7e4999edrow13_col6,#T_a56861bd_28c9_11ec_894b_d43d7e4999edrow15_col5,#T_a56861bd_28c9_11ec_894b_d43d7e4999edrow17_col19,#T_a56861bd_28c9_11ec_894b_d43d7e4999edrow22_col7,#T_a56861bd_28c9_11ec_894b_d43d7e4999edrow25_col7,#T_a56861bd_28c9_11ec_894b_d43d7e4999edrow25_col19{\n",
       "            background-color:  #455cce;\n",
       "            color:  #f1f1f1;\n",
       "        }#T_a56861bd_28c9_11ec_894b_d43d7e4999edrow0_col6,#T_a56861bd_28c9_11ec_894b_d43d7e4999edrow1_col23,#T_a56861bd_28c9_11ec_894b_d43d7e4999edrow2_col6,#T_a56861bd_28c9_11ec_894b_d43d7e4999edrow7_col17,#T_a56861bd_28c9_11ec_894b_d43d7e4999edrow7_col22,#T_a56861bd_28c9_11ec_894b_d43d7e4999edrow8_col16,#T_a56861bd_28c9_11ec_894b_d43d7e4999edrow10_col2,#T_a56861bd_28c9_11ec_894b_d43d7e4999edrow12_col11,#T_a56861bd_28c9_11ec_894b_d43d7e4999edrow16_col15,#T_a56861bd_28c9_11ec_894b_d43d7e4999edrow17_col15,#T_a56861bd_28c9_11ec_894b_d43d7e4999edrow19_col25,#T_a56861bd_28c9_11ec_894b_d43d7e4999edrow22_col16,#T_a56861bd_28c9_11ec_894b_d43d7e4999edrow23_col15{\n",
       "            background-color:  #4c66d6;\n",
       "            color:  #000000;\n",
       "        }#T_a56861bd_28c9_11ec_894b_d43d7e4999edrow0_col7,#T_a56861bd_28c9_11ec_894b_d43d7e4999edrow12_col20,#T_a56861bd_28c9_11ec_894b_d43d7e4999edrow18_col2,#T_a56861bd_28c9_11ec_894b_d43d7e4999edrow18_col24{\n",
       "            background-color:  #3c4ec2;\n",
       "            color:  #f1f1f1;\n",
       "        }#T_a56861bd_28c9_11ec_894b_d43d7e4999edrow0_col8,#T_a56861bd_28c9_11ec_894b_d43d7e4999edrow8_col11{\n",
       "            background-color:  #c7d7f0;\n",
       "            color:  #000000;\n",
       "        }#T_a56861bd_28c9_11ec_894b_d43d7e4999edrow0_col9,#T_a56861bd_28c9_11ec_894b_d43d7e4999edrow13_col0,#T_a56861bd_28c9_11ec_894b_d43d7e4999edrow14_col9,#T_a56861bd_28c9_11ec_894b_d43d7e4999edrow19_col0,#T_a56861bd_28c9_11ec_894b_d43d7e4999edrow21_col10{\n",
       "            background-color:  #6687ed;\n",
       "            color:  #000000;\n",
       "        }#T_a56861bd_28c9_11ec_894b_d43d7e4999edrow0_col10,#T_a56861bd_28c9_11ec_894b_d43d7e4999edrow9_col14,#T_a56861bd_28c9_11ec_894b_d43d7e4999edrow15_col9{\n",
       "            background-color:  #7597f6;\n",
       "            color:  #000000;\n",
       "        }#T_a56861bd_28c9_11ec_894b_d43d7e4999edrow0_col11,#T_a56861bd_28c9_11ec_894b_d43d7e4999edrow3_col8,#T_a56861bd_28c9_11ec_894b_d43d7e4999edrow7_col18,#T_a56861bd_28c9_11ec_894b_d43d7e4999edrow9_col12,#T_a56861bd_28c9_11ec_894b_d43d7e4999edrow22_col8,#T_a56861bd_28c9_11ec_894b_d43d7e4999edrow24_col3{\n",
       "            background-color:  #c6d6f1;\n",
       "            color:  #000000;\n",
       "        }#T_a56861bd_28c9_11ec_894b_d43d7e4999edrow0_col12,#T_a56861bd_28c9_11ec_894b_d43d7e4999edrow7_col8,#T_a56861bd_28c9_11ec_894b_d43d7e4999edrow8_col10,#T_a56861bd_28c9_11ec_894b_d43d7e4999edrow11_col24,#T_a56861bd_28c9_11ec_894b_d43d7e4999edrow16_col12,#T_a56861bd_28c9_11ec_894b_d43d7e4999edrow17_col12,#T_a56861bd_28c9_11ec_894b_d43d7e4999edrow19_col8,#T_a56861bd_28c9_11ec_894b_d43d7e4999edrow20_col14{\n",
       "            background-color:  #adc9fd;\n",
       "            color:  #000000;\n",
       "        }#T_a56861bd_28c9_11ec_894b_d43d7e4999edrow0_col13,#T_a56861bd_28c9_11ec_894b_d43d7e4999edrow7_col12,#T_a56861bd_28c9_11ec_894b_d43d7e4999edrow17_col13,#T_a56861bd_28c9_11ec_894b_d43d7e4999edrow23_col24,#T_a56861bd_28c9_11ec_894b_d43d7e4999edrow24_col23{\n",
       "            background-color:  #b1cbfc;\n",
       "            color:  #000000;\n",
       "        }#T_a56861bd_28c9_11ec_894b_d43d7e4999edrow0_col14,#T_a56861bd_28c9_11ec_894b_d43d7e4999edrow0_col24,#T_a56861bd_28c9_11ec_894b_d43d7e4999edrow7_col11,#T_a56861bd_28c9_11ec_894b_d43d7e4999edrow8_col0,#T_a56861bd_28c9_11ec_894b_d43d7e4999edrow10_col11,#T_a56861bd_28c9_11ec_894b_d43d7e4999edrow10_col16,#T_a56861bd_28c9_11ec_894b_d43d7e4999edrow15_col4{\n",
       "            background-color:  #82a6fb;\n",
       "            color:  #000000;\n",
       "        }#T_a56861bd_28c9_11ec_894b_d43d7e4999edrow0_col15,#T_a56861bd_28c9_11ec_894b_d43d7e4999edrow5_col10,#T_a56861bd_28c9_11ec_894b_d43d7e4999edrow9_col1,#T_a56861bd_28c9_11ec_894b_d43d7e4999edrow9_col6,#T_a56861bd_28c9_11ec_894b_d43d7e4999edrow10_col6,#T_a56861bd_28c9_11ec_894b_d43d7e4999edrow11_col7,#T_a56861bd_28c9_11ec_894b_d43d7e4999edrow19_col21{\n",
       "            background-color:  #5d7ce6;\n",
       "            color:  #000000;\n",
       "        }#T_a56861bd_28c9_11ec_894b_d43d7e4999edrow0_col16,#T_a56861bd_28c9_11ec_894b_d43d7e4999edrow0_col17,#T_a56861bd_28c9_11ec_894b_d43d7e4999edrow8_col1,#T_a56861bd_28c9_11ec_894b_d43d7e4999edrow8_col19,#T_a56861bd_28c9_11ec_894b_d43d7e4999edrow11_col1,#T_a56861bd_28c9_11ec_894b_d43d7e4999edrow12_col23,#T_a56861bd_28c9_11ec_894b_d43d7e4999edrow20_col19,#T_a56861bd_28c9_11ec_894b_d43d7e4999edrow22_col19,#T_a56861bd_28c9_11ec_894b_d43d7e4999edrow24_col7{\n",
       "            background-color:  #4358cb;\n",
       "            color:  #f1f1f1;\n",
       "        }#T_a56861bd_28c9_11ec_894b_d43d7e4999edrow0_col18,#T_a56861bd_28c9_11ec_894b_d43d7e4999edrow8_col24{\n",
       "            background-color:  #90b2fe;\n",
       "            color:  #000000;\n",
       "        }#T_a56861bd_28c9_11ec_894b_d43d7e4999edrow0_col19,#T_a56861bd_28c9_11ec_894b_d43d7e4999edrow2_col15,#T_a56861bd_28c9_11ec_894b_d43d7e4999edrow4_col20,#T_a56861bd_28c9_11ec_894b_d43d7e4999edrow5_col15,#T_a56861bd_28c9_11ec_894b_d43d7e4999edrow7_col3,#T_a56861bd_28c9_11ec_894b_d43d7e4999edrow7_col16,#T_a56861bd_28c9_11ec_894b_d43d7e4999edrow12_col7,#T_a56861bd_28c9_11ec_894b_d43d7e4999edrow12_col16,#T_a56861bd_28c9_11ec_894b_d43d7e4999edrow12_col17,#T_a56861bd_28c9_11ec_894b_d43d7e4999edrow15_col24,#T_a56861bd_28c9_11ec_894b_d43d7e4999edrow16_col3,#T_a56861bd_28c9_11ec_894b_d43d7e4999edrow18_col19,#T_a56861bd_28c9_11ec_894b_d43d7e4999edrow19_col22,#T_a56861bd_28c9_11ec_894b_d43d7e4999edrow23_col16,#T_a56861bd_28c9_11ec_894b_d43d7e4999edrow23_col17,#T_a56861bd_28c9_11ec_894b_d43d7e4999edrow25_col16,#T_a56861bd_28c9_11ec_894b_d43d7e4999edrow25_col17{\n",
       "            background-color:  #4b64d5;\n",
       "            color:  #f1f1f1;\n",
       "        }#T_a56861bd_28c9_11ec_894b_d43d7e4999edrow0_col20,#T_a56861bd_28c9_11ec_894b_d43d7e4999edrow9_col11,#T_a56861bd_28c9_11ec_894b_d43d7e4999edrow13_col1,#T_a56861bd_28c9_11ec_894b_d43d7e4999edrow25_col20{\n",
       "            background-color:  #7b9ff9;\n",
       "            color:  #000000;\n",
       "        }#T_a56861bd_28c9_11ec_894b_d43d7e4999edrow0_col22,#T_a56861bd_28c9_11ec_894b_d43d7e4999edrow1_col14,#T_a56861bd_28c9_11ec_894b_d43d7e4999edrow3_col10,#T_a56861bd_28c9_11ec_894b_d43d7e4999edrow6_col9,#T_a56861bd_28c9_11ec_894b_d43d7e4999edrow7_col10,#T_a56861bd_28c9_11ec_894b_d43d7e4999edrow9_col20,#T_a56861bd_28c9_11ec_894b_d43d7e4999edrow14_col5,#T_a56861bd_28c9_11ec_894b_d43d7e4999edrow15_col7,#T_a56861bd_28c9_11ec_894b_d43d7e4999edrow15_col11{\n",
       "            background-color:  #5f7fe8;\n",
       "            color:  #000000;\n",
       "        }#T_a56861bd_28c9_11ec_894b_d43d7e4999edrow0_col23,#T_a56861bd_28c9_11ec_894b_d43d7e4999edrow0_col25,#T_a56861bd_28c9_11ec_894b_d43d7e4999edrow8_col2,#T_a56861bd_28c9_11ec_894b_d43d7e4999edrow8_col25,#T_a56861bd_28c9_11ec_894b_d43d7e4999edrow9_col23,#T_a56861bd_28c9_11ec_894b_d43d7e4999edrow10_col4,#T_a56861bd_28c9_11ec_894b_d43d7e4999edrow10_col24,#T_a56861bd_28c9_11ec_894b_d43d7e4999edrow13_col5,#T_a56861bd_28c9_11ec_894b_d43d7e4999edrow16_col1,#T_a56861bd_28c9_11ec_894b_d43d7e4999edrow16_col21,#T_a56861bd_28c9_11ec_894b_d43d7e4999edrow17_col1,#T_a56861bd_28c9_11ec_894b_d43d7e4999edrow17_col21,#T_a56861bd_28c9_11ec_894b_d43d7e4999edrow25_col10{\n",
       "            background-color:  #6282ea;\n",
       "            color:  #000000;\n",
       "        }#T_a56861bd_28c9_11ec_894b_d43d7e4999edrow1_col0,#T_a56861bd_28c9_11ec_894b_d43d7e4999edrow12_col22,#T_a56861bd_28c9_11ec_894b_d43d7e4999edrow12_col25,#T_a56861bd_28c9_11ec_894b_d43d7e4999edrow24_col19{\n",
       "            background-color:  #3f53c6;\n",
       "            color:  #f1f1f1;\n",
       "        }#T_a56861bd_28c9_11ec_894b_d43d7e4999edrow1_col3,#T_a56861bd_28c9_11ec_894b_d43d7e4999edrow4_col5,#T_a56861bd_28c9_11ec_894b_d43d7e4999edrow4_col22,#T_a56861bd_28c9_11ec_894b_d43d7e4999edrow5_col1,#T_a56861bd_28c9_11ec_894b_d43d7e4999edrow9_col7,#T_a56861bd_28c9_11ec_894b_d43d7e4999edrow11_col15,#T_a56861bd_28c9_11ec_894b_d43d7e4999edrow12_col1,#T_a56861bd_28c9_11ec_894b_d43d7e4999edrow16_col2,#T_a56861bd_28c9_11ec_894b_d43d7e4999edrow24_col15,#T_a56861bd_28c9_11ec_894b_d43d7e4999edrow24_col16,#T_a56861bd_28c9_11ec_894b_d43d7e4999edrow24_col17{\n",
       "            background-color:  #4961d2;\n",
       "            color:  #f1f1f1;\n",
       "        }#T_a56861bd_28c9_11ec_894b_d43d7e4999edrow1_col5,#T_a56861bd_28c9_11ec_894b_d43d7e4999edrow1_col19,#T_a56861bd_28c9_11ec_894b_d43d7e4999edrow12_col21,#T_a56861bd_28c9_11ec_894b_d43d7e4999edrow18_col14{\n",
       "            background-color:  #3d50c3;\n",
       "            color:  #f1f1f1;\n",
       "        }#T_a56861bd_28c9_11ec_894b_d43d7e4999edrow1_col7,#T_a56861bd_28c9_11ec_894b_d43d7e4999edrow3_col5,#T_a56861bd_28c9_11ec_894b_d43d7e4999edrow5_col0,#T_a56861bd_28c9_11ec_894b_d43d7e4999edrow6_col23,#T_a56861bd_28c9_11ec_894b_d43d7e4999edrow15_col14,#T_a56861bd_28c9_11ec_894b_d43d7e4999edrow16_col4,#T_a56861bd_28c9_11ec_894b_d43d7e4999edrow17_col4,#T_a56861bd_28c9_11ec_894b_d43d7e4999edrow22_col1,#T_a56861bd_28c9_11ec_894b_d43d7e4999edrow22_col4{\n",
       "            background-color:  #5673e0;\n",
       "            color:  #000000;\n",
       "        }#T_a56861bd_28c9_11ec_894b_d43d7e4999edrow1_col8,#T_a56861bd_28c9_11ec_894b_d43d7e4999edrow1_col12,#T_a56861bd_28c9_11ec_894b_d43d7e4999edrow4_col13,#T_a56861bd_28c9_11ec_894b_d43d7e4999edrow8_col12,#T_a56861bd_28c9_11ec_894b_d43d7e4999edrow14_col20,#T_a56861bd_28c9_11ec_894b_d43d7e4999edrow15_col8{\n",
       "            background-color:  #9dbdff;\n",
       "            color:  #000000;\n",
       "        }#T_a56861bd_28c9_11ec_894b_d43d7e4999edrow1_col9,#T_a56861bd_28c9_11ec_894b_d43d7e4999edrow1_col10,#T_a56861bd_28c9_11ec_894b_d43d7e4999edrow5_col6,#T_a56861bd_28c9_11ec_894b_d43d7e4999edrow5_col9,#T_a56861bd_28c9_11ec_894b_d43d7e4999edrow9_col19,#T_a56861bd_28c9_11ec_894b_d43d7e4999edrow11_col4,#T_a56861bd_28c9_11ec_894b_d43d7e4999edrow11_col6,#T_a56861bd_28c9_11ec_894b_d43d7e4999edrow16_col0,#T_a56861bd_28c9_11ec_894b_d43d7e4999edrow16_col20,#T_a56861bd_28c9_11ec_894b_d43d7e4999edrow17_col20,#T_a56861bd_28c9_11ec_894b_d43d7e4999edrow24_col1,#T_a56861bd_28c9_11ec_894b_d43d7e4999edrow25_col9{\n",
       "            background-color:  #5a78e4;\n",
       "            color:  #000000;\n",
       "        }#T_a56861bd_28c9_11ec_894b_d43d7e4999edrow1_col11,#T_a56861bd_28c9_11ec_894b_d43d7e4999edrow2_col1,#T_a56861bd_28c9_11ec_894b_d43d7e4999edrow2_col9,#T_a56861bd_28c9_11ec_894b_d43d7e4999edrow3_col1,#T_a56861bd_28c9_11ec_894b_d43d7e4999edrow5_col4,#T_a56861bd_28c9_11ec_894b_d43d7e4999edrow6_col19,#T_a56861bd_28c9_11ec_894b_d43d7e4999edrow14_col4,#T_a56861bd_28c9_11ec_894b_d43d7e4999edrow22_col6{\n",
       "            background-color:  #5470de;\n",
       "            color:  #000000;\n",
       "        }#T_a56861bd_28c9_11ec_894b_d43d7e4999edrow1_col13{\n",
       "            background-color:  #c3d5f4;\n",
       "            color:  #000000;\n",
       "        }#T_a56861bd_28c9_11ec_894b_d43d7e4999edrow1_col15,#T_a56861bd_28c9_11ec_894b_d43d7e4999edrow1_col16,#T_a56861bd_28c9_11ec_894b_d43d7e4999edrow4_col19,#T_a56861bd_28c9_11ec_894b_d43d7e4999edrow4_col24,#T_a56861bd_28c9_11ec_894b_d43d7e4999edrow6_col20,#T_a56861bd_28c9_11ec_894b_d43d7e4999edrow9_col5,#T_a56861bd_28c9_11ec_894b_d43d7e4999edrow10_col25,#T_a56861bd_28c9_11ec_894b_d43d7e4999edrow15_col21,#T_a56861bd_28c9_11ec_894b_d43d7e4999edrow19_col3,#T_a56861bd_28c9_11ec_894b_d43d7e4999edrow19_col7,#T_a56861bd_28c9_11ec_894b_d43d7e4999edrow20_col16,#T_a56861bd_28c9_11ec_894b_d43d7e4999edrow20_col17,#T_a56861bd_28c9_11ec_894b_d43d7e4999edrow22_col15,#T_a56861bd_28c9_11ec_894b_d43d7e4999edrow23_col1{\n",
       "            background-color:  #506bda;\n",
       "            color:  #000000;\n",
       "        }#T_a56861bd_28c9_11ec_894b_d43d7e4999edrow1_col17,#T_a56861bd_28c9_11ec_894b_d43d7e4999edrow1_col20,#T_a56861bd_28c9_11ec_894b_d43d7e4999edrow2_col5,#T_a56861bd_28c9_11ec_894b_d43d7e4999edrow6_col24,#T_a56861bd_28c9_11ec_894b_d43d7e4999edrow8_col4,#T_a56861bd_28c9_11ec_894b_d43d7e4999edrow13_col16,#T_a56861bd_28c9_11ec_894b_d43d7e4999edrow13_col17,#T_a56861bd_28c9_11ec_894b_d43d7e4999edrow16_col22,#T_a56861bd_28c9_11ec_894b_d43d7e4999edrow17_col22,#T_a56861bd_28c9_11ec_894b_d43d7e4999edrow19_col24,#T_a56861bd_28c9_11ec_894b_d43d7e4999edrow20_col4{\n",
       "            background-color:  #516ddb;\n",
       "            color:  #000000;\n",
       "        }#T_a56861bd_28c9_11ec_894b_d43d7e4999edrow1_col18,#T_a56861bd_28c9_11ec_894b_d43d7e4999edrow19_col12{\n",
       "            background-color:  #f59c7d;\n",
       "            color:  #000000;\n",
       "        }#T_a56861bd_28c9_11ec_894b_d43d7e4999edrow1_col21,#T_a56861bd_28c9_11ec_894b_d43d7e4999edrow2_col4,#T_a56861bd_28c9_11ec_894b_d43d7e4999edrow4_col23,#T_a56861bd_28c9_11ec_894b_d43d7e4999edrow6_col5,#T_a56861bd_28c9_11ec_894b_d43d7e4999edrow7_col5,#T_a56861bd_28c9_11ec_894b_d43d7e4999edrow10_col3,#T_a56861bd_28c9_11ec_894b_d43d7e4999edrow14_col1,#T_a56861bd_28c9_11ec_894b_d43d7e4999edrow14_col6,#T_a56861bd_28c9_11ec_894b_d43d7e4999edrow16_col5,#T_a56861bd_28c9_11ec_894b_d43d7e4999edrow17_col5,#T_a56861bd_28c9_11ec_894b_d43d7e4999edrow19_col1,#T_a56861bd_28c9_11ec_894b_d43d7e4999edrow19_col20,#T_a56861bd_28c9_11ec_894b_d43d7e4999edrow19_col23,#T_a56861bd_28c9_11ec_894b_d43d7e4999edrow20_col6,#T_a56861bd_28c9_11ec_894b_d43d7e4999edrow24_col4{\n",
       "            background-color:  #536edd;\n",
       "            color:  #000000;\n",
       "        }#T_a56861bd_28c9_11ec_894b_d43d7e4999edrow1_col22,#T_a56861bd_28c9_11ec_894b_d43d7e4999edrow5_col7,#T_a56861bd_28c9_11ec_894b_d43d7e4999edrow6_col22,#T_a56861bd_28c9_11ec_894b_d43d7e4999edrow6_col25,#T_a56861bd_28c9_11ec_894b_d43d7e4999edrow7_col25,#T_a56861bd_28c9_11ec_894b_d43d7e4999edrow13_col7,#T_a56861bd_28c9_11ec_894b_d43d7e4999edrow13_col9,#T_a56861bd_28c9_11ec_894b_d43d7e4999edrow17_col3,#T_a56861bd_28c9_11ec_894b_d43d7e4999edrow19_col16,#T_a56861bd_28c9_11ec_894b_d43d7e4999edrow19_col17,#T_a56861bd_28c9_11ec_894b_d43d7e4999edrow21_col1{\n",
       "            background-color:  #4a63d3;\n",
       "            color:  #f1f1f1;\n",
       "        }#T_a56861bd_28c9_11ec_894b_d43d7e4999edrow1_col24,#T_a56861bd_28c9_11ec_894b_d43d7e4999edrow3_col9,#T_a56861bd_28c9_11ec_894b_d43d7e4999edrow4_col21,#T_a56861bd_28c9_11ec_894b_d43d7e4999edrow5_col3,#T_a56861bd_28c9_11ec_894b_d43d7e4999edrow7_col23,#T_a56861bd_28c9_11ec_894b_d43d7e4999edrow10_col1,#T_a56861bd_28c9_11ec_894b_d43d7e4999edrow10_col22,#T_a56861bd_28c9_11ec_894b_d43d7e4999edrow16_col24,#T_a56861bd_28c9_11ec_894b_d43d7e4999edrow17_col24{\n",
       "            background-color:  #5875e1;\n",
       "            color:  #000000;\n",
       "        }#T_a56861bd_28c9_11ec_894b_d43d7e4999edrow1_col25,#T_a56861bd_28c9_11ec_894b_d43d7e4999edrow7_col2,#T_a56861bd_28c9_11ec_894b_d43d7e4999edrow15_col16,#T_a56861bd_28c9_11ec_894b_d43d7e4999edrow15_col17,#T_a56861bd_28c9_11ec_894b_d43d7e4999edrow21_col7,#T_a56861bd_28c9_11ec_894b_d43d7e4999edrow23_col19{\n",
       "            background-color:  #4055c8;\n",
       "            color:  #f1f1f1;\n",
       "        }#T_a56861bd_28c9_11ec_894b_d43d7e4999edrow2_col0,#T_a56861bd_28c9_11ec_894b_d43d7e4999edrow12_col18{\n",
       "            background-color:  #b7cff9;\n",
       "            color:  #000000;\n",
       "        }#T_a56861bd_28c9_11ec_894b_d43d7e4999edrow2_col3{\n",
       "            background-color:  #f6a586;\n",
       "            color:  #000000;\n",
       "        }#T_a56861bd_28c9_11ec_894b_d43d7e4999edrow2_col8,#T_a56861bd_28c9_11ec_894b_d43d7e4999edrow11_col0,#T_a56861bd_28c9_11ec_894b_d43d7e4999edrow25_col8{\n",
       "            background-color:  #bfd3f6;\n",
       "            color:  #000000;\n",
       "        }#T_a56861bd_28c9_11ec_894b_d43d7e4999edrow2_col10,#T_a56861bd_28c9_11ec_894b_d43d7e4999edrow4_col9,#T_a56861bd_28c9_11ec_894b_d43d7e4999edrow7_col21,#T_a56861bd_28c9_11ec_894b_d43d7e4999edrow21_col9,#T_a56861bd_28c9_11ec_894b_d43d7e4999edrow23_col2{\n",
       "            background-color:  #5e7de7;\n",
       "            color:  #000000;\n",
       "        }#T_a56861bd_28c9_11ec_894b_d43d7e4999edrow2_col11,#T_a56861bd_28c9_11ec_894b_d43d7e4999edrow3_col24,#T_a56861bd_28c9_11ec_894b_d43d7e4999edrow15_col18{\n",
       "            background-color:  #cbd8ee;\n",
       "            color:  #000000;\n",
       "        }#T_a56861bd_28c9_11ec_894b_d43d7e4999edrow2_col12,#T_a56861bd_28c9_11ec_894b_d43d7e4999edrow3_col18,#T_a56861bd_28c9_11ec_894b_d43d7e4999edrow6_col13{\n",
       "            background-color:  #9ebeff;\n",
       "            color:  #000000;\n",
       "        }#T_a56861bd_28c9_11ec_894b_d43d7e4999edrow2_col13,#T_a56861bd_28c9_11ec_894b_d43d7e4999edrow8_col13,#T_a56861bd_28c9_11ec_894b_d43d7e4999edrow23_col13{\n",
       "            background-color:  #c1d4f4;\n",
       "            color:  #000000;\n",
       "        }#T_a56861bd_28c9_11ec_894b_d43d7e4999edrow2_col14,#T_a56861bd_28c9_11ec_894b_d43d7e4999edrow3_col22,#T_a56861bd_28c9_11ec_894b_d43d7e4999edrow24_col0,#T_a56861bd_28c9_11ec_894b_d43d7e4999edrow24_col25{\n",
       "            background-color:  #89acfd;\n",
       "            color:  #000000;\n",
       "        }#T_a56861bd_28c9_11ec_894b_d43d7e4999edrow2_col16,#T_a56861bd_28c9_11ec_894b_d43d7e4999edrow2_col19,#T_a56861bd_28c9_11ec_894b_d43d7e4999edrow4_col25,#T_a56861bd_28c9_11ec_894b_d43d7e4999edrow6_col3,#T_a56861bd_28c9_11ec_894b_d43d7e4999edrow11_col19,#T_a56861bd_28c9_11ec_894b_d43d7e4999edrow14_col7,#T_a56861bd_28c9_11ec_894b_d43d7e4999edrow15_col20,#T_a56861bd_28c9_11ec_894b_d43d7e4999edrow16_col19,#T_a56861bd_28c9_11ec_894b_d43d7e4999edrow17_col6,#T_a56861bd_28c9_11ec_894b_d43d7e4999edrow23_col7{\n",
       "            background-color:  #465ecf;\n",
       "            color:  #f1f1f1;\n",
       "        }#T_a56861bd_28c9_11ec_894b_d43d7e4999edrow2_col18,#T_a56861bd_28c9_11ec_894b_d43d7e4999edrow5_col12,#T_a56861bd_28c9_11ec_894b_d43d7e4999edrow25_col12,#T_a56861bd_28c9_11ec_894b_d43d7e4999edrow25_col18{\n",
       "            background-color:  #a2c1ff;\n",
       "            color:  #000000;\n",
       "        }#T_a56861bd_28c9_11ec_894b_d43d7e4999edrow2_col20,#T_a56861bd_28c9_11ec_894b_d43d7e4999edrow3_col14,#T_a56861bd_28c9_11ec_894b_d43d7e4999edrow13_col19,#T_a56861bd_28c9_11ec_894b_d43d7e4999edrow16_col10,#T_a56861bd_28c9_11ec_894b_d43d7e4999edrow25_col11,#T_a56861bd_28c9_11ec_894b_d43d7e4999edrow25_col24{\n",
       "            background-color:  #94b6ff;\n",
       "            color:  #000000;\n",
       "        }#T_a56861bd_28c9_11ec_894b_d43d7e4999edrow2_col21,#T_a56861bd_28c9_11ec_894b_d43d7e4999edrow14_col21{\n",
       "            background-color:  #f7bca1;\n",
       "            color:  #000000;\n",
       "        }#T_a56861bd_28c9_11ec_894b_d43d7e4999edrow2_col22,#T_a56861bd_28c9_11ec_894b_d43d7e4999edrow20_col0,#T_a56861bd_28c9_11ec_894b_d43d7e4999edrow20_col23{\n",
       "            background-color:  #86a9fc;\n",
       "            color:  #000000;\n",
       "        }#T_a56861bd_28c9_11ec_894b_d43d7e4999edrow2_col23,#T_a56861bd_28c9_11ec_894b_d43d7e4999edrow4_col0,#T_a56861bd_28c9_11ec_894b_d43d7e4999edrow4_col7,#T_a56861bd_28c9_11ec_894b_d43d7e4999edrow9_col21,#T_a56861bd_28c9_11ec_894b_d43d7e4999edrow11_col9,#T_a56861bd_28c9_11ec_894b_d43d7e4999edrow15_col0,#T_a56861bd_28c9_11ec_894b_d43d7e4999edrow18_col7{\n",
       "            background-color:  #688aef;\n",
       "            color:  #000000;\n",
       "        }#T_a56861bd_28c9_11ec_894b_d43d7e4999edrow2_col24,#T_a56861bd_28c9_11ec_894b_d43d7e4999edrow23_col8{\n",
       "            background-color:  #cfdaea;\n",
       "            color:  #000000;\n",
       "        }#T_a56861bd_28c9_11ec_894b_d43d7e4999edrow2_col25,#T_a56861bd_28c9_11ec_894b_d43d7e4999edrow4_col12,#T_a56861bd_28c9_11ec_894b_d43d7e4999edrow6_col12,#T_a56861bd_28c9_11ec_894b_d43d7e4999edrow14_col11,#T_a56861bd_28c9_11ec_894b_d43d7e4999edrow22_col13,#T_a56861bd_28c9_11ec_894b_d43d7e4999edrow24_col11,#T_a56861bd_28c9_11ec_894b_d43d7e4999edrow25_col2,#T_a56861bd_28c9_11ec_894b_d43d7e4999edrow25_col23{\n",
       "            background-color:  #bcd2f7;\n",
       "            color:  #000000;\n",
       "        }#T_a56861bd_28c9_11ec_894b_d43d7e4999edrow3_col2,#T_a56861bd_28c9_11ec_894b_d43d7e4999edrow21_col24{\n",
       "            background-color:  #f7a688;\n",
       "            color:  #000000;\n",
       "        }#T_a56861bd_28c9_11ec_894b_d43d7e4999edrow3_col4,#T_a56861bd_28c9_11ec_894b_d43d7e4999edrow5_col2,#T_a56861bd_28c9_11ec_894b_d43d7e4999edrow7_col19,#T_a56861bd_28c9_11ec_894b_d43d7e4999edrow8_col17,#T_a56861bd_28c9_11ec_894b_d43d7e4999edrow9_col3,#T_a56861bd_28c9_11ec_894b_d43d7e4999edrow10_col5,#T_a56861bd_28c9_11ec_894b_d43d7e4999edrow11_col16,#T_a56861bd_28c9_11ec_894b_d43d7e4999edrow15_col23,#T_a56861bd_28c9_11ec_894b_d43d7e4999edrow21_col6,#T_a56861bd_28c9_11ec_894b_d43d7e4999edrow24_col6,#T_a56861bd_28c9_11ec_894b_d43d7e4999edrow25_col1{\n",
       "            background-color:  #4f69d9;\n",
       "            color:  #000000;\n",
       "        }#T_a56861bd_28c9_11ec_894b_d43d7e4999edrow3_col6,#T_a56861bd_28c9_11ec_894b_d43d7e4999edrow5_col16,#T_a56861bd_28c9_11ec_894b_d43d7e4999edrow5_col17,#T_a56861bd_28c9_11ec_894b_d43d7e4999edrow9_col25,#T_a56861bd_28c9_11ec_894b_d43d7e4999edrow11_col17,#T_a56861bd_28c9_11ec_894b_d43d7e4999edrow13_col10,#T_a56861bd_28c9_11ec_894b_d43d7e4999edrow16_col25,#T_a56861bd_28c9_11ec_894b_d43d7e4999edrow17_col25,#T_a56861bd_28c9_11ec_894b_d43d7e4999edrow19_col2,#T_a56861bd_28c9_11ec_894b_d43d7e4999edrow19_col5,#T_a56861bd_28c9_11ec_894b_d43d7e4999edrow21_col4,#T_a56861bd_28c9_11ec_894b_d43d7e4999edrow22_col17,#T_a56861bd_28c9_11ec_894b_d43d7e4999edrow25_col15{\n",
       "            background-color:  #4e68d8;\n",
       "            color:  #000000;\n",
       "        }#T_a56861bd_28c9_11ec_894b_d43d7e4999edrow3_col7,#T_a56861bd_28c9_11ec_894b_d43d7e4999edrow6_col2,#T_a56861bd_28c9_11ec_894b_d43d7e4999edrow8_col7,#T_a56861bd_28c9_11ec_894b_d43d7e4999edrow12_col5,#T_a56861bd_28c9_11ec_894b_d43d7e4999edrow15_col2,#T_a56861bd_28c9_11ec_894b_d43d7e4999edrow15_col3,#T_a56861bd_28c9_11ec_894b_d43d7e4999edrow21_col15{\n",
       "            background-color:  #4257c9;\n",
       "            color:  #f1f1f1;\n",
       "        }#T_a56861bd_28c9_11ec_894b_d43d7e4999edrow3_col11,#T_a56861bd_28c9_11ec_894b_d43d7e4999edrow14_col13{\n",
       "            background-color:  #d5dbe5;\n",
       "            color:  #000000;\n",
       "        }#T_a56861bd_28c9_11ec_894b_d43d7e4999edrow3_col13,#T_a56861bd_28c9_11ec_894b_d43d7e4999edrow13_col8{\n",
       "            background-color:  #c4d5f3;\n",
       "            color:  #000000;\n",
       "        }#T_a56861bd_28c9_11ec_894b_d43d7e4999edrow3_col15,#T_a56861bd_28c9_11ec_894b_d43d7e4999edrow9_col2,#T_a56861bd_28c9_11ec_894b_d43d7e4999edrow10_col7,#T_a56861bd_28c9_11ec_894b_d43d7e4999edrow13_col4,#T_a56861bd_28c9_11ec_894b_d43d7e4999edrow14_col16,#T_a56861bd_28c9_11ec_894b_d43d7e4999edrow14_col17,#T_a56861bd_28c9_11ec_894b_d43d7e4999edrow15_col22,#T_a56861bd_28c9_11ec_894b_d43d7e4999edrow16_col6,#T_a56861bd_28c9_11ec_894b_d43d7e4999edrow16_col7,#T_a56861bd_28c9_11ec_894b_d43d7e4999edrow17_col2,#T_a56861bd_28c9_11ec_894b_d43d7e4999edrow17_col7,#T_a56861bd_28c9_11ec_894b_d43d7e4999edrow20_col15,#T_a56861bd_28c9_11ec_894b_d43d7e4999edrow21_col16,#T_a56861bd_28c9_11ec_894b_d43d7e4999edrow21_col17{\n",
       "            background-color:  #485fd1;\n",
       "            color:  #f1f1f1;\n",
       "        }#T_a56861bd_28c9_11ec_894b_d43d7e4999edrow3_col16,#T_a56861bd_28c9_11ec_894b_d43d7e4999edrow3_col17,#T_a56861bd_28c9_11ec_894b_d43d7e4999edrow4_col2,#T_a56861bd_28c9_11ec_894b_d43d7e4999edrow4_col3,#T_a56861bd_28c9_11ec_894b_d43d7e4999edrow5_col19,#T_a56861bd_28c9_11ec_894b_d43d7e4999edrow14_col15,#T_a56861bd_28c9_11ec_894b_d43d7e4999edrow15_col25,#T_a56861bd_28c9_11ec_894b_d43d7e4999edrow18_col16,#T_a56861bd_28c9_11ec_894b_d43d7e4999edrow18_col17{\n",
       "            background-color:  #445acc;\n",
       "            color:  #f1f1f1;\n",
       "        }#T_a56861bd_28c9_11ec_894b_d43d7e4999edrow3_col21,#T_a56861bd_28c9_11ec_894b_d43d7e4999edrow11_col8{\n",
       "            background-color:  #ead4c8;\n",
       "            color:  #000000;\n",
       "        }#T_a56861bd_28c9_11ec_894b_d43d7e4999edrow3_col23,#T_a56861bd_28c9_11ec_894b_d43d7e4999edrow6_col11,#T_a56861bd_28c9_11ec_894b_d43d7e4999edrow10_col15,#T_a56861bd_28c9_11ec_894b_d43d7e4999edrow17_col11,#T_a56861bd_28c9_11ec_894b_d43d7e4999edrow22_col0{\n",
       "            background-color:  #7093f3;\n",
       "            color:  #000000;\n",
       "        }#T_a56861bd_28c9_11ec_894b_d43d7e4999edrow3_col25,#T_a56861bd_28c9_11ec_894b_d43d7e4999edrow8_col9,#T_a56861bd_28c9_11ec_894b_d43d7e4999edrow13_col14,#T_a56861bd_28c9_11ec_894b_d43d7e4999edrow20_col3,#T_a56861bd_28c9_11ec_894b_d43d7e4999edrow24_col20{\n",
       "            background-color:  #a3c2fe;\n",
       "            color:  #000000;\n",
       "        }#T_a56861bd_28c9_11ec_894b_d43d7e4999edrow4_col6,#T_a56861bd_28c9_11ec_894b_d43d7e4999edrow20_col12,#T_a56861bd_28c9_11ec_894b_d43d7e4999edrow23_col11,#T_a56861bd_28c9_11ec_894b_d43d7e4999edrow24_col18{\n",
       "            background-color:  #98b9ff;\n",
       "            color:  #000000;\n",
       "        }#T_a56861bd_28c9_11ec_894b_d43d7e4999edrow4_col10,#T_a56861bd_28c9_11ec_894b_d43d7e4999edrow5_col24,#T_a56861bd_28c9_11ec_894b_d43d7e4999edrow10_col23,#T_a56861bd_28c9_11ec_894b_d43d7e4999edrow13_col22,#T_a56861bd_28c9_11ec_894b_d43d7e4999edrow14_col25,#T_a56861bd_28c9_11ec_894b_d43d7e4999edrow16_col14,#T_a56861bd_28c9_11ec_894b_d43d7e4999edrow17_col14,#T_a56861bd_28c9_11ec_894b_d43d7e4999edrow19_col4,#T_a56861bd_28c9_11ec_894b_d43d7e4999edrow19_col6{\n",
       "            background-color:  #6485ec;\n",
       "            color:  #000000;\n",
       "        }#T_a56861bd_28c9_11ec_894b_d43d7e4999edrow4_col11,#T_a56861bd_28c9_11ec_894b_d43d7e4999edrow19_col15,#T_a56861bd_28c9_11ec_894b_d43d7e4999edrow23_col0{\n",
       "            background-color:  #6b8df0;\n",
       "            color:  #000000;\n",
       "        }#T_a56861bd_28c9_11ec_894b_d43d7e4999edrow4_col14,#T_a56861bd_28c9_11ec_894b_d43d7e4999edrow9_col4,#T_a56861bd_28c9_11ec_894b_d43d7e4999edrow9_col24,#T_a56861bd_28c9_11ec_894b_d43d7e4999edrow10_col20,#T_a56861bd_28c9_11ec_894b_d43d7e4999edrow11_col5,#T_a56861bd_28c9_11ec_894b_d43d7e4999edrow12_col0,#T_a56861bd_28c9_11ec_894b_d43d7e4999edrow13_col25,#T_a56861bd_28c9_11ec_894b_d43d7e4999edrow22_col9,#T_a56861bd_28c9_11ec_894b_d43d7e4999edrow24_col9{\n",
       "            background-color:  #6180e9;\n",
       "            color:  #000000;\n",
       "        }#T_a56861bd_28c9_11ec_894b_d43d7e4999edrow4_col15,#T_a56861bd_28c9_11ec_894b_d43d7e4999edrow7_col4,#T_a56861bd_28c9_11ec_894b_d43d7e4999edrow14_col0,#T_a56861bd_28c9_11ec_894b_d43d7e4999edrow20_col22{\n",
       "            background-color:  #7da0f9;\n",
       "            color:  #000000;\n",
       "        }#T_a56861bd_28c9_11ec_894b_d43d7e4999edrow4_col18,#T_a56861bd_28c9_11ec_894b_d43d7e4999edrow22_col14{\n",
       "            background-color:  #bed2f6;\n",
       "            color:  #000000;\n",
       "        }#T_a56861bd_28c9_11ec_894b_d43d7e4999edrow5_col8{\n",
       "            background-color:  #c0d4f5;\n",
       "            color:  #000000;\n",
       "        }#T_a56861bd_28c9_11ec_894b_d43d7e4999edrow5_col11,#T_a56861bd_28c9_11ec_894b_d43d7e4999edrow12_col9,#T_a56861bd_28c9_11ec_894b_d43d7e4999edrow12_col15,#T_a56861bd_28c9_11ec_894b_d43d7e4999edrow18_col15{\n",
       "            background-color:  #7ea1fa;\n",
       "            color:  #000000;\n",
       "        }#T_a56861bd_28c9_11ec_894b_d43d7e4999edrow5_col13,#T_a56861bd_28c9_11ec_894b_d43d7e4999edrow20_col21{\n",
       "            background-color:  #bad0f8;\n",
       "            color:  #000000;\n",
       "        }#T_a56861bd_28c9_11ec_894b_d43d7e4999edrow5_col14,#T_a56861bd_28c9_11ec_894b_d43d7e4999edrow10_col0{\n",
       "            background-color:  #779af7;\n",
       "            color:  #000000;\n",
       "        }#T_a56861bd_28c9_11ec_894b_d43d7e4999edrow5_col18,#T_a56861bd_28c9_11ec_894b_d43d7e4999edrow10_col13,#T_a56861bd_28c9_11ec_894b_d43d7e4999edrow12_col8,#T_a56861bd_28c9_11ec_894b_d43d7e4999edrow22_col18{\n",
       "            background-color:  #9fbfff;\n",
       "            color:  #000000;\n",
       "        }#T_a56861bd_28c9_11ec_894b_d43d7e4999edrow5_col20,#T_a56861bd_28c9_11ec_894b_d43d7e4999edrow6_col7,#T_a56861bd_28c9_11ec_894b_d43d7e4999edrow8_col22,#T_a56861bd_28c9_11ec_894b_d43d7e4999edrow14_col2,#T_a56861bd_28c9_11ec_894b_d43d7e4999edrow18_col4{\n",
       "            background-color:  #6f92f3;\n",
       "            color:  #000000;\n",
       "        }#T_a56861bd_28c9_11ec_894b_d43d7e4999edrow5_col21{\n",
       "            background-color:  #f0cdbb;\n",
       "            color:  #000000;\n",
       "        }#T_a56861bd_28c9_11ec_894b_d43d7e4999edrow5_col22,#T_a56861bd_28c9_11ec_894b_d43d7e4999edrow20_col24,#T_a56861bd_28c9_11ec_894b_d43d7e4999edrow22_col5{\n",
       "            background-color:  #a6c4fe;\n",
       "            color:  #000000;\n",
       "        }#T_a56861bd_28c9_11ec_894b_d43d7e4999edrow5_col23,#T_a56861bd_28c9_11ec_894b_d43d7e4999edrow20_col8{\n",
       "            background-color:  #d3dbe7;\n",
       "            color:  #000000;\n",
       "        }#T_a56861bd_28c9_11ec_894b_d43d7e4999edrow5_col25{\n",
       "            background-color:  #edd2c3;\n",
       "            color:  #000000;\n",
       "        }#T_a56861bd_28c9_11ec_894b_d43d7e4999edrow6_col0,#T_a56861bd_28c9_11ec_894b_d43d7e4999edrow7_col0,#T_a56861bd_28c9_11ec_894b_d43d7e4999edrow7_col24,#T_a56861bd_28c9_11ec_894b_d43d7e4999edrow9_col22,#T_a56861bd_28c9_11ec_894b_d43d7e4999edrow15_col1,#T_a56861bd_28c9_11ec_894b_d43d7e4999edrow20_col7,#T_a56861bd_28c9_11ec_894b_d43d7e4999edrow23_col4,#T_a56861bd_28c9_11ec_894b_d43d7e4999edrow23_col6,#T_a56861bd_28c9_11ec_894b_d43d7e4999edrow25_col4,#T_a56861bd_28c9_11ec_894b_d43d7e4999edrow25_col6{\n",
       "            background-color:  #5572df;\n",
       "            color:  #000000;\n",
       "        }#T_a56861bd_28c9_11ec_894b_d43d7e4999edrow6_col1,#T_a56861bd_28c9_11ec_894b_d43d7e4999edrow8_col15,#T_a56861bd_28c9_11ec_894b_d43d7e4999edrow21_col19{\n",
       "            background-color:  #3e51c5;\n",
       "            color:  #f1f1f1;\n",
       "        }#T_a56861bd_28c9_11ec_894b_d43d7e4999edrow6_col4,#T_a56861bd_28c9_11ec_894b_d43d7e4999edrow13_col11,#T_a56861bd_28c9_11ec_894b_d43d7e4999edrow23_col12{\n",
       "            background-color:  #9bbcff;\n",
       "            color:  #000000;\n",
       "        }#T_a56861bd_28c9_11ec_894b_d43d7e4999edrow6_col8,#T_a56861bd_28c9_11ec_894b_d43d7e4999edrow19_col18,#T_a56861bd_28c9_11ec_894b_d43d7e4999edrow23_col25{\n",
       "            background-color:  #b3cdfb;\n",
       "            color:  #000000;\n",
       "        }#T_a56861bd_28c9_11ec_894b_d43d7e4999edrow6_col15,#T_a56861bd_28c9_11ec_894b_d43d7e4999edrow15_col6,#T_a56861bd_28c9_11ec_894b_d43d7e4999edrow16_col9{\n",
       "            background-color:  #8fb1fe;\n",
       "            color:  #000000;\n",
       "        }#T_a56861bd_28c9_11ec_894b_d43d7e4999edrow6_col18,#T_a56861bd_28c9_11ec_894b_d43d7e4999edrow22_col21{\n",
       "            background-color:  #f7b497;\n",
       "            color:  #000000;\n",
       "        }#T_a56861bd_28c9_11ec_894b_d43d7e4999edrow6_col21,#T_a56861bd_28c9_11ec_894b_d43d7e4999edrow7_col9,#T_a56861bd_28c9_11ec_894b_d43d7e4999edrow8_col6,#T_a56861bd_28c9_11ec_894b_d43d7e4999edrow15_col19,#T_a56861bd_28c9_11ec_894b_d43d7e4999edrow19_col14,#T_a56861bd_28c9_11ec_894b_d43d7e4999edrow24_col5{\n",
       "            background-color:  #5b7ae5;\n",
       "            color:  #000000;\n",
       "        }#T_a56861bd_28c9_11ec_894b_d43d7e4999edrow7_col1,#T_a56861bd_28c9_11ec_894b_d43d7e4999edrow13_col2,#T_a56861bd_28c9_11ec_894b_d43d7e4999edrow20_col5,#T_a56861bd_28c9_11ec_894b_d43d7e4999edrow20_col10,#T_a56861bd_28c9_11ec_894b_d43d7e4999edrow23_col3,#T_a56861bd_28c9_11ec_894b_d43d7e4999edrow23_col10{\n",
       "            background-color:  #6a8bef;\n",
       "            color:  #000000;\n",
       "        }#T_a56861bd_28c9_11ec_894b_d43d7e4999edrow7_col6,#T_a56861bd_28c9_11ec_894b_d43d7e4999edrow9_col17,#T_a56861bd_28c9_11ec_894b_d43d7e4999edrow10_col17,#T_a56861bd_28c9_11ec_894b_d43d7e4999edrow14_col3,#T_a56861bd_28c9_11ec_894b_d43d7e4999edrow25_col14{\n",
       "            background-color:  #80a3fa;\n",
       "            color:  #000000;\n",
       "        }#T_a56861bd_28c9_11ec_894b_d43d7e4999edrow7_col13{\n",
       "            background-color:  #afcafc;\n",
       "            color:  #000000;\n",
       "        }#T_a56861bd_28c9_11ec_894b_d43d7e4999edrow7_col14,#T_a56861bd_28c9_11ec_894b_d43d7e4999edrow8_col5,#T_a56861bd_28c9_11ec_894b_d43d7e4999edrow22_col10,#T_a56861bd_28c9_11ec_894b_d43d7e4999edrow24_col10{\n",
       "            background-color:  #6788ee;\n",
       "            color:  #000000;\n",
       "        }#T_a56861bd_28c9_11ec_894b_d43d7e4999edrow7_col15,#T_a56861bd_28c9_11ec_894b_d43d7e4999edrow9_col0,#T_a56861bd_28c9_11ec_894b_d43d7e4999edrow12_col6,#T_a56861bd_28c9_11ec_894b_d43d7e4999edrow19_col9,#T_a56861bd_28c9_11ec_894b_d43d7e4999edrow19_col11{\n",
       "            background-color:  #6e90f2;\n",
       "            color:  #000000;\n",
       "        }#T_a56861bd_28c9_11ec_894b_d43d7e4999edrow8_col3,#T_a56861bd_28c9_11ec_894b_d43d7e4999edrow9_col15,#T_a56861bd_28c9_11ec_894b_d43d7e4999edrow12_col4,#T_a56861bd_28c9_11ec_894b_d43d7e4999edrow13_col3,#T_a56861bd_28c9_11ec_894b_d43d7e4999edrow16_col11,#T_a56861bd_28c9_11ec_894b_d43d7e4999edrow19_col10{\n",
       "            background-color:  #7295f4;\n",
       "            color:  #000000;\n",
       "        }#T_a56861bd_28c9_11ec_894b_d43d7e4999edrow8_col14,#T_a56861bd_28c9_11ec_894b_d43d7e4999edrow18_col12{\n",
       "            background-color:  #b5cdfa;\n",
       "            color:  #000000;\n",
       "        }#T_a56861bd_28c9_11ec_894b_d43d7e4999edrow8_col20,#T_a56861bd_28c9_11ec_894b_d43d7e4999edrow21_col12,#T_a56861bd_28c9_11ec_894b_d43d7e4999edrow22_col3{\n",
       "            background-color:  #8badfd;\n",
       "            color:  #000000;\n",
       "        }#T_a56861bd_28c9_11ec_894b_d43d7e4999edrow8_col21{\n",
       "            background-color:  #a5c3fe;\n",
       "            color:  #000000;\n",
       "        }#T_a56861bd_28c9_11ec_894b_d43d7e4999edrow8_col23{\n",
       "            background-color:  #88abfd;\n",
       "            color:  #000000;\n",
       "        }#T_a56861bd_28c9_11ec_894b_d43d7e4999edrow9_col8,#T_a56861bd_28c9_11ec_894b_d43d7e4999edrow22_col24{\n",
       "            background-color:  #dedcdb;\n",
       "            color:  #000000;\n",
       "        }#T_a56861bd_28c9_11ec_894b_d43d7e4999edrow9_col10{\n",
       "            background-color:  #f39577;\n",
       "            color:  #000000;\n",
       "        }#T_a56861bd_28c9_11ec_894b_d43d7e4999edrow9_col13,#T_a56861bd_28c9_11ec_894b_d43d7e4999edrow22_col12{\n",
       "            background-color:  #a1c0ff;\n",
       "            color:  #000000;\n",
       "        }#T_a56861bd_28c9_11ec_894b_d43d7e4999edrow9_col16,#T_a56861bd_28c9_11ec_894b_d43d7e4999edrow12_col10{\n",
       "            background-color:  #81a4fb;\n",
       "            color:  #000000;\n",
       "        }#T_a56861bd_28c9_11ec_894b_d43d7e4999edrow9_col18,#T_a56861bd_28c9_11ec_894b_d43d7e4999edrow21_col0,#T_a56861bd_28c9_11ec_894b_d43d7e4999edrow23_col18{\n",
       "            background-color:  #97b8ff;\n",
       "            color:  #000000;\n",
       "        }#T_a56861bd_28c9_11ec_894b_d43d7e4999edrow10_col8,#T_a56861bd_28c9_11ec_894b_d43d7e4999edrow14_col8{\n",
       "            background-color:  #e1dad6;\n",
       "            color:  #000000;\n",
       "        }#T_a56861bd_28c9_11ec_894b_d43d7e4999edrow10_col9{\n",
       "            background-color:  #f39778;\n",
       "            color:  #000000;\n",
       "        }#T_a56861bd_28c9_11ec_894b_d43d7e4999edrow10_col12,#T_a56861bd_28c9_11ec_894b_d43d7e4999edrow11_col3,#T_a56861bd_28c9_11ec_894b_d43d7e4999edrow20_col13{\n",
       "            background-color:  #c5d6f2;\n",
       "            color:  #000000;\n",
       "        }#T_a56861bd_28c9_11ec_894b_d43d7e4999edrow10_col14,#T_a56861bd_28c9_11ec_894b_d43d7e4999edrow11_col25,#T_a56861bd_28c9_11ec_894b_d43d7e4999edrow13_col23,#T_a56861bd_28c9_11ec_894b_d43d7e4999edrow25_col0{\n",
       "            background-color:  #7699f6;\n",
       "            color:  #000000;\n",
       "        }#T_a56861bd_28c9_11ec_894b_d43d7e4999edrow10_col18,#T_a56861bd_28c9_11ec_894b_d43d7e4999edrow11_col12,#T_a56861bd_28c9_11ec_894b_d43d7e4999edrow17_col10{\n",
       "            background-color:  #92b4fe;\n",
       "            color:  #000000;\n",
       "        }#T_a56861bd_28c9_11ec_894b_d43d7e4999edrow10_col19,#T_a56861bd_28c9_11ec_894b_d43d7e4999edrow16_col23,#T_a56861bd_28c9_11ec_894b_d43d7e4999edrow17_col0,#T_a56861bd_28c9_11ec_894b_d43d7e4999edrow17_col23,#T_a56861bd_28c9_11ec_894b_d43d7e4999edrow20_col1{\n",
       "            background-color:  #5977e3;\n",
       "            color:  #000000;\n",
       "        }#T_a56861bd_28c9_11ec_894b_d43d7e4999edrow10_col21,#T_a56861bd_28c9_11ec_894b_d43d7e4999edrow14_col10{\n",
       "            background-color:  #6c8ff1;\n",
       "            color:  #000000;\n",
       "        }#T_a56861bd_28c9_11ec_894b_d43d7e4999edrow11_col2{\n",
       "            background-color:  #b6cefa;\n",
       "            color:  #000000;\n",
       "        }#T_a56861bd_28c9_11ec_894b_d43d7e4999edrow11_col10,#T_a56861bd_28c9_11ec_894b_d43d7e4999edrow20_col25{\n",
       "            background-color:  #7396f5;\n",
       "            color:  #000000;\n",
       "        }#T_a56861bd_28c9_11ec_894b_d43d7e4999edrow11_col13{\n",
       "            background-color:  #cdd9ec;\n",
       "            color:  #000000;\n",
       "        }#T_a56861bd_28c9_11ec_894b_d43d7e4999edrow11_col14{\n",
       "            background-color:  #b9d0f9;\n",
       "            color:  #000000;\n",
       "        }#T_a56861bd_28c9_11ec_894b_d43d7e4999edrow11_col18,#T_a56861bd_28c9_11ec_894b_d43d7e4999edrow11_col23,#T_a56861bd_28c9_11ec_894b_d43d7e4999edrow14_col12,#T_a56861bd_28c9_11ec_894b_d43d7e4999edrow22_col2{\n",
       "            background-color:  #85a8fc;\n",
       "            color:  #000000;\n",
       "        }#T_a56861bd_28c9_11ec_894b_d43d7e4999edrow11_col20{\n",
       "            background-color:  #f2cab5;\n",
       "            color:  #000000;\n",
       "        }#T_a56861bd_28c9_11ec_894b_d43d7e4999edrow11_col21,#T_a56861bd_28c9_11ec_894b_d43d7e4999edrow24_col13{\n",
       "            background-color:  #cad8ef;\n",
       "            color:  #000000;\n",
       "        }#T_a56861bd_28c9_11ec_894b_d43d7e4999edrow11_col22,#T_a56861bd_28c9_11ec_894b_d43d7e4999edrow13_col20,#T_a56861bd_28c9_11ec_894b_d43d7e4999edrow15_col10{\n",
       "            background-color:  #799cf8;\n",
       "            color:  #000000;\n",
       "        }#T_a56861bd_28c9_11ec_894b_d43d7e4999edrow12_col19,#T_a56861bd_28c9_11ec_894b_d43d7e4999edrow21_col2{\n",
       "            background-color:  #f5c4ac;\n",
       "            color:  #000000;\n",
       "        }#T_a56861bd_28c9_11ec_894b_d43d7e4999edrow13_col18,#T_a56861bd_28c9_11ec_894b_d43d7e4999edrow21_col20{\n",
       "            background-color:  #aec9fc;\n",
       "            color:  #000000;\n",
       "        }#T_a56861bd_28c9_11ec_894b_d43d7e4999edrow13_col24,#T_a56861bd_28c9_11ec_894b_d43d7e4999edrow22_col20,#T_a56861bd_28c9_11ec_894b_d43d7e4999edrow23_col20{\n",
       "            background-color:  #84a7fc;\n",
       "            color:  #000000;\n",
       "        }#T_a56861bd_28c9_11ec_894b_d43d7e4999edrow14_col18,#T_a56861bd_28c9_11ec_894b_d43d7e4999edrow21_col18{\n",
       "            background-color:  #8caffe;\n",
       "            color:  #000000;\n",
       "        }#T_a56861bd_28c9_11ec_894b_d43d7e4999edrow14_col22,#T_a56861bd_28c9_11ec_894b_d43d7e4999edrow17_col18,#T_a56861bd_28c9_11ec_894b_d43d7e4999edrow18_col13{\n",
       "            background-color:  #aac7fd;\n",
       "            color:  #000000;\n",
       "        }#T_a56861bd_28c9_11ec_894b_d43d7e4999edrow14_col23{\n",
       "            background-color:  #d8dce2;\n",
       "            color:  #000000;\n",
       "        }#T_a56861bd_28c9_11ec_894b_d43d7e4999edrow14_col24,#T_a56861bd_28c9_11ec_894b_d43d7e4999edrow21_col25{\n",
       "            background-color:  #f7b599;\n",
       "            color:  #000000;\n",
       "        }#T_a56861bd_28c9_11ec_894b_d43d7e4999edrow15_col12,#T_a56861bd_28c9_11ec_894b_d43d7e4999edrow24_col2{\n",
       "            background-color:  #c9d7f0;\n",
       "            color:  #000000;\n",
       "        }#T_a56861bd_28c9_11ec_894b_d43d7e4999edrow15_col13,#T_a56861bd_28c9_11ec_894b_d43d7e4999edrow22_col11{\n",
       "            background-color:  #96b7ff;\n",
       "            color:  #000000;\n",
       "        }#T_a56861bd_28c9_11ec_894b_d43d7e4999edrow16_col8,#T_a56861bd_28c9_11ec_894b_d43d7e4999edrow16_col13,#T_a56861bd_28c9_11ec_894b_d43d7e4999edrow17_col8{\n",
       "            background-color:  #b2ccfb;\n",
       "            color:  #000000;\n",
       "        }#T_a56861bd_28c9_11ec_894b_d43d7e4999edrow16_col17,#T_a56861bd_28c9_11ec_894b_d43d7e4999edrow17_col16{\n",
       "            background-color:  #c0282f;\n",
       "            color:  #f1f1f1;\n",
       "        }#T_a56861bd_28c9_11ec_894b_d43d7e4999edrow16_col18{\n",
       "            background-color:  #abc8fd;\n",
       "            color:  #000000;\n",
       "        }#T_a56861bd_28c9_11ec_894b_d43d7e4999edrow17_col9,#T_a56861bd_28c9_11ec_894b_d43d7e4999edrow20_col2{\n",
       "            background-color:  #8db0fe;\n",
       "            color:  #000000;\n",
       "        }#T_a56861bd_28c9_11ec_894b_d43d7e4999edrow18_col1,#T_a56861bd_28c9_11ec_894b_d43d7e4999edrow21_col23{\n",
       "            background-color:  #f6bea4;\n",
       "            color:  #000000;\n",
       "        }#T_a56861bd_28c9_11ec_894b_d43d7e4999edrow18_col6{\n",
       "            background-color:  #e9d5cb;\n",
       "            color:  #000000;\n",
       "        }#T_a56861bd_28c9_11ec_894b_d43d7e4999edrow19_col13{\n",
       "            background-color:  #dcdddd;\n",
       "            color:  #000000;\n",
       "        }#T_a56861bd_28c9_11ec_894b_d43d7e4999edrow20_col11{\n",
       "            background-color:  #f5c1a9;\n",
       "            color:  #000000;\n",
       "        }#T_a56861bd_28c9_11ec_894b_d43d7e4999edrow21_col3{\n",
       "            background-color:  #e3d9d3;\n",
       "            color:  #000000;\n",
       "        }#T_a56861bd_28c9_11ec_894b_d43d7e4999edrow21_col5{\n",
       "            background-color:  #ebd3c6;\n",
       "            color:  #000000;\n",
       "        }#T_a56861bd_28c9_11ec_894b_d43d7e4999edrow21_col8,#T_a56861bd_28c9_11ec_894b_d43d7e4999edrow24_col22{\n",
       "            background-color:  #d9dce1;\n",
       "            color:  #000000;\n",
       "        }#T_a56861bd_28c9_11ec_894b_d43d7e4999edrow21_col11,#T_a56861bd_28c9_11ec_894b_d43d7e4999edrow23_col5{\n",
       "            background-color:  #cedaeb;\n",
       "            color:  #000000;\n",
       "        }#T_a56861bd_28c9_11ec_894b_d43d7e4999edrow21_col13{\n",
       "            background-color:  #d2dbe8;\n",
       "            color:  #000000;\n",
       "        }#T_a56861bd_28c9_11ec_894b_d43d7e4999edrow21_col14{\n",
       "            background-color:  #f7ba9f;\n",
       "            color:  #000000;\n",
       "        }#T_a56861bd_28c9_11ec_894b_d43d7e4999edrow21_col22{\n",
       "            background-color:  #f6bda2;\n",
       "            color:  #000000;\n",
       "        }#T_a56861bd_28c9_11ec_894b_d43d7e4999edrow22_col23{\n",
       "            background-color:  #f7aa8c;\n",
       "            color:  #000000;\n",
       "        }#T_a56861bd_28c9_11ec_894b_d43d7e4999edrow22_col25{\n",
       "            background-color:  #e5d8d1;\n",
       "            color:  #000000;\n",
       "        }#T_a56861bd_28c9_11ec_894b_d43d7e4999edrow23_col14{\n",
       "            background-color:  #dfdbd9;\n",
       "            color:  #000000;\n",
       "        }#T_a56861bd_28c9_11ec_894b_d43d7e4999edrow23_col21{\n",
       "            background-color:  #f7b99e;\n",
       "            color:  #000000;\n",
       "        }#T_a56861bd_28c9_11ec_894b_d43d7e4999edrow23_col22{\n",
       "            background-color:  #f7af91;\n",
       "            color:  #000000;\n",
       "        }#T_a56861bd_28c9_11ec_894b_d43d7e4999edrow24_col8{\n",
       "            background-color:  #d4dbe6;\n",
       "            color:  #000000;\n",
       "        }#T_a56861bd_28c9_11ec_894b_d43d7e4999edrow24_col12{\n",
       "            background-color:  #93b5fe;\n",
       "            color:  #000000;\n",
       "        }#T_a56861bd_28c9_11ec_894b_d43d7e4999edrow24_col14{\n",
       "            background-color:  #f7b093;\n",
       "            color:  #000000;\n",
       "        }#T_a56861bd_28c9_11ec_894b_d43d7e4999edrow24_col21{\n",
       "            background-color:  #f6a283;\n",
       "            color:  #000000;\n",
       "        }#T_a56861bd_28c9_11ec_894b_d43d7e4999edrow25_col5{\n",
       "            background-color:  #edd1c2;\n",
       "            color:  #000000;\n",
       "        }#T_a56861bd_28c9_11ec_894b_d43d7e4999edrow25_col13{\n",
       "            background-color:  #bbd1f8;\n",
       "            color:  #000000;\n",
       "        }#T_a56861bd_28c9_11ec_894b_d43d7e4999edrow25_col21{\n",
       "            background-color:  #f7ac8e;\n",
       "            color:  #000000;\n",
       "        }#T_a56861bd_28c9_11ec_894b_d43d7e4999edrow25_col22{\n",
       "            background-color:  #e6d7cf;\n",
       "            color:  #000000;\n",
       "        }</style><table id=\"T_a56861bd_28c9_11ec_894b_d43d7e4999ed\" ><thead>    <tr>        <th class=\"blank level0\" ></th>        <th class=\"col_heading level0 col0\" >sex</th>        <th class=\"col_heading level0 col1\" >age</th>        <th class=\"col_heading level0 col2\" >car</th>        <th class=\"col_heading level0 col3\" >car_type</th>        <th class=\"col_heading level0 col4\" >decline_app_cnt</th>        <th class=\"col_heading level0 col5\" >good_work</th>        <th class=\"col_heading level0 col6\" >score_bki</th>        <th class=\"col_heading level0 col7\" >bki_request_cnt</th>        <th class=\"col_heading level0 col8\" >region_rating</th>        <th class=\"col_heading level0 col9\" >home_address</th>        <th class=\"col_heading level0 col10\" >work_address</th>        <th class=\"col_heading level0 col11\" >income</th>        <th class=\"col_heading level0 col12\" >sna</th>        <th class=\"col_heading level0 col13\" >first_time</th>        <th class=\"col_heading level0 col14\" >foreign_passport</th>        <th class=\"col_heading level0 col15\" >default</th>        <th class=\"col_heading level0 col16\" >month</th>        <th class=\"col_heading level0 col17\" >days</th>        <th class=\"col_heading level0 col18\" >bki_age_reg</th>        <th class=\"col_heading level0 col19\" >mult_sna_ftime</th>        <th class=\"col_heading level0 col20\" >edu_and_income</th>        <th class=\"col_heading level0 col21\" >success_client</th>        <th class=\"col_heading level0 col22\" >very_success_client</th>        <th class=\"col_heading level0 col23\" >fpassp_and_gwork</th>        <th class=\"col_heading level0 col24\" >fpassp_and_car</th>        <th class=\"col_heading level0 col25\" >gwork_and_car</th>    </tr></thead><tbody>\n",
       "                <tr>\n",
       "                        <th id=\"T_a56861bd_28c9_11ec_894b_d43d7e4999edlevel0_row0\" class=\"row_heading level0 row0\" >sex</th>\n",
       "                        <td id=\"T_a56861bd_28c9_11ec_894b_d43d7e4999edrow0_col0\" class=\"data row0 col0\" >1.000</td>\n",
       "                        <td id=\"T_a56861bd_28c9_11ec_894b_d43d7e4999edrow0_col1\" class=\"data row0 col1\" >-0.125</td>\n",
       "                        <td id=\"T_a56861bd_28c9_11ec_894b_d43d7e4999edrow0_col2\" class=\"data row0 col2\" >0.279</td>\n",
       "                        <td id=\"T_a56861bd_28c9_11ec_894b_d43d7e4999edrow0_col3\" class=\"data row0 col3\" >0.226</td>\n",
       "                        <td id=\"T_a56861bd_28c9_11ec_894b_d43d7e4999edrow0_col4\" class=\"data row0 col4\" >0.023</td>\n",
       "                        <td id=\"T_a56861bd_28c9_11ec_894b_d43d7e4999edrow0_col5\" class=\"data row0 col5\" >-0.040</td>\n",
       "                        <td id=\"T_a56861bd_28c9_11ec_894b_d43d7e4999edrow0_col6\" class=\"data row0 col6\" >-0.045</td>\n",
       "                        <td id=\"T_a56861bd_28c9_11ec_894b_d43d7e4999edrow0_col7\" class=\"data row0 col7\" >-0.045</td>\n",
       "                        <td id=\"T_a56861bd_28c9_11ec_894b_d43d7e4999edrow0_col8\" class=\"data row0 col8\" >0.108</td>\n",
       "                        <td id=\"T_a56861bd_28c9_11ec_894b_d43d7e4999edrow0_col9\" class=\"data row0 col9\" >0.038</td>\n",
       "                        <td id=\"T_a56861bd_28c9_11ec_894b_d43d7e4999edrow0_col10\" class=\"data row0 col10\" >0.069</td>\n",
       "                        <td id=\"T_a56861bd_28c9_11ec_894b_d43d7e4999edrow0_col11\" class=\"data row0 col11\" >0.307</td>\n",
       "                        <td id=\"T_a56861bd_28c9_11ec_894b_d43d7e4999edrow0_col12\" class=\"data row0 col12\" >-0.004</td>\n",
       "                        <td id=\"T_a56861bd_28c9_11ec_894b_d43d7e4999edrow0_col13\" class=\"data row0 col13\" >0.014</td>\n",
       "                        <td id=\"T_a56861bd_28c9_11ec_894b_d43d7e4999edrow0_col14\" class=\"data row0 col14\" >0.086</td>\n",
       "                        <td id=\"T_a56861bd_28c9_11ec_894b_d43d7e4999edrow0_col15\" class=\"data row0 col15\" >0.020</td>\n",
       "                        <td id=\"T_a56861bd_28c9_11ec_894b_d43d7e4999edrow0_col16\" class=\"data row0 col16\" >-0.030</td>\n",
       "                        <td id=\"T_a56861bd_28c9_11ec_894b_d43d7e4999edrow0_col17\" class=\"data row0 col17\" >-0.033</td>\n",
       "                        <td id=\"T_a56861bd_28c9_11ec_894b_d43d7e4999edrow0_col18\" class=\"data row0 col18\" >-0.147</td>\n",
       "                        <td id=\"T_a56861bd_28c9_11ec_894b_d43d7e4999edrow0_col19\" class=\"data row0 col19\" >0.012</td>\n",
       "                        <td id=\"T_a56861bd_28c9_11ec_894b_d43d7e4999edrow0_col20\" class=\"data row0 col20\" >0.121</td>\n",
       "                        <td id=\"T_a56861bd_28c9_11ec_894b_d43d7e4999edrow0_col21\" class=\"data row0 col21\" >0.173</td>\n",
       "                        <td id=\"T_a56861bd_28c9_11ec_894b_d43d7e4999edrow0_col22\" class=\"data row0 col22\" >0.050</td>\n",
       "                        <td id=\"T_a56861bd_28c9_11ec_894b_d43d7e4999edrow0_col23\" class=\"data row0 col23\" >0.028</td>\n",
       "                        <td id=\"T_a56861bd_28c9_11ec_894b_d43d7e4999edrow0_col24\" class=\"data row0 col24\" >0.129</td>\n",
       "                        <td id=\"T_a56861bd_28c9_11ec_894b_d43d7e4999edrow0_col25\" class=\"data row0 col25\" >0.065</td>\n",
       "            </tr>\n",
       "            <tr>\n",
       "                        <th id=\"T_a56861bd_28c9_11ec_894b_d43d7e4999edlevel0_row1\" class=\"row_heading level0 row1\" >age</th>\n",
       "                        <td id=\"T_a56861bd_28c9_11ec_894b_d43d7e4999edrow1_col0\" class=\"data row1 col0\" >-0.125</td>\n",
       "                        <td id=\"T_a56861bd_28c9_11ec_894b_d43d7e4999edrow1_col1\" class=\"data row1 col1\" >1.000</td>\n",
       "                        <td id=\"T_a56861bd_28c9_11ec_894b_d43d7e4999edrow1_col2\" class=\"data row1 col2\" >-0.033</td>\n",
       "                        <td id=\"T_a56861bd_28c9_11ec_894b_d43d7e4999edrow1_col3\" class=\"data row1 col3\" >-0.031</td>\n",
       "                        <td id=\"T_a56861bd_28c9_11ec_894b_d43d7e4999edrow1_col4\" class=\"data row1 col4\" >-0.126</td>\n",
       "                        <td id=\"T_a56861bd_28c9_11ec_894b_d43d7e4999edrow1_col5\" class=\"data row1 col5\" >-0.072</td>\n",
       "                        <td id=\"T_a56861bd_28c9_11ec_894b_d43d7e4999edrow1_col6\" class=\"data row1 col6\" >-0.110</td>\n",
       "                        <td id=\"T_a56861bd_28c9_11ec_894b_d43d7e4999edrow1_col7\" class=\"data row1 col7\" >0.045</td>\n",
       "                        <td id=\"T_a56861bd_28c9_11ec_894b_d43d7e4999edrow1_col8\" class=\"data row1 col8\" >-0.091</td>\n",
       "                        <td id=\"T_a56861bd_28c9_11ec_894b_d43d7e4999edrow1_col9\" class=\"data row1 col9\" >-0.002</td>\n",
       "                        <td id=\"T_a56861bd_28c9_11ec_894b_d43d7e4999edrow1_col10\" class=\"data row1 col10\" >-0.017</td>\n",
       "                        <td id=\"T_a56861bd_28c9_11ec_894b_d43d7e4999edrow1_col11\" class=\"data row1 col11\" >-0.094</td>\n",
       "                        <td id=\"T_a56861bd_28c9_11ec_894b_d43d7e4999edrow1_col12\" class=\"data row1 col12\" >-0.073</td>\n",
       "                        <td id=\"T_a56861bd_28c9_11ec_894b_d43d7e4999edrow1_col13\" class=\"data row1 col13\" >0.099</td>\n",
       "                        <td id=\"T_a56861bd_28c9_11ec_894b_d43d7e4999edrow1_col14\" class=\"data row1 col14\" >-0.036</td>\n",
       "                        <td id=\"T_a56861bd_28c9_11ec_894b_d43d7e4999edrow1_col15\" class=\"data row1 col15\" >-0.026</td>\n",
       "                        <td id=\"T_a56861bd_28c9_11ec_894b_d43d7e4999edrow1_col16\" class=\"data row1 col16\" >0.015</td>\n",
       "                        <td id=\"T_a56861bd_28c9_11ec_894b_d43d7e4999edrow1_col17\" class=\"data row1 col17\" >0.017</td>\n",
       "                        <td id=\"T_a56861bd_28c9_11ec_894b_d43d7e4999edrow1_col18\" class=\"data row1 col18\" >0.602</td>\n",
       "                        <td id=\"T_a56861bd_28c9_11ec_894b_d43d7e4999edrow1_col19\" class=\"data row1 col19\" >-0.036</td>\n",
       "                        <td id=\"T_a56861bd_28c9_11ec_894b_d43d7e4999edrow1_col20\" class=\"data row1 col20\" >-0.015</td>\n",
       "                        <td id=\"T_a56861bd_28c9_11ec_894b_d43d7e4999edrow1_col21\" class=\"data row1 col21\" >-0.066</td>\n",
       "                        <td id=\"T_a56861bd_28c9_11ec_894b_d43d7e4999edrow1_col22\" class=\"data row1 col22\" >-0.022</td>\n",
       "                        <td id=\"T_a56861bd_28c9_11ec_894b_d43d7e4999edrow1_col23\" class=\"data row1 col23\" >-0.045</td>\n",
       "                        <td id=\"T_a56861bd_28c9_11ec_894b_d43d7e4999edrow1_col24\" class=\"data row1 col24\" >-0.008</td>\n",
       "                        <td id=\"T_a56861bd_28c9_11ec_894b_d43d7e4999edrow1_col25\" class=\"data row1 col25\" >-0.047</td>\n",
       "            </tr>\n",
       "            <tr>\n",
       "                        <th id=\"T_a56861bd_28c9_11ec_894b_d43d7e4999edlevel0_row2\" class=\"row_heading level0 row2\" >car</th>\n",
       "                        <td id=\"T_a56861bd_28c9_11ec_894b_d43d7e4999edrow2_col0\" class=\"data row2 col0\" >0.279</td>\n",
       "                        <td id=\"T_a56861bd_28c9_11ec_894b_d43d7e4999edrow2_col1\" class=\"data row2 col1\" >-0.033</td>\n",
       "                        <td id=\"T_a56861bd_28c9_11ec_894b_d43d7e4999edrow2_col2\" class=\"data row2 col2\" >1.000</td>\n",
       "                        <td id=\"T_a56861bd_28c9_11ec_894b_d43d7e4999edrow2_col3\" class=\"data row2 col3\" >0.698</td>\n",
       "                        <td id=\"T_a56861bd_28c9_11ec_894b_d43d7e4999edrow2_col4\" class=\"data row2 col4\" >-0.036</td>\n",
       "                        <td id=\"T_a56861bd_28c9_11ec_894b_d43d7e4999edrow2_col5\" class=\"data row2 col5\" >0.002</td>\n",
       "                        <td id=\"T_a56861bd_28c9_11ec_894b_d43d7e4999edrow2_col6\" class=\"data row2 col6\" >-0.045</td>\n",
       "                        <td id=\"T_a56861bd_28c9_11ec_894b_d43d7e4999edrow2_col7\" class=\"data row2 col7\" >-0.050</td>\n",
       "                        <td id=\"T_a56861bd_28c9_11ec_894b_d43d7e4999edrow2_col8\" class=\"data row2 col8\" >0.065</td>\n",
       "                        <td id=\"T_a56861bd_28c9_11ec_894b_d43d7e4999edrow2_col9\" class=\"data row2 col9\" >-0.025</td>\n",
       "                        <td id=\"T_a56861bd_28c9_11ec_894b_d43d7e4999edrow2_col10\" class=\"data row2 col10\" >-0.008</td>\n",
       "                        <td id=\"T_a56861bd_28c9_11ec_894b_d43d7e4999edrow2_col11\" class=\"data row2 col11\" >0.322</td>\n",
       "                        <td id=\"T_a56861bd_28c9_11ec_894b_d43d7e4999edrow2_col12\" class=\"data row2 col12\" >-0.072</td>\n",
       "                        <td id=\"T_a56861bd_28c9_11ec_894b_d43d7e4999edrow2_col13\" class=\"data row2 col13\" >0.090</td>\n",
       "                        <td id=\"T_a56861bd_28c9_11ec_894b_d43d7e4999edrow2_col14\" class=\"data row2 col14\" >0.108</td>\n",
       "                        <td id=\"T_a56861bd_28c9_11ec_894b_d43d7e4999edrow2_col15\" class=\"data row2 col15\" >-0.043</td>\n",
       "                        <td id=\"T_a56861bd_28c9_11ec_894b_d43d7e4999edrow2_col16\" class=\"data row2 col16\" >-0.020</td>\n",
       "                        <td id=\"T_a56861bd_28c9_11ec_894b_d43d7e4999edrow2_col17\" class=\"data row2 col17\" >-0.022</td>\n",
       "                        <td id=\"T_a56861bd_28c9_11ec_894b_d43d7e4999edrow2_col18\" class=\"data row2 col18\" >-0.065</td>\n",
       "                        <td id=\"T_a56861bd_28c9_11ec_894b_d43d7e4999edrow2_col19\" class=\"data row2 col19\" >-0.003</td>\n",
       "                        <td id=\"T_a56861bd_28c9_11ec_894b_d43d7e4999edrow2_col20\" class=\"data row2 col20\" >0.197</td>\n",
       "                        <td id=\"T_a56861bd_28c9_11ec_894b_d43d7e4999edrow2_col21\" class=\"data row2 col21\" >0.599</td>\n",
       "                        <td id=\"T_a56861bd_28c9_11ec_894b_d43d7e4999edrow2_col22\" class=\"data row2 col22\" >0.172</td>\n",
       "                        <td id=\"T_a56861bd_28c9_11ec_894b_d43d7e4999edrow2_col23\" class=\"data row2 col23\" >0.050</td>\n",
       "                        <td id=\"T_a56861bd_28c9_11ec_894b_d43d7e4999edrow2_col24\" class=\"data row2 col24\" >0.385</td>\n",
       "                        <td id=\"T_a56861bd_28c9_11ec_894b_d43d7e4999edrow2_col25\" class=\"data row2 col25\" >0.344</td>\n",
       "            </tr>\n",
       "            <tr>\n",
       "                        <th id=\"T_a56861bd_28c9_11ec_894b_d43d7e4999edlevel0_row3\" class=\"row_heading level0 row3\" >car_type</th>\n",
       "                        <td id=\"T_a56861bd_28c9_11ec_894b_d43d7e4999edrow3_col0\" class=\"data row3 col0\" >0.226</td>\n",
       "                        <td id=\"T_a56861bd_28c9_11ec_894b_d43d7e4999edrow3_col1\" class=\"data row3 col1\" >-0.031</td>\n",
       "                        <td id=\"T_a56861bd_28c9_11ec_894b_d43d7e4999edrow3_col2\" class=\"data row3 col2\" >0.698</td>\n",
       "                        <td id=\"T_a56861bd_28c9_11ec_894b_d43d7e4999edrow3_col3\" class=\"data row3 col3\" >1.000</td>\n",
       "                        <td id=\"T_a56861bd_28c9_11ec_894b_d43d7e4999edrow3_col4\" class=\"data row3 col4\" >-0.048</td>\n",
       "                        <td id=\"T_a56861bd_28c9_11ec_894b_d43d7e4999edrow3_col5\" class=\"data row3 col5\" >0.018</td>\n",
       "                        <td id=\"T_a56861bd_28c9_11ec_894b_d43d7e4999edrow3_col6\" class=\"data row3 col6\" >-0.040</td>\n",
       "                        <td id=\"T_a56861bd_28c9_11ec_894b_d43d7e4999edrow3_col7\" class=\"data row3 col7\" >-0.023</td>\n",
       "                        <td id=\"T_a56861bd_28c9_11ec_894b_d43d7e4999edrow3_col8\" class=\"data row3 col8\" >0.104</td>\n",
       "                        <td id=\"T_a56861bd_28c9_11ec_894b_d43d7e4999edrow3_col9\" class=\"data row3 col9\" >-0.012</td>\n",
       "                        <td id=\"T_a56861bd_28c9_11ec_894b_d43d7e4999edrow3_col10\" class=\"data row3 col10\" >0.001</td>\n",
       "                        <td id=\"T_a56861bd_28c9_11ec_894b_d43d7e4999edrow3_col11\" class=\"data row3 col11\" >0.365</td>\n",
       "                        <td id=\"T_a56861bd_28c9_11ec_894b_d43d7e4999edrow3_col12\" class=\"data row3 col12\" >-0.086</td>\n",
       "                        <td id=\"T_a56861bd_28c9_11ec_894b_d43d7e4999edrow3_col13\" class=\"data row3 col13\" >0.104</td>\n",
       "                        <td id=\"T_a56861bd_28c9_11ec_894b_d43d7e4999edrow3_col14\" class=\"data row3 col14\" >0.146</td>\n",
       "                        <td id=\"T_a56861bd_28c9_11ec_894b_d43d7e4999edrow3_col15\" class=\"data row3 col15\" >-0.057</td>\n",
       "                        <td id=\"T_a56861bd_28c9_11ec_894b_d43d7e4999edrow3_col16\" class=\"data row3 col16\" >-0.025</td>\n",
       "                        <td id=\"T_a56861bd_28c9_11ec_894b_d43d7e4999edrow3_col17\" class=\"data row3 col17\" >-0.027</td>\n",
       "                        <td id=\"T_a56861bd_28c9_11ec_894b_d43d7e4999edrow3_col18\" class=\"data row3 col18\" >-0.084</td>\n",
       "                        <td id=\"T_a56861bd_28c9_11ec_894b_d43d7e4999edrow3_col19\" class=\"data row3 col19\" >-0.007</td>\n",
       "                        <td id=\"T_a56861bd_28c9_11ec_894b_d43d7e4999edrow3_col20\" class=\"data row3 col20\" >0.257</td>\n",
       "                        <td id=\"T_a56861bd_28c9_11ec_894b_d43d7e4999edrow3_col21\" class=\"data row3 col21\" >0.483</td>\n",
       "                        <td id=\"T_a56861bd_28c9_11ec_894b_d43d7e4999edrow3_col22\" class=\"data row3 col22\" >0.181</td>\n",
       "                        <td id=\"T_a56861bd_28c9_11ec_894b_d43d7e4999edrow3_col23\" class=\"data row3 col23\" >0.077</td>\n",
       "                        <td id=\"T_a56861bd_28c9_11ec_894b_d43d7e4999edrow3_col24\" class=\"data row3 col24\" >0.370</td>\n",
       "                        <td id=\"T_a56861bd_28c9_11ec_894b_d43d7e4999edrow3_col25\" class=\"data row3 col25\" >0.267</td>\n",
       "            </tr>\n",
       "            <tr>\n",
       "                        <th id=\"T_a56861bd_28c9_11ec_894b_d43d7e4999edlevel0_row4\" class=\"row_heading level0 row4\" >decline_app_cnt</th>\n",
       "                        <td id=\"T_a56861bd_28c9_11ec_894b_d43d7e4999edrow4_col0\" class=\"data row4 col0\" >0.023</td>\n",
       "                        <td id=\"T_a56861bd_28c9_11ec_894b_d43d7e4999edrow4_col1\" class=\"data row4 col1\" >-0.126</td>\n",
       "                        <td id=\"T_a56861bd_28c9_11ec_894b_d43d7e4999edrow4_col2\" class=\"data row4 col2\" >-0.036</td>\n",
       "                        <td id=\"T_a56861bd_28c9_11ec_894b_d43d7e4999edrow4_col3\" class=\"data row4 col3\" >-0.048</td>\n",
       "                        <td id=\"T_a56861bd_28c9_11ec_894b_d43d7e4999edrow4_col4\" class=\"data row4 col4\" >1.000</td>\n",
       "                        <td id=\"T_a56861bd_28c9_11ec_894b_d43d7e4999edrow4_col5\" class=\"data row4 col5\" >-0.030</td>\n",
       "                        <td id=\"T_a56861bd_28c9_11ec_894b_d43d7e4999edrow4_col6\" class=\"data row4 col6\" >0.203</td>\n",
       "                        <td id=\"T_a56861bd_28c9_11ec_894b_d43d7e4999edrow4_col7\" class=\"data row4 col7\" >0.104</td>\n",
       "                        <td id=\"T_a56861bd_28c9_11ec_894b_d43d7e4999edrow4_col8\" class=\"data row4 col8\" >-0.040</td>\n",
       "                        <td id=\"T_a56861bd_28c9_11ec_894b_d43d7e4999edrow4_col9\" class=\"data row4 col9\" >0.011</td>\n",
       "                        <td id=\"T_a56861bd_28c9_11ec_894b_d43d7e4999edrow4_col10\" class=\"data row4 col10\" >0.017</td>\n",
       "                        <td id=\"T_a56861bd_28c9_11ec_894b_d43d7e4999edrow4_col11\" class=\"data row4 col11\" >-0.011</td>\n",
       "                        <td id=\"T_a56861bd_28c9_11ec_894b_d43d7e4999edrow4_col12\" class=\"data row4 col12\" >0.069</td>\n",
       "                        <td id=\"T_a56861bd_28c9_11ec_894b_d43d7e4999edrow4_col13\" class=\"data row4 col13\" >-0.074</td>\n",
       "                        <td id=\"T_a56861bd_28c9_11ec_894b_d43d7e4999edrow4_col14\" class=\"data row4 col14\" >-0.030</td>\n",
       "                        <td id=\"T_a56861bd_28c9_11ec_894b_d43d7e4999edrow4_col15\" class=\"data row4 col15\" >0.121</td>\n",
       "                        <td id=\"T_a56861bd_28c9_11ec_894b_d43d7e4999edrow4_col16\" class=\"data row4 col16\" >-0.022</td>\n",
       "                        <td id=\"T_a56861bd_28c9_11ec_894b_d43d7e4999edrow4_col17\" class=\"data row4 col17\" >-0.023</td>\n",
       "                        <td id=\"T_a56861bd_28c9_11ec_894b_d43d7e4999edrow4_col18\" class=\"data row4 col18\" >0.061</td>\n",
       "                        <td id=\"T_a56861bd_28c9_11ec_894b_d43d7e4999edrow4_col19\" class=\"data row4 col19\" >0.027</td>\n",
       "                        <td id=\"T_a56861bd_28c9_11ec_894b_d43d7e4999edrow4_col20\" class=\"data row4 col20\" >-0.041</td>\n",
       "                        <td id=\"T_a56861bd_28c9_11ec_894b_d43d7e4999edrow4_col21\" class=\"data row4 col21\" >-0.051</td>\n",
       "                        <td id=\"T_a56861bd_28c9_11ec_894b_d43d7e4999edrow4_col22\" class=\"data row4 col22\" >-0.024</td>\n",
       "                        <td id=\"T_a56861bd_28c9_11ec_894b_d43d7e4999edrow4_col23\" class=\"data row4 col23\" >-0.025</td>\n",
       "                        <td id=\"T_a56861bd_28c9_11ec_894b_d43d7e4999edrow4_col24\" class=\"data row4 col24\" >-0.036</td>\n",
       "                        <td id=\"T_a56861bd_28c9_11ec_894b_d43d7e4999edrow4_col25\" class=\"data row4 col25\" >-0.025</td>\n",
       "            </tr>\n",
       "            <tr>\n",
       "                        <th id=\"T_a56861bd_28c9_11ec_894b_d43d7e4999edlevel0_row5\" class=\"row_heading level0 row5\" >good_work</th>\n",
       "                        <td id=\"T_a56861bd_28c9_11ec_894b_d43d7e4999edrow5_col0\" class=\"data row5 col0\" >-0.040</td>\n",
       "                        <td id=\"T_a56861bd_28c9_11ec_894b_d43d7e4999edrow5_col1\" class=\"data row5 col1\" >-0.072</td>\n",
       "                        <td id=\"T_a56861bd_28c9_11ec_894b_d43d7e4999edrow5_col2\" class=\"data row5 col2\" >0.002</td>\n",
       "                        <td id=\"T_a56861bd_28c9_11ec_894b_d43d7e4999edrow5_col3\" class=\"data row5 col3\" >0.018</td>\n",
       "                        <td id=\"T_a56861bd_28c9_11ec_894b_d43d7e4999edrow5_col4\" class=\"data row5 col4\" >-0.030</td>\n",
       "                        <td id=\"T_a56861bd_28c9_11ec_894b_d43d7e4999edrow5_col5\" class=\"data row5 col5\" >1.000</td>\n",
       "                        <td id=\"T_a56861bd_28c9_11ec_894b_d43d7e4999edrow5_col6\" class=\"data row5 col6\" >0.006</td>\n",
       "                        <td id=\"T_a56861bd_28c9_11ec_894b_d43d7e4999edrow5_col7\" class=\"data row5 col7\" >0.006</td>\n",
       "                        <td id=\"T_a56861bd_28c9_11ec_894b_d43d7e4999edrow5_col8\" class=\"data row5 col8\" >0.073</td>\n",
       "                        <td id=\"T_a56861bd_28c9_11ec_894b_d43d7e4999edrow5_col9\" class=\"data row5 col9\" >-0.004</td>\n",
       "                        <td id=\"T_a56861bd_28c9_11ec_894b_d43d7e4999edrow5_col10\" class=\"data row5 col10\" >-0.009</td>\n",
       "                        <td id=\"T_a56861bd_28c9_11ec_894b_d43d7e4999edrow5_col11\" class=\"data row5 col11\" >0.053</td>\n",
       "                        <td id=\"T_a56861bd_28c9_11ec_894b_d43d7e4999edrow5_col12\" class=\"data row5 col12\" >-0.054</td>\n",
       "                        <td id=\"T_a56861bd_28c9_11ec_894b_d43d7e4999edrow5_col13\" class=\"data row5 col13\" >0.056</td>\n",
       "                        <td id=\"T_a56861bd_28c9_11ec_894b_d43d7e4999edrow5_col14\" class=\"data row5 col14\" >0.046</td>\n",
       "                        <td id=\"T_a56861bd_28c9_11ec_894b_d43d7e4999edrow5_col15\" class=\"data row5 col15\" >-0.043</td>\n",
       "                        <td id=\"T_a56861bd_28c9_11ec_894b_d43d7e4999edrow5_col16\" class=\"data row5 col16\" >0.005</td>\n",
       "                        <td id=\"T_a56861bd_28c9_11ec_894b_d43d7e4999edrow5_col17\" class=\"data row5 col17\" >0.005</td>\n",
       "                        <td id=\"T_a56861bd_28c9_11ec_894b_d43d7e4999edrow5_col18\" class=\"data row5 col18\" >-0.081</td>\n",
       "                        <td id=\"T_a56861bd_28c9_11ec_894b_d43d7e4999edrow5_col19\" class=\"data row5 col19\" >-0.013</td>\n",
       "                        <td id=\"T_a56861bd_28c9_11ec_894b_d43d7e4999edrow5_col20\" class=\"data row5 col20\" >0.081</td>\n",
       "                        <td id=\"T_a56861bd_28c9_11ec_894b_d43d7e4999edrow5_col21\" class=\"data row5 col21\" >0.523</td>\n",
       "                        <td id=\"T_a56861bd_28c9_11ec_894b_d43d7e4999edrow5_col22\" class=\"data row5 col22\" >0.269</td>\n",
       "                        <td id=\"T_a56861bd_28c9_11ec_894b_d43d7e4999edrow5_col23\" class=\"data row5 col23\" >0.402</td>\n",
       "                        <td id=\"T_a56861bd_28c9_11ec_894b_d43d7e4999edrow5_col24\" class=\"data row5 col24\" >0.034</td>\n",
       "                        <td id=\"T_a56861bd_28c9_11ec_894b_d43d7e4999edrow5_col25\" class=\"data row5 col25\" >0.537</td>\n",
       "            </tr>\n",
       "            <tr>\n",
       "                        <th id=\"T_a56861bd_28c9_11ec_894b_d43d7e4999edlevel0_row6\" class=\"row_heading level0 row6\" >score_bki</th>\n",
       "                        <td id=\"T_a56861bd_28c9_11ec_894b_d43d7e4999edrow6_col0\" class=\"data row6 col0\" >-0.045</td>\n",
       "                        <td id=\"T_a56861bd_28c9_11ec_894b_d43d7e4999edrow6_col1\" class=\"data row6 col1\" >-0.110</td>\n",
       "                        <td id=\"T_a56861bd_28c9_11ec_894b_d43d7e4999edrow6_col2\" class=\"data row6 col2\" >-0.045</td>\n",
       "                        <td id=\"T_a56861bd_28c9_11ec_894b_d43d7e4999edrow6_col3\" class=\"data row6 col3\" >-0.040</td>\n",
       "                        <td id=\"T_a56861bd_28c9_11ec_894b_d43d7e4999edrow6_col4\" class=\"data row6 col4\" >0.203</td>\n",
       "                        <td id=\"T_a56861bd_28c9_11ec_894b_d43d7e4999edrow6_col5\" class=\"data row6 col5\" >0.006</td>\n",
       "                        <td id=\"T_a56861bd_28c9_11ec_894b_d43d7e4999edrow6_col6\" class=\"data row6 col6\" >1.000</td>\n",
       "                        <td id=\"T_a56861bd_28c9_11ec_894b_d43d7e4999edrow6_col7\" class=\"data row6 col7\" >0.125</td>\n",
       "                        <td id=\"T_a56861bd_28c9_11ec_894b_d43d7e4999edrow6_col8\" class=\"data row6 col8\" >0.009</td>\n",
       "                        <td id=\"T_a56861bd_28c9_11ec_894b_d43d7e4999edrow6_col9\" class=\"data row6 col9\" >0.014</td>\n",
       "                        <td id=\"T_a56861bd_28c9_11ec_894b_d43d7e4999edrow6_col10\" class=\"data row6 col10\" >0.013</td>\n",
       "                        <td id=\"T_a56861bd_28c9_11ec_894b_d43d7e4999edrow6_col11\" class=\"data row6 col11\" >0.004</td>\n",
       "                        <td id=\"T_a56861bd_28c9_11ec_894b_d43d7e4999edrow6_col12\" class=\"data row6 col12\" >0.068</td>\n",
       "                        <td id=\"T_a56861bd_28c9_11ec_894b_d43d7e4999edrow6_col13\" class=\"data row6 col13\" >-0.069</td>\n",
       "                        <td id=\"T_a56861bd_28c9_11ec_894b_d43d7e4999edrow6_col14\" class=\"data row6 col14\" >-0.022</td>\n",
       "                        <td id=\"T_a56861bd_28c9_11ec_894b_d43d7e4999edrow6_col15\" class=\"data row6 col15\" >0.175</td>\n",
       "                        <td id=\"T_a56861bd_28c9_11ec_894b_d43d7e4999edrow6_col16\" class=\"data row6 col16\" >-0.062</td>\n",
       "                        <td id=\"T_a56861bd_28c9_11ec_894b_d43d7e4999edrow6_col17\" class=\"data row6 col17\" >-0.064</td>\n",
       "                        <td id=\"T_a56861bd_28c9_11ec_894b_d43d7e4999edrow6_col18\" class=\"data row6 col18\" >0.499</td>\n",
       "                        <td id=\"T_a56861bd_28c9_11ec_894b_d43d7e4999edrow6_col19\" class=\"data row6 col19\" >0.040</td>\n",
       "                        <td id=\"T_a56861bd_28c9_11ec_894b_d43d7e4999edrow6_col20\" class=\"data row6 col20\" >-0.022</td>\n",
       "                        <td id=\"T_a56861bd_28c9_11ec_894b_d43d7e4999edrow6_col21\" class=\"data row6 col21\" >-0.036</td>\n",
       "                        <td id=\"T_a56861bd_28c9_11ec_894b_d43d7e4999edrow6_col22\" class=\"data row6 col22\" >-0.018</td>\n",
       "                        <td id=\"T_a56861bd_28c9_11ec_894b_d43d7e4999edrow6_col23\" class=\"data row6 col23\" >-0.013</td>\n",
       "                        <td id=\"T_a56861bd_28c9_11ec_894b_d43d7e4999edrow6_col24\" class=\"data row6 col24\" >-0.033</td>\n",
       "                        <td id=\"T_a56861bd_28c9_11ec_894b_d43d7e4999edrow6_col25\" class=\"data row6 col25\" >-0.014</td>\n",
       "            </tr>\n",
       "            <tr>\n",
       "                        <th id=\"T_a56861bd_28c9_11ec_894b_d43d7e4999edlevel0_row7\" class=\"row_heading level0 row7\" >bki_request_cnt</th>\n",
       "                        <td id=\"T_a56861bd_28c9_11ec_894b_d43d7e4999edrow7_col0\" class=\"data row7 col0\" >-0.045</td>\n",
       "                        <td id=\"T_a56861bd_28c9_11ec_894b_d43d7e4999edrow7_col1\" class=\"data row7 col1\" >0.045</td>\n",
       "                        <td id=\"T_a56861bd_28c9_11ec_894b_d43d7e4999edrow7_col2\" class=\"data row7 col2\" >-0.050</td>\n",
       "                        <td id=\"T_a56861bd_28c9_11ec_894b_d43d7e4999edrow7_col3\" class=\"data row7 col3\" >-0.023</td>\n",
       "                        <td id=\"T_a56861bd_28c9_11ec_894b_d43d7e4999edrow7_col4\" class=\"data row7 col4\" >0.104</td>\n",
       "                        <td id=\"T_a56861bd_28c9_11ec_894b_d43d7e4999edrow7_col5\" class=\"data row7 col5\" >0.006</td>\n",
       "                        <td id=\"T_a56861bd_28c9_11ec_894b_d43d7e4999edrow7_col6\" class=\"data row7 col6\" >0.125</td>\n",
       "                        <td id=\"T_a56861bd_28c9_11ec_894b_d43d7e4999edrow7_col7\" class=\"data row7 col7\" >1.000</td>\n",
       "                        <td id=\"T_a56861bd_28c9_11ec_894b_d43d7e4999edrow7_col8\" class=\"data row7 col8\" >-0.022</td>\n",
       "                        <td id=\"T_a56861bd_28c9_11ec_894b_d43d7e4999edrow7_col9\" class=\"data row7 col9\" >0.002</td>\n",
       "                        <td id=\"T_a56861bd_28c9_11ec_894b_d43d7e4999edrow7_col10\" class=\"data row7 col10\" >-0.002</td>\n",
       "                        <td id=\"T_a56861bd_28c9_11ec_894b_d43d7e4999edrow7_col11\" class=\"data row7 col11\" >0.068</td>\n",
       "                        <td id=\"T_a56861bd_28c9_11ec_894b_d43d7e4999edrow7_col12\" class=\"data row7 col12\" >0.012</td>\n",
       "                        <td id=\"T_a56861bd_28c9_11ec_894b_d43d7e4999edrow7_col13\" class=\"data row7 col13\" >0.007</td>\n",
       "                        <td id=\"T_a56861bd_28c9_11ec_894b_d43d7e4999edrow7_col14\" class=\"data row7 col14\" >-0.008</td>\n",
       "                        <td id=\"T_a56861bd_28c9_11ec_894b_d43d7e4999edrow7_col15\" class=\"data row7 col15\" >0.075</td>\n",
       "                        <td id=\"T_a56861bd_28c9_11ec_894b_d43d7e4999edrow7_col16\" class=\"data row7 col16\" >-0.002</td>\n",
       "                        <td id=\"T_a56861bd_28c9_11ec_894b_d43d7e4999edrow7_col17\" class=\"data row7 col17\" >-0.000</td>\n",
       "                        <td id=\"T_a56861bd_28c9_11ec_894b_d43d7e4999edrow7_col18\" class=\"data row7 col18\" >0.104</td>\n",
       "                        <td id=\"T_a56861bd_28c9_11ec_894b_d43d7e4999edrow7_col19\" class=\"data row7 col19\" >0.025</td>\n",
       "                        <td id=\"T_a56861bd_28c9_11ec_894b_d43d7e4999edrow7_col20\" class=\"data row7 col20\" >0.042</td>\n",
       "                        <td id=\"T_a56861bd_28c9_11ec_894b_d43d7e4999edrow7_col21\" class=\"data row7 col21\" >-0.028</td>\n",
       "                        <td id=\"T_a56861bd_28c9_11ec_894b_d43d7e4999edrow7_col22\" class=\"data row7 col22\" >-0.012</td>\n",
       "                        <td id=\"T_a56861bd_28c9_11ec_894b_d43d7e4999edrow7_col23\" class=\"data row7 col23\" >-0.007</td>\n",
       "                        <td id=\"T_a56861bd_28c9_11ec_894b_d43d7e4999edrow7_col24\" class=\"data row7 col24\" >-0.017</td>\n",
       "                        <td id=\"T_a56861bd_28c9_11ec_894b_d43d7e4999edrow7_col25\" class=\"data row7 col25\" >-0.012</td>\n",
       "            </tr>\n",
       "            <tr>\n",
       "                        <th id=\"T_a56861bd_28c9_11ec_894b_d43d7e4999edlevel0_row8\" class=\"row_heading level0 row8\" >region_rating</th>\n",
       "                        <td id=\"T_a56861bd_28c9_11ec_894b_d43d7e4999edrow8_col0\" class=\"data row8 col0\" >0.108</td>\n",
       "                        <td id=\"T_a56861bd_28c9_11ec_894b_d43d7e4999edrow8_col1\" class=\"data row8 col1\" >-0.091</td>\n",
       "                        <td id=\"T_a56861bd_28c9_11ec_894b_d43d7e4999edrow8_col2\" class=\"data row8 col2\" >0.065</td>\n",
       "                        <td id=\"T_a56861bd_28c9_11ec_894b_d43d7e4999edrow8_col3\" class=\"data row8 col3\" >0.104</td>\n",
       "                        <td id=\"T_a56861bd_28c9_11ec_894b_d43d7e4999edrow8_col4\" class=\"data row8 col4\" >-0.040</td>\n",
       "                        <td id=\"T_a56861bd_28c9_11ec_894b_d43d7e4999edrow8_col5\" class=\"data row8 col5\" >0.073</td>\n",
       "                        <td id=\"T_a56861bd_28c9_11ec_894b_d43d7e4999edrow8_col6\" class=\"data row8 col6\" >0.009</td>\n",
       "                        <td id=\"T_a56861bd_28c9_11ec_894b_d43d7e4999edrow8_col7\" class=\"data row8 col7\" >-0.022</td>\n",
       "                        <td id=\"T_a56861bd_28c9_11ec_894b_d43d7e4999edrow8_col8\" class=\"data row8 col8\" >1.000</td>\n",
       "                        <td id=\"T_a56861bd_28c9_11ec_894b_d43d7e4999edrow8_col9\" class=\"data row8 col9\" >0.234</td>\n",
       "                        <td id=\"T_a56861bd_28c9_11ec_894b_d43d7e4999edrow8_col10\" class=\"data row8 col10\" >0.254</td>\n",
       "                        <td id=\"T_a56861bd_28c9_11ec_894b_d43d7e4999edrow8_col11\" class=\"data row8 col11\" >0.312</td>\n",
       "                        <td id=\"T_a56861bd_28c9_11ec_894b_d43d7e4999edrow8_col12\" class=\"data row8 col12\" >-0.078</td>\n",
       "                        <td id=\"T_a56861bd_28c9_11ec_894b_d43d7e4999edrow8_col13\" class=\"data row8 col13\" >0.089</td>\n",
       "                        <td id=\"T_a56861bd_28c9_11ec_894b_d43d7e4999edrow8_col14\" class=\"data row8 col14\" >0.255</td>\n",
       "                        <td id=\"T_a56861bd_28c9_11ec_894b_d43d7e4999edrow8_col15\" class=\"data row8 col15\" >-0.089</td>\n",
       "                        <td id=\"T_a56861bd_28c9_11ec_894b_d43d7e4999edrow8_col16\" class=\"data row8 col16\" >0.005</td>\n",
       "                        <td id=\"T_a56861bd_28c9_11ec_894b_d43d7e4999edrow8_col17\" class=\"data row8 col17\" >0.007</td>\n",
       "                        <td id=\"T_a56861bd_28c9_11ec_894b_d43d7e4999edrow8_col18\" class=\"data row8 col18\" >-0.548</td>\n",
       "                        <td id=\"T_a56861bd_28c9_11ec_894b_d43d7e4999edrow8_col19\" class=\"data row8 col19\" >-0.017</td>\n",
       "                        <td id=\"T_a56861bd_28c9_11ec_894b_d43d7e4999edrow8_col20\" class=\"data row8 col20\" >0.169</td>\n",
       "                        <td id=\"T_a56861bd_28c9_11ec_894b_d43d7e4999edrow8_col21\" class=\"data row8 col21\" >0.207</td>\n",
       "                        <td id=\"T_a56861bd_28c9_11ec_894b_d43d7e4999edrow8_col22\" class=\"data row8 col22\" >0.101</td>\n",
       "                        <td id=\"T_a56861bd_28c9_11ec_894b_d43d7e4999edrow8_col23\" class=\"data row8 col23\" >0.148</td>\n",
       "                        <td id=\"T_a56861bd_28c9_11ec_894b_d43d7e4999edrow8_col24\" class=\"data row8 col24\" >0.174</td>\n",
       "                        <td id=\"T_a56861bd_28c9_11ec_894b_d43d7e4999edrow8_col25\" class=\"data row8 col25\" >0.067</td>\n",
       "            </tr>\n",
       "            <tr>\n",
       "                        <th id=\"T_a56861bd_28c9_11ec_894b_d43d7e4999edlevel0_row9\" class=\"row_heading level0 row9\" >home_address</th>\n",
       "                        <td id=\"T_a56861bd_28c9_11ec_894b_d43d7e4999edrow9_col0\" class=\"data row9 col0\" >0.038</td>\n",
       "                        <td id=\"T_a56861bd_28c9_11ec_894b_d43d7e4999edrow9_col1\" class=\"data row9 col1\" >-0.002</td>\n",
       "                        <td id=\"T_a56861bd_28c9_11ec_894b_d43d7e4999edrow9_col2\" class=\"data row9 col2\" >-0.025</td>\n",
       "                        <td id=\"T_a56861bd_28c9_11ec_894b_d43d7e4999edrow9_col3\" class=\"data row9 col3\" >-0.012</td>\n",
       "                        <td id=\"T_a56861bd_28c9_11ec_894b_d43d7e4999edrow9_col4\" class=\"data row9 col4\" >0.011</td>\n",
       "                        <td id=\"T_a56861bd_28c9_11ec_894b_d43d7e4999edrow9_col5\" class=\"data row9 col5\" >-0.004</td>\n",
       "                        <td id=\"T_a56861bd_28c9_11ec_894b_d43d7e4999edrow9_col6\" class=\"data row9 col6\" >0.014</td>\n",
       "                        <td id=\"T_a56861bd_28c9_11ec_894b_d43d7e4999edrow9_col7\" class=\"data row9 col7\" >0.002</td>\n",
       "                        <td id=\"T_a56861bd_28c9_11ec_894b_d43d7e4999edrow9_col8\" class=\"data row9 col8\" >0.234</td>\n",
       "                        <td id=\"T_a56861bd_28c9_11ec_894b_d43d7e4999edrow9_col9\" class=\"data row9 col9\" >1.000</td>\n",
       "                        <td id=\"T_a56861bd_28c9_11ec_894b_d43d7e4999edrow9_col10\" class=\"data row9 col10\" >0.728</td>\n",
       "                        <td id=\"T_a56861bd_28c9_11ec_894b_d43d7e4999edrow9_col11\" class=\"data row9 col11\" >0.045</td>\n",
       "                        <td id=\"T_a56861bd_28c9_11ec_894b_d43d7e4999edrow9_col12\" class=\"data row9 col12\" >0.115</td>\n",
       "                        <td id=\"T_a56861bd_28c9_11ec_894b_d43d7e4999edrow9_col13\" class=\"data row9 col13\" >-0.058</td>\n",
       "                        <td id=\"T_a56861bd_28c9_11ec_894b_d43d7e4999edrow9_col14\" class=\"data row9 col14\" >0.039</td>\n",
       "                        <td id=\"T_a56861bd_28c9_11ec_894b_d43d7e4999edrow9_col15\" class=\"data row9 col15\" >0.085</td>\n",
       "                        <td id=\"T_a56861bd_28c9_11ec_894b_d43d7e4999edrow9_col16\" class=\"data row9 col16\" >0.169</td>\n",
       "                        <td id=\"T_a56861bd_28c9_11ec_894b_d43d7e4999edrow9_col17\" class=\"data row9 col17\" >0.164</td>\n",
       "                        <td id=\"T_a56861bd_28c9_11ec_894b_d43d7e4999edrow9_col18\" class=\"data row9 col18\" >-0.117</td>\n",
       "                        <td id=\"T_a56861bd_28c9_11ec_894b_d43d7e4999edrow9_col19\" class=\"data row9 col19\" >0.062</td>\n",
       "                        <td id=\"T_a56861bd_28c9_11ec_894b_d43d7e4999edrow9_col20\" class=\"data row9 col20\" >0.029</td>\n",
       "                        <td id=\"T_a56861bd_28c9_11ec_894b_d43d7e4999edrow9_col21\" class=\"data row9 col21\" >0.011</td>\n",
       "                        <td id=\"T_a56861bd_28c9_11ec_894b_d43d7e4999edrow9_col22\" class=\"data row9 col22\" >0.019</td>\n",
       "                        <td id=\"T_a56861bd_28c9_11ec_894b_d43d7e4999edrow9_col23\" class=\"data row9 col23\" >0.028</td>\n",
       "                        <td id=\"T_a56861bd_28c9_11ec_894b_d43d7e4999edrow9_col24\" class=\"data row9 col24\" >0.022</td>\n",
       "                        <td id=\"T_a56861bd_28c9_11ec_894b_d43d7e4999edrow9_col25\" class=\"data row9 col25\" >-0.002</td>\n",
       "            </tr>\n",
       "            <tr>\n",
       "                        <th id=\"T_a56861bd_28c9_11ec_894b_d43d7e4999edlevel0_row10\" class=\"row_heading level0 row10\" >work_address</th>\n",
       "                        <td id=\"T_a56861bd_28c9_11ec_894b_d43d7e4999edrow10_col0\" class=\"data row10 col0\" >0.069</td>\n",
       "                        <td id=\"T_a56861bd_28c9_11ec_894b_d43d7e4999edrow10_col1\" class=\"data row10 col1\" >-0.017</td>\n",
       "                        <td id=\"T_a56861bd_28c9_11ec_894b_d43d7e4999edrow10_col2\" class=\"data row10 col2\" >-0.008</td>\n",
       "                        <td id=\"T_a56861bd_28c9_11ec_894b_d43d7e4999edrow10_col3\" class=\"data row10 col3\" >0.001</td>\n",
       "                        <td id=\"T_a56861bd_28c9_11ec_894b_d43d7e4999edrow10_col4\" class=\"data row10 col4\" >0.017</td>\n",
       "                        <td id=\"T_a56861bd_28c9_11ec_894b_d43d7e4999edrow10_col5\" class=\"data row10 col5\" >-0.009</td>\n",
       "                        <td id=\"T_a56861bd_28c9_11ec_894b_d43d7e4999edrow10_col6\" class=\"data row10 col6\" >0.013</td>\n",
       "                        <td id=\"T_a56861bd_28c9_11ec_894b_d43d7e4999edrow10_col7\" class=\"data row10 col7\" >-0.002</td>\n",
       "                        <td id=\"T_a56861bd_28c9_11ec_894b_d43d7e4999edrow10_col8\" class=\"data row10 col8\" >0.254</td>\n",
       "                        <td id=\"T_a56861bd_28c9_11ec_894b_d43d7e4999edrow10_col9\" class=\"data row10 col9\" >0.728</td>\n",
       "                        <td id=\"T_a56861bd_28c9_11ec_894b_d43d7e4999edrow10_col10\" class=\"data row10 col10\" >1.000</td>\n",
       "                        <td id=\"T_a56861bd_28c9_11ec_894b_d43d7e4999edrow10_col11\" class=\"data row10 col11\" >0.067</td>\n",
       "                        <td id=\"T_a56861bd_28c9_11ec_894b_d43d7e4999edrow10_col12\" class=\"data row10 col12\" >0.111</td>\n",
       "                        <td id=\"T_a56861bd_28c9_11ec_894b_d43d7e4999edrow10_col13\" class=\"data row10 col13\" >-0.063</td>\n",
       "                        <td id=\"T_a56861bd_28c9_11ec_894b_d43d7e4999edrow10_col14\" class=\"data row10 col14\" >0.042</td>\n",
       "                        <td id=\"T_a56861bd_28c9_11ec_894b_d43d7e4999edrow10_col15\" class=\"data row10 col15\" >0.082</td>\n",
       "                        <td id=\"T_a56861bd_28c9_11ec_894b_d43d7e4999edrow10_col16\" class=\"data row10 col16\" >0.171</td>\n",
       "                        <td id=\"T_a56861bd_28c9_11ec_894b_d43d7e4999edrow10_col17\" class=\"data row10 col17\" >0.164</td>\n",
       "                        <td id=\"T_a56861bd_28c9_11ec_894b_d43d7e4999edrow10_col18\" class=\"data row10 col18\" >-0.137</td>\n",
       "                        <td id=\"T_a56861bd_28c9_11ec_894b_d43d7e4999edrow10_col19\" class=\"data row10 col19\" >0.059</td>\n",
       "                        <td id=\"T_a56861bd_28c9_11ec_894b_d43d7e4999edrow10_col20\" class=\"data row10 col20\" >0.035</td>\n",
       "                        <td id=\"T_a56861bd_28c9_11ec_894b_d43d7e4999edrow10_col21\" class=\"data row10 col21\" >0.022</td>\n",
       "                        <td id=\"T_a56861bd_28c9_11ec_894b_d43d7e4999edrow10_col22\" class=\"data row10 col22\" >0.027</td>\n",
       "                        <td id=\"T_a56861bd_28c9_11ec_894b_d43d7e4999edrow10_col23\" class=\"data row10 col23\" >0.035</td>\n",
       "                        <td id=\"T_a56861bd_28c9_11ec_894b_d43d7e4999edrow10_col24\" class=\"data row10 col24\" >0.027</td>\n",
       "                        <td id=\"T_a56861bd_28c9_11ec_894b_d43d7e4999edrow10_col25\" class=\"data row10 col25\" >0.007</td>\n",
       "            </tr>\n",
       "            <tr>\n",
       "                        <th id=\"T_a56861bd_28c9_11ec_894b_d43d7e4999edlevel0_row11\" class=\"row_heading level0 row11\" >income</th>\n",
       "                        <td id=\"T_a56861bd_28c9_11ec_894b_d43d7e4999edrow11_col0\" class=\"data row11 col0\" >0.307</td>\n",
       "                        <td id=\"T_a56861bd_28c9_11ec_894b_d43d7e4999edrow11_col1\" class=\"data row11 col1\" >-0.094</td>\n",
       "                        <td id=\"T_a56861bd_28c9_11ec_894b_d43d7e4999edrow11_col2\" class=\"data row11 col2\" >0.322</td>\n",
       "                        <td id=\"T_a56861bd_28c9_11ec_894b_d43d7e4999edrow11_col3\" class=\"data row11 col3\" >0.365</td>\n",
       "                        <td id=\"T_a56861bd_28c9_11ec_894b_d43d7e4999edrow11_col4\" class=\"data row11 col4\" >-0.011</td>\n",
       "                        <td id=\"T_a56861bd_28c9_11ec_894b_d43d7e4999edrow11_col5\" class=\"data row11 col5\" >0.053</td>\n",
       "                        <td id=\"T_a56861bd_28c9_11ec_894b_d43d7e4999edrow11_col6\" class=\"data row11 col6\" >0.004</td>\n",
       "                        <td id=\"T_a56861bd_28c9_11ec_894b_d43d7e4999edrow11_col7\" class=\"data row11 col7\" >0.068</td>\n",
       "                        <td id=\"T_a56861bd_28c9_11ec_894b_d43d7e4999edrow11_col8\" class=\"data row11 col8\" >0.312</td>\n",
       "                        <td id=\"T_a56861bd_28c9_11ec_894b_d43d7e4999edrow11_col9\" class=\"data row11 col9\" >0.045</td>\n",
       "                        <td id=\"T_a56861bd_28c9_11ec_894b_d43d7e4999edrow11_col10\" class=\"data row11 col10\" >0.067</td>\n",
       "                        <td id=\"T_a56861bd_28c9_11ec_894b_d43d7e4999edrow11_col11\" class=\"data row11 col11\" >1.000</td>\n",
       "                        <td id=\"T_a56861bd_28c9_11ec_894b_d43d7e4999edrow11_col12\" class=\"data row11 col12\" >-0.124</td>\n",
       "                        <td id=\"T_a56861bd_28c9_11ec_894b_d43d7e4999edrow11_col13\" class=\"data row11 col13\" >0.150</td>\n",
       "                        <td id=\"T_a56861bd_28c9_11ec_894b_d43d7e4999edrow11_col14\" class=\"data row11 col14\" >0.268</td>\n",
       "                        <td id=\"T_a56861bd_28c9_11ec_894b_d43d7e4999edrow11_col15\" class=\"data row11 col15\" >-0.053</td>\n",
       "                        <td id=\"T_a56861bd_28c9_11ec_894b_d43d7e4999edrow11_col16\" class=\"data row11 col16\" >0.010</td>\n",
       "                        <td id=\"T_a56861bd_28c9_11ec_894b_d43d7e4999edrow11_col17\" class=\"data row11 col17\" >0.007</td>\n",
       "                        <td id=\"T_a56861bd_28c9_11ec_894b_d43d7e4999edrow11_col18\" class=\"data row11 col18\" >-0.197</td>\n",
       "                        <td id=\"T_a56861bd_28c9_11ec_894b_d43d7e4999edrow11_col19\" class=\"data row11 col19\" >-0.003</td>\n",
       "                        <td id=\"T_a56861bd_28c9_11ec_894b_d43d7e4999edrow11_col20\" class=\"data row11 col20\" >0.564</td>\n",
       "                        <td id=\"T_a56861bd_28c9_11ec_894b_d43d7e4999edrow11_col21\" class=\"data row11 col21\" >0.339</td>\n",
       "                        <td id=\"T_a56861bd_28c9_11ec_894b_d43d7e4999edrow11_col22\" class=\"data row11 col22\" >0.132</td>\n",
       "                        <td id=\"T_a56861bd_28c9_11ec_894b_d43d7e4999edrow11_col23\" class=\"data row11 col23\" >0.140</td>\n",
       "                        <td id=\"T_a56861bd_28c9_11ec_894b_d43d7e4999edrow11_col24\" class=\"data row11 col24\" >0.267</td>\n",
       "                        <td id=\"T_a56861bd_28c9_11ec_894b_d43d7e4999edrow11_col25\" class=\"data row11 col25\" >0.128</td>\n",
       "            </tr>\n",
       "            <tr>\n",
       "                        <th id=\"T_a56861bd_28c9_11ec_894b_d43d7e4999edlevel0_row12\" class=\"row_heading level0 row12\" >sna</th>\n",
       "                        <td id=\"T_a56861bd_28c9_11ec_894b_d43d7e4999edrow12_col0\" class=\"data row12 col0\" >-0.004</td>\n",
       "                        <td id=\"T_a56861bd_28c9_11ec_894b_d43d7e4999edrow12_col1\" class=\"data row12 col1\" >-0.073</td>\n",
       "                        <td id=\"T_a56861bd_28c9_11ec_894b_d43d7e4999edrow12_col2\" class=\"data row12 col2\" >-0.072</td>\n",
       "                        <td id=\"T_a56861bd_28c9_11ec_894b_d43d7e4999edrow12_col3\" class=\"data row12 col3\" >-0.086</td>\n",
       "                        <td id=\"T_a56861bd_28c9_11ec_894b_d43d7e4999edrow12_col4\" class=\"data row12 col4\" >0.069</td>\n",
       "                        <td id=\"T_a56861bd_28c9_11ec_894b_d43d7e4999edrow12_col5\" class=\"data row12 col5\" >-0.054</td>\n",
       "                        <td id=\"T_a56861bd_28c9_11ec_894b_d43d7e4999edrow12_col6\" class=\"data row12 col6\" >0.068</td>\n",
       "                        <td id=\"T_a56861bd_28c9_11ec_894b_d43d7e4999edrow12_col7\" class=\"data row12 col7\" >0.012</td>\n",
       "                        <td id=\"T_a56861bd_28c9_11ec_894b_d43d7e4999edrow12_col8\" class=\"data row12 col8\" >-0.078</td>\n",
       "                        <td id=\"T_a56861bd_28c9_11ec_894b_d43d7e4999edrow12_col9\" class=\"data row12 col9\" >0.115</td>\n",
       "                        <td id=\"T_a56861bd_28c9_11ec_894b_d43d7e4999edrow12_col10\" class=\"data row12 col10\" >0.111</td>\n",
       "                        <td id=\"T_a56861bd_28c9_11ec_894b_d43d7e4999edrow12_col11\" class=\"data row12 col11\" >-0.124</td>\n",
       "                        <td id=\"T_a56861bd_28c9_11ec_894b_d43d7e4999edrow12_col12\" class=\"data row12 col12\" >1.000</td>\n",
       "                        <td id=\"T_a56861bd_28c9_11ec_894b_d43d7e4999edrow12_col13\" class=\"data row12 col13\" >-0.525</td>\n",
       "                        <td id=\"T_a56861bd_28c9_11ec_894b_d43d7e4999edrow12_col14\" class=\"data row12 col14\" >-0.174</td>\n",
       "                        <td id=\"T_a56861bd_28c9_11ec_894b_d43d7e4999edrow12_col15\" class=\"data row12 col15\" >0.126</td>\n",
       "                        <td id=\"T_a56861bd_28c9_11ec_894b_d43d7e4999edrow12_col16\" class=\"data row12 col16\" >-0.004</td>\n",
       "                        <td id=\"T_a56861bd_28c9_11ec_894b_d43d7e4999edrow12_col17\" class=\"data row12 col17\" >-0.004</td>\n",
       "                        <td id=\"T_a56861bd_28c9_11ec_894b_d43d7e4999edrow12_col18\" class=\"data row12 col18\" >0.030</td>\n",
       "                        <td id=\"T_a56861bd_28c9_11ec_894b_d43d7e4999edrow12_col19\" class=\"data row12 col19\" >0.611</td>\n",
       "                        <td id=\"T_a56861bd_28c9_11ec_894b_d43d7e4999edrow12_col20\" class=\"data row12 col20\" >-0.094</td>\n",
       "                        <td id=\"T_a56861bd_28c9_11ec_894b_d43d7e4999edrow12_col21\" class=\"data row12 col21\" >-0.150</td>\n",
       "                        <td id=\"T_a56861bd_28c9_11ec_894b_d43d7e4999edrow12_col22\" class=\"data row12 col22\" >-0.058</td>\n",
       "                        <td id=\"T_a56861bd_28c9_11ec_894b_d43d7e4999edrow12_col23\" class=\"data row12 col23\" >-0.083</td>\n",
       "                        <td id=\"T_a56861bd_28c9_11ec_894b_d43d7e4999edrow12_col24\" class=\"data row12 col24\" >-0.116</td>\n",
       "                        <td id=\"T_a56861bd_28c9_11ec_894b_d43d7e4999edrow12_col25\" class=\"data row12 col25\" >-0.051</td>\n",
       "            </tr>\n",
       "            <tr>\n",
       "                        <th id=\"T_a56861bd_28c9_11ec_894b_d43d7e4999edlevel0_row13\" class=\"row_heading level0 row13\" >first_time</th>\n",
       "                        <td id=\"T_a56861bd_28c9_11ec_894b_d43d7e4999edrow13_col0\" class=\"data row13 col0\" >0.014</td>\n",
       "                        <td id=\"T_a56861bd_28c9_11ec_894b_d43d7e4999edrow13_col1\" class=\"data row13 col1\" >0.099</td>\n",
       "                        <td id=\"T_a56861bd_28c9_11ec_894b_d43d7e4999edrow13_col2\" class=\"data row13 col2\" >0.090</td>\n",
       "                        <td id=\"T_a56861bd_28c9_11ec_894b_d43d7e4999edrow13_col3\" class=\"data row13 col3\" >0.104</td>\n",
       "                        <td id=\"T_a56861bd_28c9_11ec_894b_d43d7e4999edrow13_col4\" class=\"data row13 col4\" >-0.074</td>\n",
       "                        <td id=\"T_a56861bd_28c9_11ec_894b_d43d7e4999edrow13_col5\" class=\"data row13 col5\" >0.056</td>\n",
       "                        <td id=\"T_a56861bd_28c9_11ec_894b_d43d7e4999edrow13_col6\" class=\"data row13 col6\" >-0.069</td>\n",
       "                        <td id=\"T_a56861bd_28c9_11ec_894b_d43d7e4999edrow13_col7\" class=\"data row13 col7\" >0.007</td>\n",
       "                        <td id=\"T_a56861bd_28c9_11ec_894b_d43d7e4999edrow13_col8\" class=\"data row13 col8\" >0.089</td>\n",
       "                        <td id=\"T_a56861bd_28c9_11ec_894b_d43d7e4999edrow13_col9\" class=\"data row13 col9\" >-0.058</td>\n",
       "                        <td id=\"T_a56861bd_28c9_11ec_894b_d43d7e4999edrow13_col10\" class=\"data row13 col10\" >-0.063</td>\n",
       "                        <td id=\"T_a56861bd_28c9_11ec_894b_d43d7e4999edrow13_col11\" class=\"data row13 col11\" >0.150</td>\n",
       "                        <td id=\"T_a56861bd_28c9_11ec_894b_d43d7e4999edrow13_col12\" class=\"data row13 col12\" >-0.525</td>\n",
       "                        <td id=\"T_a56861bd_28c9_11ec_894b_d43d7e4999edrow13_col13\" class=\"data row13 col13\" >1.000</td>\n",
       "                        <td id=\"T_a56861bd_28c9_11ec_894b_d43d7e4999edrow13_col14\" class=\"data row13 col14\" >0.195</td>\n",
       "                        <td id=\"T_a56861bd_28c9_11ec_894b_d43d7e4999edrow13_col15\" class=\"data row13 col15\" >-0.106</td>\n",
       "                        <td id=\"T_a56861bd_28c9_11ec_894b_d43d7e4999edrow13_col16\" class=\"data row13 col16\" >0.019</td>\n",
       "                        <td id=\"T_a56861bd_28c9_11ec_894b_d43d7e4999edrow13_col17\" class=\"data row13 col17\" >0.017</td>\n",
       "                        <td id=\"T_a56861bd_28c9_11ec_894b_d43d7e4999edrow13_col18\" class=\"data row13 col18\" >-0.014</td>\n",
       "                        <td id=\"T_a56861bd_28c9_11ec_894b_d43d7e4999edrow13_col19\" class=\"data row13 col19\" >0.236</td>\n",
       "                        <td id=\"T_a56861bd_28c9_11ec_894b_d43d7e4999edrow13_col20\" class=\"data row13 col20\" >0.111</td>\n",
       "                        <td id=\"T_a56861bd_28c9_11ec_894b_d43d7e4999edrow13_col21\" class=\"data row13 col21\" >0.173</td>\n",
       "                        <td id=\"T_a56861bd_28c9_11ec_894b_d43d7e4999edrow13_col22\" class=\"data row13 col22\" >0.069</td>\n",
       "                        <td id=\"T_a56861bd_28c9_11ec_894b_d43d7e4999edrow13_col23\" class=\"data row13 col23\" >0.094</td>\n",
       "                        <td id=\"T_a56861bd_28c9_11ec_894b_d43d7e4999edrow13_col24\" class=\"data row13 col24\" >0.136</td>\n",
       "                        <td id=\"T_a56861bd_28c9_11ec_894b_d43d7e4999edrow13_col25\" class=\"data row13 col25\" >0.063</td>\n",
       "            </tr>\n",
       "            <tr>\n",
       "                        <th id=\"T_a56861bd_28c9_11ec_894b_d43d7e4999edlevel0_row14\" class=\"row_heading level0 row14\" >foreign_passport</th>\n",
       "                        <td id=\"T_a56861bd_28c9_11ec_894b_d43d7e4999edrow14_col0\" class=\"data row14 col0\" >0.086</td>\n",
       "                        <td id=\"T_a56861bd_28c9_11ec_894b_d43d7e4999edrow14_col1\" class=\"data row14 col1\" >-0.036</td>\n",
       "                        <td id=\"T_a56861bd_28c9_11ec_894b_d43d7e4999edrow14_col2\" class=\"data row14 col2\" >0.108</td>\n",
       "                        <td id=\"T_a56861bd_28c9_11ec_894b_d43d7e4999edrow14_col3\" class=\"data row14 col3\" >0.146</td>\n",
       "                        <td id=\"T_a56861bd_28c9_11ec_894b_d43d7e4999edrow14_col4\" class=\"data row14 col4\" >-0.030</td>\n",
       "                        <td id=\"T_a56861bd_28c9_11ec_894b_d43d7e4999edrow14_col5\" class=\"data row14 col5\" >0.046</td>\n",
       "                        <td id=\"T_a56861bd_28c9_11ec_894b_d43d7e4999edrow14_col6\" class=\"data row14 col6\" >-0.022</td>\n",
       "                        <td id=\"T_a56861bd_28c9_11ec_894b_d43d7e4999edrow14_col7\" class=\"data row14 col7\" >-0.008</td>\n",
       "                        <td id=\"T_a56861bd_28c9_11ec_894b_d43d7e4999edrow14_col8\" class=\"data row14 col8\" >0.255</td>\n",
       "                        <td id=\"T_a56861bd_28c9_11ec_894b_d43d7e4999edrow14_col9\" class=\"data row14 col9\" >0.039</td>\n",
       "                        <td id=\"T_a56861bd_28c9_11ec_894b_d43d7e4999edrow14_col10\" class=\"data row14 col10\" >0.042</td>\n",
       "                        <td id=\"T_a56861bd_28c9_11ec_894b_d43d7e4999edrow14_col11\" class=\"data row14 col11\" >0.268</td>\n",
       "                        <td id=\"T_a56861bd_28c9_11ec_894b_d43d7e4999edrow14_col12\" class=\"data row14 col12\" >-0.174</td>\n",
       "                        <td id=\"T_a56861bd_28c9_11ec_894b_d43d7e4999edrow14_col13\" class=\"data row14 col13\" >0.195</td>\n",
       "                        <td id=\"T_a56861bd_28c9_11ec_894b_d43d7e4999edrow14_col14\" class=\"data row14 col14\" >1.000</td>\n",
       "                        <td id=\"T_a56861bd_28c9_11ec_894b_d43d7e4999edrow14_col15\" class=\"data row14 col15\" >-0.067</td>\n",
       "                        <td id=\"T_a56861bd_28c9_11ec_894b_d43d7e4999edrow14_col16\" class=\"data row14 col16\" >-0.015</td>\n",
       "                        <td id=\"T_a56861bd_28c9_11ec_894b_d43d7e4999edrow14_col17\" class=\"data row14 col17\" >-0.015</td>\n",
       "                        <td id=\"T_a56861bd_28c9_11ec_894b_d43d7e4999edrow14_col18\" class=\"data row14 col18\" >-0.163</td>\n",
       "                        <td id=\"T_a56861bd_28c9_11ec_894b_d43d7e4999edrow14_col19\" class=\"data row14 col19\" >-0.047</td>\n",
       "                        <td id=\"T_a56861bd_28c9_11ec_894b_d43d7e4999edrow14_col20\" class=\"data row14 col20\" >0.226</td>\n",
       "                        <td id=\"T_a56861bd_28c9_11ec_894b_d43d7e4999edrow14_col21\" class=\"data row14 col21\" >0.597</td>\n",
       "                        <td id=\"T_a56861bd_28c9_11ec_894b_d43d7e4999edrow14_col22\" class=\"data row14 col22\" >0.285</td>\n",
       "                        <td id=\"T_a56861bd_28c9_11ec_894b_d43d7e4999edrow14_col23\" class=\"data row14 col23\" >0.425</td>\n",
       "                        <td id=\"T_a56861bd_28c9_11ec_894b_d43d7e4999edrow14_col24\" class=\"data row14 col24\" >0.636</td>\n",
       "                        <td id=\"T_a56861bd_28c9_11ec_894b_d43d7e4999edrow14_col25\" class=\"data row14 col25\" >0.075</td>\n",
       "            </tr>\n",
       "            <tr>\n",
       "                        <th id=\"T_a56861bd_28c9_11ec_894b_d43d7e4999edlevel0_row15\" class=\"row_heading level0 row15\" >default</th>\n",
       "                        <td id=\"T_a56861bd_28c9_11ec_894b_d43d7e4999edrow15_col0\" class=\"data row15 col0\" >0.020</td>\n",
       "                        <td id=\"T_a56861bd_28c9_11ec_894b_d43d7e4999edrow15_col1\" class=\"data row15 col1\" >-0.026</td>\n",
       "                        <td id=\"T_a56861bd_28c9_11ec_894b_d43d7e4999edrow15_col2\" class=\"data row15 col2\" >-0.043</td>\n",
       "                        <td id=\"T_a56861bd_28c9_11ec_894b_d43d7e4999edrow15_col3\" class=\"data row15 col3\" >-0.057</td>\n",
       "                        <td id=\"T_a56861bd_28c9_11ec_894b_d43d7e4999edrow15_col4\" class=\"data row15 col4\" >0.121</td>\n",
       "                        <td id=\"T_a56861bd_28c9_11ec_894b_d43d7e4999edrow15_col5\" class=\"data row15 col5\" >-0.043</td>\n",
       "                        <td id=\"T_a56861bd_28c9_11ec_894b_d43d7e4999edrow15_col6\" class=\"data row15 col6\" >0.175</td>\n",
       "                        <td id=\"T_a56861bd_28c9_11ec_894b_d43d7e4999edrow15_col7\" class=\"data row15 col7\" >0.075</td>\n",
       "                        <td id=\"T_a56861bd_28c9_11ec_894b_d43d7e4999edrow15_col8\" class=\"data row15 col8\" >-0.089</td>\n",
       "                        <td id=\"T_a56861bd_28c9_11ec_894b_d43d7e4999edrow15_col9\" class=\"data row15 col9\" >0.085</td>\n",
       "                        <td id=\"T_a56861bd_28c9_11ec_894b_d43d7e4999edrow15_col10\" class=\"data row15 col10\" >0.082</td>\n",
       "                        <td id=\"T_a56861bd_28c9_11ec_894b_d43d7e4999edrow15_col11\" class=\"data row15 col11\" >-0.053</td>\n",
       "                        <td id=\"T_a56861bd_28c9_11ec_894b_d43d7e4999edrow15_col12\" class=\"data row15 col12\" >0.126</td>\n",
       "                        <td id=\"T_a56861bd_28c9_11ec_894b_d43d7e4999edrow15_col13\" class=\"data row15 col13\" >-0.106</td>\n",
       "                        <td id=\"T_a56861bd_28c9_11ec_894b_d43d7e4999edrow15_col14\" class=\"data row15 col14\" >-0.067</td>\n",
       "                        <td id=\"T_a56861bd_28c9_11ec_894b_d43d7e4999edrow15_col15\" class=\"data row15 col15\" >1.000</td>\n",
       "                        <td id=\"T_a56861bd_28c9_11ec_894b_d43d7e4999edrow15_col16\" class=\"data row15 col16\" >-0.037</td>\n",
       "                        <td id=\"T_a56861bd_28c9_11ec_894b_d43d7e4999edrow15_col17\" class=\"data row15 col17\" >-0.039</td>\n",
       "                        <td id=\"T_a56861bd_28c9_11ec_894b_d43d7e4999edrow15_col18\" class=\"data row15 col18\" >0.126</td>\n",
       "                        <td id=\"T_a56861bd_28c9_11ec_894b_d43d7e4999edrow15_col19\" class=\"data row15 col19\" >0.066</td>\n",
       "                        <td id=\"T_a56861bd_28c9_11ec_894b_d43d7e4999edrow15_col20\" class=\"data row15 col20\" >-0.056</td>\n",
       "                        <td id=\"T_a56861bd_28c9_11ec_894b_d43d7e4999edrow15_col21\" class=\"data row15 col21\" >-0.077</td>\n",
       "                        <td id=\"T_a56861bd_28c9_11ec_894b_d43d7e4999edrow15_col22\" class=\"data row15 col22\" >-0.027</td>\n",
       "                        <td id=\"T_a56861bd_28c9_11ec_894b_d43d7e4999edrow15_col23\" class=\"data row15 col23\" >-0.039</td>\n",
       "                        <td id=\"T_a56861bd_28c9_11ec_894b_d43d7e4999edrow15_col24\" class=\"data row15 col24\" >-0.053</td>\n",
       "                        <td id=\"T_a56861bd_28c9_11ec_894b_d43d7e4999edrow15_col25\" class=\"data row15 col25\" >-0.033</td>\n",
       "            </tr>\n",
       "            <tr>\n",
       "                        <th id=\"T_a56861bd_28c9_11ec_894b_d43d7e4999edlevel0_row16\" class=\"row_heading level0 row16\" >month</th>\n",
       "                        <td id=\"T_a56861bd_28c9_11ec_894b_d43d7e4999edrow16_col0\" class=\"data row16 col0\" >-0.030</td>\n",
       "                        <td id=\"T_a56861bd_28c9_11ec_894b_d43d7e4999edrow16_col1\" class=\"data row16 col1\" >0.015</td>\n",
       "                        <td id=\"T_a56861bd_28c9_11ec_894b_d43d7e4999edrow16_col2\" class=\"data row16 col2\" >-0.020</td>\n",
       "                        <td id=\"T_a56861bd_28c9_11ec_894b_d43d7e4999edrow16_col3\" class=\"data row16 col3\" >-0.025</td>\n",
       "                        <td id=\"T_a56861bd_28c9_11ec_894b_d43d7e4999edrow16_col4\" class=\"data row16 col4\" >-0.022</td>\n",
       "                        <td id=\"T_a56861bd_28c9_11ec_894b_d43d7e4999edrow16_col5\" class=\"data row16 col5\" >0.005</td>\n",
       "                        <td id=\"T_a56861bd_28c9_11ec_894b_d43d7e4999edrow16_col6\" class=\"data row16 col6\" >-0.062</td>\n",
       "                        <td id=\"T_a56861bd_28c9_11ec_894b_d43d7e4999edrow16_col7\" class=\"data row16 col7\" >-0.002</td>\n",
       "                        <td id=\"T_a56861bd_28c9_11ec_894b_d43d7e4999edrow16_col8\" class=\"data row16 col8\" >0.005</td>\n",
       "                        <td id=\"T_a56861bd_28c9_11ec_894b_d43d7e4999edrow16_col9\" class=\"data row16 col9\" >0.169</td>\n",
       "                        <td id=\"T_a56861bd_28c9_11ec_894b_d43d7e4999edrow16_col10\" class=\"data row16 col10\" >0.171</td>\n",
       "                        <td id=\"T_a56861bd_28c9_11ec_894b_d43d7e4999edrow16_col11\" class=\"data row16 col11\" >0.010</td>\n",
       "                        <td id=\"T_a56861bd_28c9_11ec_894b_d43d7e4999edrow16_col12\" class=\"data row16 col12\" >-0.004</td>\n",
       "                        <td id=\"T_a56861bd_28c9_11ec_894b_d43d7e4999edrow16_col13\" class=\"data row16 col13\" >0.019</td>\n",
       "                        <td id=\"T_a56861bd_28c9_11ec_894b_d43d7e4999edrow16_col14\" class=\"data row16 col14\" >-0.015</td>\n",
       "                        <td id=\"T_a56861bd_28c9_11ec_894b_d43d7e4999edrow16_col15\" class=\"data row16 col15\" >-0.037</td>\n",
       "                        <td id=\"T_a56861bd_28c9_11ec_894b_d43d7e4999edrow16_col16\" class=\"data row16 col16\" >1.000</td>\n",
       "                        <td id=\"T_a56861bd_28c9_11ec_894b_d43d7e4999edrow16_col17\" class=\"data row16 col17\" >0.965</td>\n",
       "                        <td id=\"T_a56861bd_28c9_11ec_894b_d43d7e4999edrow16_col18\" class=\"data row16 col18\" >-0.027</td>\n",
       "                        <td id=\"T_a56861bd_28c9_11ec_894b_d43d7e4999edrow16_col19\" class=\"data row16 col19\" >-0.005</td>\n",
       "                        <td id=\"T_a56861bd_28c9_11ec_894b_d43d7e4999edrow16_col20\" class=\"data row16 col20\" >0.015</td>\n",
       "                        <td id=\"T_a56861bd_28c9_11ec_894b_d43d7e4999edrow16_col21\" class=\"data row16 col21\" >-0.013</td>\n",
       "                        <td id=\"T_a56861bd_28c9_11ec_894b_d43d7e4999edrow16_col22\" class=\"data row16 col22\" >0.005</td>\n",
       "                        <td id=\"T_a56861bd_28c9_11ec_894b_d43d7e4999edrow16_col23\" class=\"data row16 col23\" >-0.001</td>\n",
       "                        <td id=\"T_a56861bd_28c9_11ec_894b_d43d7e4999edrow16_col24\" class=\"data row16 col24\" >-0.009</td>\n",
       "                        <td id=\"T_a56861bd_28c9_11ec_894b_d43d7e4999edrow16_col25\" class=\"data row16 col25\" >-0.002</td>\n",
       "            </tr>\n",
       "            <tr>\n",
       "                        <th id=\"T_a56861bd_28c9_11ec_894b_d43d7e4999edlevel0_row17\" class=\"row_heading level0 row17\" >days</th>\n",
       "                        <td id=\"T_a56861bd_28c9_11ec_894b_d43d7e4999edrow17_col0\" class=\"data row17 col0\" >-0.033</td>\n",
       "                        <td id=\"T_a56861bd_28c9_11ec_894b_d43d7e4999edrow17_col1\" class=\"data row17 col1\" >0.017</td>\n",
       "                        <td id=\"T_a56861bd_28c9_11ec_894b_d43d7e4999edrow17_col2\" class=\"data row17 col2\" >-0.022</td>\n",
       "                        <td id=\"T_a56861bd_28c9_11ec_894b_d43d7e4999edrow17_col3\" class=\"data row17 col3\" >-0.027</td>\n",
       "                        <td id=\"T_a56861bd_28c9_11ec_894b_d43d7e4999edrow17_col4\" class=\"data row17 col4\" >-0.023</td>\n",
       "                        <td id=\"T_a56861bd_28c9_11ec_894b_d43d7e4999edrow17_col5\" class=\"data row17 col5\" >0.005</td>\n",
       "                        <td id=\"T_a56861bd_28c9_11ec_894b_d43d7e4999edrow17_col6\" class=\"data row17 col6\" >-0.064</td>\n",
       "                        <td id=\"T_a56861bd_28c9_11ec_894b_d43d7e4999edrow17_col7\" class=\"data row17 col7\" >-0.000</td>\n",
       "                        <td id=\"T_a56861bd_28c9_11ec_894b_d43d7e4999edrow17_col8\" class=\"data row17 col8\" >0.007</td>\n",
       "                        <td id=\"T_a56861bd_28c9_11ec_894b_d43d7e4999edrow17_col9\" class=\"data row17 col9\" >0.164</td>\n",
       "                        <td id=\"T_a56861bd_28c9_11ec_894b_d43d7e4999edrow17_col10\" class=\"data row17 col10\" >0.164</td>\n",
       "                        <td id=\"T_a56861bd_28c9_11ec_894b_d43d7e4999edrow17_col11\" class=\"data row17 col11\" >0.007</td>\n",
       "                        <td id=\"T_a56861bd_28c9_11ec_894b_d43d7e4999edrow17_col12\" class=\"data row17 col12\" >-0.004</td>\n",
       "                        <td id=\"T_a56861bd_28c9_11ec_894b_d43d7e4999edrow17_col13\" class=\"data row17 col13\" >0.017</td>\n",
       "                        <td id=\"T_a56861bd_28c9_11ec_894b_d43d7e4999edrow17_col14\" class=\"data row17 col14\" >-0.015</td>\n",
       "                        <td id=\"T_a56861bd_28c9_11ec_894b_d43d7e4999edrow17_col15\" class=\"data row17 col15\" >-0.039</td>\n",
       "                        <td id=\"T_a56861bd_28c9_11ec_894b_d43d7e4999edrow17_col16\" class=\"data row17 col16\" >0.965</td>\n",
       "                        <td id=\"T_a56861bd_28c9_11ec_894b_d43d7e4999edrow17_col17\" class=\"data row17 col17\" >1.000</td>\n",
       "                        <td id=\"T_a56861bd_28c9_11ec_894b_d43d7e4999edrow17_col18\" class=\"data row17 col18\" >-0.029</td>\n",
       "                        <td id=\"T_a56861bd_28c9_11ec_894b_d43d7e4999edrow17_col19\" class=\"data row17 col19\" >-0.007</td>\n",
       "                        <td id=\"T_a56861bd_28c9_11ec_894b_d43d7e4999edrow17_col20\" class=\"data row17 col20\" >0.014</td>\n",
       "                        <td id=\"T_a56861bd_28c9_11ec_894b_d43d7e4999edrow17_col21\" class=\"data row17 col21\" >-0.014</td>\n",
       "                        <td id=\"T_a56861bd_28c9_11ec_894b_d43d7e4999edrow17_col22\" class=\"data row17 col22\" >0.003</td>\n",
       "                        <td id=\"T_a56861bd_28c9_11ec_894b_d43d7e4999edrow17_col23\" class=\"data row17 col23\" >-0.001</td>\n",
       "                        <td id=\"T_a56861bd_28c9_11ec_894b_d43d7e4999edrow17_col24\" class=\"data row17 col24\" >-0.010</td>\n",
       "                        <td id=\"T_a56861bd_28c9_11ec_894b_d43d7e4999edrow17_col25\" class=\"data row17 col25\" >-0.003</td>\n",
       "            </tr>\n",
       "            <tr>\n",
       "                        <th id=\"T_a56861bd_28c9_11ec_894b_d43d7e4999edlevel0_row18\" class=\"row_heading level0 row18\" >bki_age_reg</th>\n",
       "                        <td id=\"T_a56861bd_28c9_11ec_894b_d43d7e4999edrow18_col0\" class=\"data row18 col0\" >-0.147</td>\n",
       "                        <td id=\"T_a56861bd_28c9_11ec_894b_d43d7e4999edrow18_col1\" class=\"data row18 col1\" >0.602</td>\n",
       "                        <td id=\"T_a56861bd_28c9_11ec_894b_d43d7e4999edrow18_col2\" class=\"data row18 col2\" >-0.065</td>\n",
       "                        <td id=\"T_a56861bd_28c9_11ec_894b_d43d7e4999edrow18_col3\" class=\"data row18 col3\" >-0.084</td>\n",
       "                        <td id=\"T_a56861bd_28c9_11ec_894b_d43d7e4999edrow18_col4\" class=\"data row18 col4\" >0.061</td>\n",
       "                        <td id=\"T_a56861bd_28c9_11ec_894b_d43d7e4999edrow18_col5\" class=\"data row18 col5\" >-0.081</td>\n",
       "                        <td id=\"T_a56861bd_28c9_11ec_894b_d43d7e4999edrow18_col6\" class=\"data row18 col6\" >0.499</td>\n",
       "                        <td id=\"T_a56861bd_28c9_11ec_894b_d43d7e4999edrow18_col7\" class=\"data row18 col7\" >0.104</td>\n",
       "                        <td id=\"T_a56861bd_28c9_11ec_894b_d43d7e4999edrow18_col8\" class=\"data row18 col8\" >-0.548</td>\n",
       "                        <td id=\"T_a56861bd_28c9_11ec_894b_d43d7e4999edrow18_col9\" class=\"data row18 col9\" >-0.117</td>\n",
       "                        <td id=\"T_a56861bd_28c9_11ec_894b_d43d7e4999edrow18_col10\" class=\"data row18 col10\" >-0.137</td>\n",
       "                        <td id=\"T_a56861bd_28c9_11ec_894b_d43d7e4999edrow18_col11\" class=\"data row18 col11\" >-0.197</td>\n",
       "                        <td id=\"T_a56861bd_28c9_11ec_894b_d43d7e4999edrow18_col12\" class=\"data row18 col12\" >0.030</td>\n",
       "                        <td id=\"T_a56861bd_28c9_11ec_894b_d43d7e4999edrow18_col13\" class=\"data row18 col13\" >-0.014</td>\n",
       "                        <td id=\"T_a56861bd_28c9_11ec_894b_d43d7e4999edrow18_col14\" class=\"data row18 col14\" >-0.163</td>\n",
       "                        <td id=\"T_a56861bd_28c9_11ec_894b_d43d7e4999edrow18_col15\" class=\"data row18 col15\" >0.126</td>\n",
       "                        <td id=\"T_a56861bd_28c9_11ec_894b_d43d7e4999edrow18_col16\" class=\"data row18 col16\" >-0.027</td>\n",
       "                        <td id=\"T_a56861bd_28c9_11ec_894b_d43d7e4999edrow18_col17\" class=\"data row18 col17\" >-0.029</td>\n",
       "                        <td id=\"T_a56861bd_28c9_11ec_894b_d43d7e4999edrow18_col18\" class=\"data row18 col18\" >1.000</td>\n",
       "                        <td id=\"T_a56861bd_28c9_11ec_894b_d43d7e4999edrow18_col19\" class=\"data row18 col19\" >0.011</td>\n",
       "                        <td id=\"T_a56861bd_28c9_11ec_894b_d43d7e4999edrow18_col20\" class=\"data row18 col20\" >-0.101</td>\n",
       "                        <td id=\"T_a56861bd_28c9_11ec_894b_d43d7e4999edrow18_col21\" class=\"data row18 col21\" >-0.161</td>\n",
       "                        <td id=\"T_a56861bd_28c9_11ec_894b_d43d7e4999edrow18_col22\" class=\"data row18 col22\" >-0.077</td>\n",
       "                        <td id=\"T_a56861bd_28c9_11ec_894b_d43d7e4999edrow18_col23\" class=\"data row18 col23\" >-0.114</td>\n",
       "                        <td id=\"T_a56861bd_28c9_11ec_894b_d43d7e4999edrow18_col24\" class=\"data row18 col24\" >-0.109</td>\n",
       "                        <td id=\"T_a56861bd_28c9_11ec_894b_d43d7e4999edrow18_col25\" class=\"data row18 col25\" >-0.070</td>\n",
       "            </tr>\n",
       "            <tr>\n",
       "                        <th id=\"T_a56861bd_28c9_11ec_894b_d43d7e4999edlevel0_row19\" class=\"row_heading level0 row19\" >mult_sna_ftime</th>\n",
       "                        <td id=\"T_a56861bd_28c9_11ec_894b_d43d7e4999edrow19_col0\" class=\"data row19 col0\" >0.012</td>\n",
       "                        <td id=\"T_a56861bd_28c9_11ec_894b_d43d7e4999edrow19_col1\" class=\"data row19 col1\" >-0.036</td>\n",
       "                        <td id=\"T_a56861bd_28c9_11ec_894b_d43d7e4999edrow19_col2\" class=\"data row19 col2\" >-0.003</td>\n",
       "                        <td id=\"T_a56861bd_28c9_11ec_894b_d43d7e4999edrow19_col3\" class=\"data row19 col3\" >-0.007</td>\n",
       "                        <td id=\"T_a56861bd_28c9_11ec_894b_d43d7e4999edrow19_col4\" class=\"data row19 col4\" >0.027</td>\n",
       "                        <td id=\"T_a56861bd_28c9_11ec_894b_d43d7e4999edrow19_col5\" class=\"data row19 col5\" >-0.013</td>\n",
       "                        <td id=\"T_a56861bd_28c9_11ec_894b_d43d7e4999edrow19_col6\" class=\"data row19 col6\" >0.040</td>\n",
       "                        <td id=\"T_a56861bd_28c9_11ec_894b_d43d7e4999edrow19_col7\" class=\"data row19 col7\" >0.025</td>\n",
       "                        <td id=\"T_a56861bd_28c9_11ec_894b_d43d7e4999edrow19_col8\" class=\"data row19 col8\" >-0.017</td>\n",
       "                        <td id=\"T_a56861bd_28c9_11ec_894b_d43d7e4999edrow19_col9\" class=\"data row19 col9\" >0.062</td>\n",
       "                        <td id=\"T_a56861bd_28c9_11ec_894b_d43d7e4999edrow19_col10\" class=\"data row19 col10\" >0.059</td>\n",
       "                        <td id=\"T_a56861bd_28c9_11ec_894b_d43d7e4999edrow19_col11\" class=\"data row19 col11\" >-0.003</td>\n",
       "                        <td id=\"T_a56861bd_28c9_11ec_894b_d43d7e4999edrow19_col12\" class=\"data row19 col12\" >0.611</td>\n",
       "                        <td id=\"T_a56861bd_28c9_11ec_894b_d43d7e4999edrow19_col13\" class=\"data row19 col13\" >0.236</td>\n",
       "                        <td id=\"T_a56861bd_28c9_11ec_894b_d43d7e4999edrow19_col14\" class=\"data row19 col14\" >-0.047</td>\n",
       "                        <td id=\"T_a56861bd_28c9_11ec_894b_d43d7e4999edrow19_col15\" class=\"data row19 col15\" >0.066</td>\n",
       "                        <td id=\"T_a56861bd_28c9_11ec_894b_d43d7e4999edrow19_col16\" class=\"data row19 col16\" >-0.005</td>\n",
       "                        <td id=\"T_a56861bd_28c9_11ec_894b_d43d7e4999edrow19_col17\" class=\"data row19 col17\" >-0.007</td>\n",
       "                        <td id=\"T_a56861bd_28c9_11ec_894b_d43d7e4999edrow19_col18\" class=\"data row19 col18\" >0.011</td>\n",
       "                        <td id=\"T_a56861bd_28c9_11ec_894b_d43d7e4999edrow19_col19\" class=\"data row19 col19\" >1.000</td>\n",
       "                        <td id=\"T_a56861bd_28c9_11ec_894b_d43d7e4999edrow19_col20\" class=\"data row19 col20\" >-0.014</td>\n",
       "                        <td id=\"T_a56861bd_28c9_11ec_894b_d43d7e4999edrow19_col21\" class=\"data row19 col21\" >-0.032</td>\n",
       "                        <td id=\"T_a56861bd_28c9_11ec_894b_d43d7e4999edrow19_col22\" class=\"data row19 col22\" >-0.016</td>\n",
       "                        <td id=\"T_a56861bd_28c9_11ec_894b_d43d7e4999edrow19_col23\" class=\"data row19 col23\" >-0.024</td>\n",
       "                        <td id=\"T_a56861bd_28c9_11ec_894b_d43d7e4999edrow19_col24\" class=\"data row19 col24\" >-0.029</td>\n",
       "                        <td id=\"T_a56861bd_28c9_11ec_894b_d43d7e4999edrow19_col25\" class=\"data row19 col25\" >-0.007</td>\n",
       "            </tr>\n",
       "            <tr>\n",
       "                        <th id=\"T_a56861bd_28c9_11ec_894b_d43d7e4999edlevel0_row20\" class=\"row_heading level0 row20\" >edu_and_income</th>\n",
       "                        <td id=\"T_a56861bd_28c9_11ec_894b_d43d7e4999edrow20_col0\" class=\"data row20 col0\" >0.121</td>\n",
       "                        <td id=\"T_a56861bd_28c9_11ec_894b_d43d7e4999edrow20_col1\" class=\"data row20 col1\" >-0.015</td>\n",
       "                        <td id=\"T_a56861bd_28c9_11ec_894b_d43d7e4999edrow20_col2\" class=\"data row20 col2\" >0.197</td>\n",
       "                        <td id=\"T_a56861bd_28c9_11ec_894b_d43d7e4999edrow20_col3\" class=\"data row20 col3\" >0.257</td>\n",
       "                        <td id=\"T_a56861bd_28c9_11ec_894b_d43d7e4999edrow20_col4\" class=\"data row20 col4\" >-0.041</td>\n",
       "                        <td id=\"T_a56861bd_28c9_11ec_894b_d43d7e4999edrow20_col5\" class=\"data row20 col5\" >0.081</td>\n",
       "                        <td id=\"T_a56861bd_28c9_11ec_894b_d43d7e4999edrow20_col6\" class=\"data row20 col6\" >-0.022</td>\n",
       "                        <td id=\"T_a56861bd_28c9_11ec_894b_d43d7e4999edrow20_col7\" class=\"data row20 col7\" >0.042</td>\n",
       "                        <td id=\"T_a56861bd_28c9_11ec_894b_d43d7e4999edrow20_col8\" class=\"data row20 col8\" >0.169</td>\n",
       "                        <td id=\"T_a56861bd_28c9_11ec_894b_d43d7e4999edrow20_col9\" class=\"data row20 col9\" >0.029</td>\n",
       "                        <td id=\"T_a56861bd_28c9_11ec_894b_d43d7e4999edrow20_col10\" class=\"data row20 col10\" >0.035</td>\n",
       "                        <td id=\"T_a56861bd_28c9_11ec_894b_d43d7e4999edrow20_col11\" class=\"data row20 col11\" >0.564</td>\n",
       "                        <td id=\"T_a56861bd_28c9_11ec_894b_d43d7e4999edrow20_col12\" class=\"data row20 col12\" >-0.094</td>\n",
       "                        <td id=\"T_a56861bd_28c9_11ec_894b_d43d7e4999edrow20_col13\" class=\"data row20 col13\" >0.111</td>\n",
       "                        <td id=\"T_a56861bd_28c9_11ec_894b_d43d7e4999edrow20_col14\" class=\"data row20 col14\" >0.226</td>\n",
       "                        <td id=\"T_a56861bd_28c9_11ec_894b_d43d7e4999edrow20_col15\" class=\"data row20 col15\" >-0.056</td>\n",
       "                        <td id=\"T_a56861bd_28c9_11ec_894b_d43d7e4999edrow20_col16\" class=\"data row20 col16\" >0.015</td>\n",
       "                        <td id=\"T_a56861bd_28c9_11ec_894b_d43d7e4999edrow20_col17\" class=\"data row20 col17\" >0.014</td>\n",
       "                        <td id=\"T_a56861bd_28c9_11ec_894b_d43d7e4999edrow20_col18\" class=\"data row20 col18\" >-0.101</td>\n",
       "                        <td id=\"T_a56861bd_28c9_11ec_894b_d43d7e4999edrow20_col19\" class=\"data row20 col19\" >-0.014</td>\n",
       "                        <td id=\"T_a56861bd_28c9_11ec_894b_d43d7e4999edrow20_col20\" class=\"data row20 col20\" >1.000</td>\n",
       "                        <td id=\"T_a56861bd_28c9_11ec_894b_d43d7e4999edrow20_col21\" class=\"data row20 col21\" >0.282</td>\n",
       "                        <td id=\"T_a56861bd_28c9_11ec_894b_d43d7e4999edrow20_col22\" class=\"data row20 col22\" >0.145</td>\n",
       "                        <td id=\"T_a56861bd_28c9_11ec_894b_d43d7e4999edrow20_col23\" class=\"data row20 col23\" >0.145</td>\n",
       "                        <td id=\"T_a56861bd_28c9_11ec_894b_d43d7e4999edrow20_col24\" class=\"data row20 col24\" >0.245</td>\n",
       "                        <td id=\"T_a56861bd_28c9_11ec_894b_d43d7e4999edrow20_col25\" class=\"data row20 col25\" >0.122</td>\n",
       "            </tr>\n",
       "            <tr>\n",
       "                        <th id=\"T_a56861bd_28c9_11ec_894b_d43d7e4999edlevel0_row21\" class=\"row_heading level0 row21\" >success_client</th>\n",
       "                        <td id=\"T_a56861bd_28c9_11ec_894b_d43d7e4999edrow21_col0\" class=\"data row21 col0\" >0.173</td>\n",
       "                        <td id=\"T_a56861bd_28c9_11ec_894b_d43d7e4999edrow21_col1\" class=\"data row21 col1\" >-0.066</td>\n",
       "                        <td id=\"T_a56861bd_28c9_11ec_894b_d43d7e4999edrow21_col2\" class=\"data row21 col2\" >0.599</td>\n",
       "                        <td id=\"T_a56861bd_28c9_11ec_894b_d43d7e4999edrow21_col3\" class=\"data row21 col3\" >0.483</td>\n",
       "                        <td id=\"T_a56861bd_28c9_11ec_894b_d43d7e4999edrow21_col4\" class=\"data row21 col4\" >-0.051</td>\n",
       "                        <td id=\"T_a56861bd_28c9_11ec_894b_d43d7e4999edrow21_col5\" class=\"data row21 col5\" >0.523</td>\n",
       "                        <td id=\"T_a56861bd_28c9_11ec_894b_d43d7e4999edrow21_col6\" class=\"data row21 col6\" >-0.036</td>\n",
       "                        <td id=\"T_a56861bd_28c9_11ec_894b_d43d7e4999edrow21_col7\" class=\"data row21 col7\" >-0.028</td>\n",
       "                        <td id=\"T_a56861bd_28c9_11ec_894b_d43d7e4999edrow21_col8\" class=\"data row21 col8\" >0.207</td>\n",
       "                        <td id=\"T_a56861bd_28c9_11ec_894b_d43d7e4999edrow21_col9\" class=\"data row21 col9\" >0.011</td>\n",
       "                        <td id=\"T_a56861bd_28c9_11ec_894b_d43d7e4999edrow21_col10\" class=\"data row21 col10\" >0.022</td>\n",
       "                        <td id=\"T_a56861bd_28c9_11ec_894b_d43d7e4999edrow21_col11\" class=\"data row21 col11\" >0.339</td>\n",
       "                        <td id=\"T_a56861bd_28c9_11ec_894b_d43d7e4999edrow21_col12\" class=\"data row21 col12\" >-0.150</td>\n",
       "                        <td id=\"T_a56861bd_28c9_11ec_894b_d43d7e4999edrow21_col13\" class=\"data row21 col13\" >0.173</td>\n",
       "                        <td id=\"T_a56861bd_28c9_11ec_894b_d43d7e4999edrow21_col14\" class=\"data row21 col14\" >0.597</td>\n",
       "                        <td id=\"T_a56861bd_28c9_11ec_894b_d43d7e4999edrow21_col15\" class=\"data row21 col15\" >-0.077</td>\n",
       "                        <td id=\"T_a56861bd_28c9_11ec_894b_d43d7e4999edrow21_col16\" class=\"data row21 col16\" >-0.013</td>\n",
       "                        <td id=\"T_a56861bd_28c9_11ec_894b_d43d7e4999edrow21_col17\" class=\"data row21 col17\" >-0.014</td>\n",
       "                        <td id=\"T_a56861bd_28c9_11ec_894b_d43d7e4999edrow21_col18\" class=\"data row21 col18\" >-0.161</td>\n",
       "                        <td id=\"T_a56861bd_28c9_11ec_894b_d43d7e4999edrow21_col19\" class=\"data row21 col19\" >-0.032</td>\n",
       "                        <td id=\"T_a56861bd_28c9_11ec_894b_d43d7e4999edrow21_col20\" class=\"data row21 col20\" >0.282</td>\n",
       "                        <td id=\"T_a56861bd_28c9_11ec_894b_d43d7e4999edrow21_col21\" class=\"data row21 col21\" >1.000</td>\n",
       "                        <td id=\"T_a56861bd_28c9_11ec_894b_d43d7e4999edrow21_col22\" class=\"data row21 col22\" >0.625</td>\n",
       "                        <td id=\"T_a56861bd_28c9_11ec_894b_d43d7e4999edrow21_col23\" class=\"data row21 col23\" >0.606</td>\n",
       "                        <td id=\"T_a56861bd_28c9_11ec_894b_d43d7e4999edrow21_col24\" class=\"data row21 col24\" >0.686</td>\n",
       "                        <td id=\"T_a56861bd_28c9_11ec_894b_d43d7e4999edrow21_col25\" class=\"data row21 col25\" >0.653</td>\n",
       "            </tr>\n",
       "            <tr>\n",
       "                        <th id=\"T_a56861bd_28c9_11ec_894b_d43d7e4999edlevel0_row22\" class=\"row_heading level0 row22\" >very_success_client</th>\n",
       "                        <td id=\"T_a56861bd_28c9_11ec_894b_d43d7e4999edrow22_col0\" class=\"data row22 col0\" >0.050</td>\n",
       "                        <td id=\"T_a56861bd_28c9_11ec_894b_d43d7e4999edrow22_col1\" class=\"data row22 col1\" >-0.022</td>\n",
       "                        <td id=\"T_a56861bd_28c9_11ec_894b_d43d7e4999edrow22_col2\" class=\"data row22 col2\" >0.172</td>\n",
       "                        <td id=\"T_a56861bd_28c9_11ec_894b_d43d7e4999edrow22_col3\" class=\"data row22 col3\" >0.181</td>\n",
       "                        <td id=\"T_a56861bd_28c9_11ec_894b_d43d7e4999edrow22_col4\" class=\"data row22 col4\" >-0.024</td>\n",
       "                        <td id=\"T_a56861bd_28c9_11ec_894b_d43d7e4999edrow22_col5\" class=\"data row22 col5\" >0.269</td>\n",
       "                        <td id=\"T_a56861bd_28c9_11ec_894b_d43d7e4999edrow22_col6\" class=\"data row22 col6\" >-0.018</td>\n",
       "                        <td id=\"T_a56861bd_28c9_11ec_894b_d43d7e4999edrow22_col7\" class=\"data row22 col7\" >-0.012</td>\n",
       "                        <td id=\"T_a56861bd_28c9_11ec_894b_d43d7e4999edrow22_col8\" class=\"data row22 col8\" >0.101</td>\n",
       "                        <td id=\"T_a56861bd_28c9_11ec_894b_d43d7e4999edrow22_col9\" class=\"data row22 col9\" >0.019</td>\n",
       "                        <td id=\"T_a56861bd_28c9_11ec_894b_d43d7e4999edrow22_col10\" class=\"data row22 col10\" >0.027</td>\n",
       "                        <td id=\"T_a56861bd_28c9_11ec_894b_d43d7e4999edrow22_col11\" class=\"data row22 col11\" >0.132</td>\n",
       "                        <td id=\"T_a56861bd_28c9_11ec_894b_d43d7e4999edrow22_col12\" class=\"data row22 col12\" >-0.058</td>\n",
       "                        <td id=\"T_a56861bd_28c9_11ec_894b_d43d7e4999edrow22_col13\" class=\"data row22 col13\" >0.069</td>\n",
       "                        <td id=\"T_a56861bd_28c9_11ec_894b_d43d7e4999edrow22_col14\" class=\"data row22 col14\" >0.285</td>\n",
       "                        <td id=\"T_a56861bd_28c9_11ec_894b_d43d7e4999edrow22_col15\" class=\"data row22 col15\" >-0.027</td>\n",
       "                        <td id=\"T_a56861bd_28c9_11ec_894b_d43d7e4999edrow22_col16\" class=\"data row22 col16\" >0.005</td>\n",
       "                        <td id=\"T_a56861bd_28c9_11ec_894b_d43d7e4999edrow22_col17\" class=\"data row22 col17\" >0.003</td>\n",
       "                        <td id=\"T_a56861bd_28c9_11ec_894b_d43d7e4999edrow22_col18\" class=\"data row22 col18\" >-0.077</td>\n",
       "                        <td id=\"T_a56861bd_28c9_11ec_894b_d43d7e4999edrow22_col19\" class=\"data row22 col19\" >-0.016</td>\n",
       "                        <td id=\"T_a56861bd_28c9_11ec_894b_d43d7e4999edrow22_col20\" class=\"data row22 col20\" >0.145</td>\n",
       "                        <td id=\"T_a56861bd_28c9_11ec_894b_d43d7e4999edrow22_col21\" class=\"data row22 col21\" >0.625</td>\n",
       "                        <td id=\"T_a56861bd_28c9_11ec_894b_d43d7e4999edrow22_col22\" class=\"data row22 col22\" >1.000</td>\n",
       "                        <td id=\"T_a56861bd_28c9_11ec_894b_d43d7e4999edrow22_col23\" class=\"data row22 col23\" >0.670</td>\n",
       "                        <td id=\"T_a56861bd_28c9_11ec_894b_d43d7e4999edrow22_col24\" class=\"data row22 col24\" >0.448</td>\n",
       "                        <td id=\"T_a56861bd_28c9_11ec_894b_d43d7e4999edrow22_col25\" class=\"data row22 col25\" >0.501</td>\n",
       "            </tr>\n",
       "            <tr>\n",
       "                        <th id=\"T_a56861bd_28c9_11ec_894b_d43d7e4999edlevel0_row23\" class=\"row_heading level0 row23\" >fpassp_and_gwork</th>\n",
       "                        <td id=\"T_a56861bd_28c9_11ec_894b_d43d7e4999edrow23_col0\" class=\"data row23 col0\" >0.028</td>\n",
       "                        <td id=\"T_a56861bd_28c9_11ec_894b_d43d7e4999edrow23_col1\" class=\"data row23 col1\" >-0.045</td>\n",
       "                        <td id=\"T_a56861bd_28c9_11ec_894b_d43d7e4999edrow23_col2\" class=\"data row23 col2\" >0.050</td>\n",
       "                        <td id=\"T_a56861bd_28c9_11ec_894b_d43d7e4999edrow23_col3\" class=\"data row23 col3\" >0.077</td>\n",
       "                        <td id=\"T_a56861bd_28c9_11ec_894b_d43d7e4999edrow23_col4\" class=\"data row23 col4\" >-0.025</td>\n",
       "                        <td id=\"T_a56861bd_28c9_11ec_894b_d43d7e4999edrow23_col5\" class=\"data row23 col5\" >0.402</td>\n",
       "                        <td id=\"T_a56861bd_28c9_11ec_894b_d43d7e4999edrow23_col6\" class=\"data row23 col6\" >-0.013</td>\n",
       "                        <td id=\"T_a56861bd_28c9_11ec_894b_d43d7e4999edrow23_col7\" class=\"data row23 col7\" >-0.007</td>\n",
       "                        <td id=\"T_a56861bd_28c9_11ec_894b_d43d7e4999edrow23_col8\" class=\"data row23 col8\" >0.148</td>\n",
       "                        <td id=\"T_a56861bd_28c9_11ec_894b_d43d7e4999edrow23_col9\" class=\"data row23 col9\" >0.028</td>\n",
       "                        <td id=\"T_a56861bd_28c9_11ec_894b_d43d7e4999edrow23_col10\" class=\"data row23 col10\" >0.035</td>\n",
       "                        <td id=\"T_a56861bd_28c9_11ec_894b_d43d7e4999edrow23_col11\" class=\"data row23 col11\" >0.140</td>\n",
       "                        <td id=\"T_a56861bd_28c9_11ec_894b_d43d7e4999edrow23_col12\" class=\"data row23 col12\" >-0.083</td>\n",
       "                        <td id=\"T_a56861bd_28c9_11ec_894b_d43d7e4999edrow23_col13\" class=\"data row23 col13\" >0.094</td>\n",
       "                        <td id=\"T_a56861bd_28c9_11ec_894b_d43d7e4999edrow23_col14\" class=\"data row23 col14\" >0.425</td>\n",
       "                        <td id=\"T_a56861bd_28c9_11ec_894b_d43d7e4999edrow23_col15\" class=\"data row23 col15\" >-0.039</td>\n",
       "                        <td id=\"T_a56861bd_28c9_11ec_894b_d43d7e4999edrow23_col16\" class=\"data row23 col16\" >-0.001</td>\n",
       "                        <td id=\"T_a56861bd_28c9_11ec_894b_d43d7e4999edrow23_col17\" class=\"data row23 col17\" >-0.001</td>\n",
       "                        <td id=\"T_a56861bd_28c9_11ec_894b_d43d7e4999edrow23_col18\" class=\"data row23 col18\" >-0.114</td>\n",
       "                        <td id=\"T_a56861bd_28c9_11ec_894b_d43d7e4999edrow23_col19\" class=\"data row23 col19\" >-0.024</td>\n",
       "                        <td id=\"T_a56861bd_28c9_11ec_894b_d43d7e4999edrow23_col20\" class=\"data row23 col20\" >0.145</td>\n",
       "                        <td id=\"T_a56861bd_28c9_11ec_894b_d43d7e4999edrow23_col21\" class=\"data row23 col21\" >0.606</td>\n",
       "                        <td id=\"T_a56861bd_28c9_11ec_894b_d43d7e4999edrow23_col22\" class=\"data row23 col22\" >0.670</td>\n",
       "                        <td id=\"T_a56861bd_28c9_11ec_894b_d43d7e4999edrow23_col23\" class=\"data row23 col23\" >1.000</td>\n",
       "                        <td id=\"T_a56861bd_28c9_11ec_894b_d43d7e4999edrow23_col24\" class=\"data row23 col24\" >0.279</td>\n",
       "                        <td id=\"T_a56861bd_28c9_11ec_894b_d43d7e4999edrow23_col25\" class=\"data row23 col25\" >0.319</td>\n",
       "            </tr>\n",
       "            <tr>\n",
       "                        <th id=\"T_a56861bd_28c9_11ec_894b_d43d7e4999edlevel0_row24\" class=\"row_heading level0 row24\" >fpassp_and_car</th>\n",
       "                        <td id=\"T_a56861bd_28c9_11ec_894b_d43d7e4999edrow24_col0\" class=\"data row24 col0\" >0.129</td>\n",
       "                        <td id=\"T_a56861bd_28c9_11ec_894b_d43d7e4999edrow24_col1\" class=\"data row24 col1\" >-0.008</td>\n",
       "                        <td id=\"T_a56861bd_28c9_11ec_894b_d43d7e4999edrow24_col2\" class=\"data row24 col2\" >0.385</td>\n",
       "                        <td id=\"T_a56861bd_28c9_11ec_894b_d43d7e4999edrow24_col3\" class=\"data row24 col3\" >0.370</td>\n",
       "                        <td id=\"T_a56861bd_28c9_11ec_894b_d43d7e4999edrow24_col4\" class=\"data row24 col4\" >-0.036</td>\n",
       "                        <td id=\"T_a56861bd_28c9_11ec_894b_d43d7e4999edrow24_col5\" class=\"data row24 col5\" >0.034</td>\n",
       "                        <td id=\"T_a56861bd_28c9_11ec_894b_d43d7e4999edrow24_col6\" class=\"data row24 col6\" >-0.033</td>\n",
       "                        <td id=\"T_a56861bd_28c9_11ec_894b_d43d7e4999edrow24_col7\" class=\"data row24 col7\" >-0.017</td>\n",
       "                        <td id=\"T_a56861bd_28c9_11ec_894b_d43d7e4999edrow24_col8\" class=\"data row24 col8\" >0.174</td>\n",
       "                        <td id=\"T_a56861bd_28c9_11ec_894b_d43d7e4999edrow24_col9\" class=\"data row24 col9\" >0.022</td>\n",
       "                        <td id=\"T_a56861bd_28c9_11ec_894b_d43d7e4999edrow24_col10\" class=\"data row24 col10\" >0.027</td>\n",
       "                        <td id=\"T_a56861bd_28c9_11ec_894b_d43d7e4999edrow24_col11\" class=\"data row24 col11\" >0.267</td>\n",
       "                        <td id=\"T_a56861bd_28c9_11ec_894b_d43d7e4999edrow24_col12\" class=\"data row24 col12\" >-0.116</td>\n",
       "                        <td id=\"T_a56861bd_28c9_11ec_894b_d43d7e4999edrow24_col13\" class=\"data row24 col13\" >0.136</td>\n",
       "                        <td id=\"T_a56861bd_28c9_11ec_894b_d43d7e4999edrow24_col14\" class=\"data row24 col14\" >0.636</td>\n",
       "                        <td id=\"T_a56861bd_28c9_11ec_894b_d43d7e4999edrow24_col15\" class=\"data row24 col15\" >-0.053</td>\n",
       "                        <td id=\"T_a56861bd_28c9_11ec_894b_d43d7e4999edrow24_col16\" class=\"data row24 col16\" >-0.009</td>\n",
       "                        <td id=\"T_a56861bd_28c9_11ec_894b_d43d7e4999edrow24_col17\" class=\"data row24 col17\" >-0.010</td>\n",
       "                        <td id=\"T_a56861bd_28c9_11ec_894b_d43d7e4999edrow24_col18\" class=\"data row24 col18\" >-0.109</td>\n",
       "                        <td id=\"T_a56861bd_28c9_11ec_894b_d43d7e4999edrow24_col19\" class=\"data row24 col19\" >-0.029</td>\n",
       "                        <td id=\"T_a56861bd_28c9_11ec_894b_d43d7e4999edrow24_col20\" class=\"data row24 col20\" >0.245</td>\n",
       "                        <td id=\"T_a56861bd_28c9_11ec_894b_d43d7e4999edrow24_col21\" class=\"data row24 col21\" >0.686</td>\n",
       "                        <td id=\"T_a56861bd_28c9_11ec_894b_d43d7e4999edrow24_col22\" class=\"data row24 col22\" >0.448</td>\n",
       "                        <td id=\"T_a56861bd_28c9_11ec_894b_d43d7e4999edrow24_col23\" class=\"data row24 col23\" >0.279</td>\n",
       "                        <td id=\"T_a56861bd_28c9_11ec_894b_d43d7e4999edrow24_col24\" class=\"data row24 col24\" >1.000</td>\n",
       "                        <td id=\"T_a56861bd_28c9_11ec_894b_d43d7e4999edrow24_col25\" class=\"data row24 col25\" >0.187</td>\n",
       "            </tr>\n",
       "            <tr>\n",
       "                        <th id=\"T_a56861bd_28c9_11ec_894b_d43d7e4999edlevel0_row25\" class=\"row_heading level0 row25\" >gwork_and_car</th>\n",
       "                        <td id=\"T_a56861bd_28c9_11ec_894b_d43d7e4999edrow25_col0\" class=\"data row25 col0\" >0.065</td>\n",
       "                        <td id=\"T_a56861bd_28c9_11ec_894b_d43d7e4999edrow25_col1\" class=\"data row25 col1\" >-0.047</td>\n",
       "                        <td id=\"T_a56861bd_28c9_11ec_894b_d43d7e4999edrow25_col2\" class=\"data row25 col2\" >0.344</td>\n",
       "                        <td id=\"T_a56861bd_28c9_11ec_894b_d43d7e4999edrow25_col3\" class=\"data row25 col3\" >0.267</td>\n",
       "                        <td id=\"T_a56861bd_28c9_11ec_894b_d43d7e4999edrow25_col4\" class=\"data row25 col4\" >-0.025</td>\n",
       "                        <td id=\"T_a56861bd_28c9_11ec_894b_d43d7e4999edrow25_col5\" class=\"data row25 col5\" >0.537</td>\n",
       "                        <td id=\"T_a56861bd_28c9_11ec_894b_d43d7e4999edrow25_col6\" class=\"data row25 col6\" >-0.014</td>\n",
       "                        <td id=\"T_a56861bd_28c9_11ec_894b_d43d7e4999edrow25_col7\" class=\"data row25 col7\" >-0.012</td>\n",
       "                        <td id=\"T_a56861bd_28c9_11ec_894b_d43d7e4999edrow25_col8\" class=\"data row25 col8\" >0.067</td>\n",
       "                        <td id=\"T_a56861bd_28c9_11ec_894b_d43d7e4999edrow25_col9\" class=\"data row25 col9\" >-0.002</td>\n",
       "                        <td id=\"T_a56861bd_28c9_11ec_894b_d43d7e4999edrow25_col10\" class=\"data row25 col10\" >0.007</td>\n",
       "                        <td id=\"T_a56861bd_28c9_11ec_894b_d43d7e4999edrow25_col11\" class=\"data row25 col11\" >0.128</td>\n",
       "                        <td id=\"T_a56861bd_28c9_11ec_894b_d43d7e4999edrow25_col12\" class=\"data row25 col12\" >-0.051</td>\n",
       "                        <td id=\"T_a56861bd_28c9_11ec_894b_d43d7e4999edrow25_col13\" class=\"data row25 col13\" >0.063</td>\n",
       "                        <td id=\"T_a56861bd_28c9_11ec_894b_d43d7e4999edrow25_col14\" class=\"data row25 col14\" >0.075</td>\n",
       "                        <td id=\"T_a56861bd_28c9_11ec_894b_d43d7e4999edrow25_col15\" class=\"data row25 col15\" >-0.033</td>\n",
       "                        <td id=\"T_a56861bd_28c9_11ec_894b_d43d7e4999edrow25_col16\" class=\"data row25 col16\" >-0.002</td>\n",
       "                        <td id=\"T_a56861bd_28c9_11ec_894b_d43d7e4999edrow25_col17\" class=\"data row25 col17\" >-0.003</td>\n",
       "                        <td id=\"T_a56861bd_28c9_11ec_894b_d43d7e4999edrow25_col18\" class=\"data row25 col18\" >-0.070</td>\n",
       "                        <td id=\"T_a56861bd_28c9_11ec_894b_d43d7e4999edrow25_col19\" class=\"data row25 col19\" >-0.007</td>\n",
       "                        <td id=\"T_a56861bd_28c9_11ec_894b_d43d7e4999edrow25_col20\" class=\"data row25 col20\" >0.122</td>\n",
       "                        <td id=\"T_a56861bd_28c9_11ec_894b_d43d7e4999edrow25_col21\" class=\"data row25 col21\" >0.653</td>\n",
       "                        <td id=\"T_a56861bd_28c9_11ec_894b_d43d7e4999edrow25_col22\" class=\"data row25 col22\" >0.501</td>\n",
       "                        <td id=\"T_a56861bd_28c9_11ec_894b_d43d7e4999edrow25_col23\" class=\"data row25 col23\" >0.319</td>\n",
       "                        <td id=\"T_a56861bd_28c9_11ec_894b_d43d7e4999edrow25_col24\" class=\"data row25 col24\" >0.187</td>\n",
       "                        <td id=\"T_a56861bd_28c9_11ec_894b_d43d7e4999edrow25_col25\" class=\"data row25 col25\" >1.000</td>\n",
       "            </tr>\n",
       "    </tbody></table>"
      ],
      "text/plain": [
       "<pandas.io.formats.style.Styler at 0x1abe3eaa160>"
      ]
     },
     "execution_count": 64,
     "metadata": {},
     "output_type": "execute_result"
    }
   ],
   "source": [
    "# посмотрим на корреляцию признаков обучающей базы\n",
    "corr_train = train.drop(['client_id', 'education'],axis = 1).corr()\n",
    "corr_train.style.background_gradient(cmap='coolwarm').set_precision(3)"
   ]
  },
  {
   "cell_type": "code",
   "execution_count": 65,
   "metadata": {},
   "outputs": [],
   "source": [
    "# Признаки с высокой корреляцией удалим (выше 0.8 по модулю)\n",
    "cat_cols.remove('month')"
   ]
  },
  {
   "cell_type": "markdown",
   "metadata": {},
   "source": [
    "Подготовим модель"
   ]
  },
  {
   "cell_type": "code",
   "execution_count": 66,
   "metadata": {},
   "outputs": [
    {
     "data": {
      "text/plain": [
       "array([[1., 0., 0., ..., 0., 0., 0.],\n",
       "       [1., 0., 0., ..., 0., 0., 0.],\n",
       "       [1., 0., 0., ..., 1., 0., 0.],\n",
       "       ...,\n",
       "       [1., 0., 0., ..., 0., 0., 0.],\n",
       "       [1., 0., 0., ..., 0., 0., 0.],\n",
       "       [0., 0., 0., ..., 0., 0., 0.]])"
      ]
     },
     "execution_count": 66,
     "metadata": {},
     "output_type": "execute_result"
    }
   ],
   "source": [
    "X_cat = OneHotEncoder(sparse = False).fit_transform(train[cat_cols].values)\n",
    "X_cat"
   ]
  },
  {
   "cell_type": "code",
   "execution_count": 67,
   "metadata": {},
   "outputs": [
    {
     "data": {
      "text/plain": [
       "array([[0., 0., 0., ..., 0., 0., 0.],\n",
       "       [1., 0., 0., ..., 0., 0., 1.],\n",
       "       [0., 1., 0., ..., 0., 0., 0.],\n",
       "       ...,\n",
       "       [0., 0., 0., ..., 1., 0., 0.],\n",
       "       [0., 1., 0., ..., 0., 0., 0.],\n",
       "       [1., 0., 0., ..., 0., 0., 0.]])"
      ]
     },
     "execution_count": 67,
     "metadata": {},
     "output_type": "execute_result"
    }
   ],
   "source": [
    "Y_cat = OneHotEncoder(sparse = False).fit_transform(test[cat_cols].values)\n",
    "Y_cat"
   ]
  },
  {
   "cell_type": "code",
   "execution_count": 68,
   "metadata": {},
   "outputs": [
    {
     "data": {
      "text/plain": [
       "array([[ 1.65533216, -0.09524766, -0.77798224, ...,  0.98851239,\n",
       "        -0.08042749, -0.45721178],\n",
       "       [ 1.4999249 ,  0.81111707, -0.6963564 , ...,  1.22122567,\n",
       "        -0.08042749, -0.45547599],\n",
       "       [-1.4235564 , -0.09524766, -0.02257578, ..., -1.10104712,\n",
       "        -0.08042749, -0.43638224],\n",
       "       ...,\n",
       "       [-0.64728574,  1.04723006,  0.55312826, ..., -0.66484442,\n",
       "        -0.08042749, -0.41034531],\n",
       "       [-0.88463179,  0.81111707, -1.27807247, ...,  0.3147392 ,\n",
       "         0.73304037, -0.46589076],\n",
       "       [-0.32335567,  0.47180311, -0.28820487, ...,  0.28245698,\n",
       "        -0.48716142,  0.11907224]])"
      ]
     },
     "execution_count": 68,
     "metadata": {},
     "output_type": "execute_result"
    }
   ],
   "source": [
    "# Стандартизация числовых непрерывных переменных на обучающей базе\n",
    "\n",
    "X_num = StandardScaler().fit_transform(train[num_cols].values)\n",
    "X_num"
   ]
  },
  {
   "cell_type": "code",
   "execution_count": 70,
   "metadata": {},
   "outputs": [
    {
     "data": {
      "text/plain": [
       "array([[-0.87639712,  0.80739222,  0.70236174, ..., -0.66617693,\n",
       "        -0.07356829,  0.7835255 ],\n",
       "       [ 0.15606297,  0.46857465, -2.85246466, ...,  0.77043507,\n",
       "         3.20908805, -0.49782904],\n",
       "       [ 0.97978082, -0.09764656, -0.02250624, ...,  0.94256865,\n",
       "        -0.48390034, -0.34111661],\n",
       "       ...,\n",
       "       [-0.63902145, -0.09764656,  0.95351663, ...,  1.06833449,\n",
       "         1.56775988,  1.04164009],\n",
       "       [-1.13403681,  0.46857465, -0.02250624, ..., -0.49568189,\n",
       "        -1.30456442, -0.34111661],\n",
       "       [ 0.06777833,  0.46857465, -1.06025513, ...,  0.73130861,\n",
       "         1.56775988, -0.47939228]])"
      ]
     },
     "execution_count": 70,
     "metadata": {},
     "output_type": "execute_result"
    }
   ],
   "source": [
    "# Стандартизация числовых непрерывных переменных на тестовой базе\n",
    "\n",
    "Y_num = StandardScaler().fit_transform(test[num_cols].values)\n",
    "Y_num"
   ]
  },
  {
   "cell_type": "code",
   "execution_count": 71,
   "metadata": {},
   "outputs": [],
   "source": [
    "# Объединяем\n",
    "\n",
    "X = np.hstack([X_num, train[bin_cols].values, X_cat])\n",
    "Y = train['default'].values\n",
    "\n",
    "id_test = test['client_id']\n",
    "test = np.hstack([Y_num, test[bin_cols].values, Y_cat])"
   ]
  },
  {
   "cell_type": "code",
   "execution_count": 72,
   "metadata": {},
   "outputs": [],
   "source": [
    "# Разделяем обучающую выборку на тренировочную и валидационную\n",
    "X_train, X_valid, y_train, y_valid = train_test_split(X, Y, test_size=0.2, random_state=42, shuffle = True)"
   ]
  },
  {
   "cell_type": "code",
   "execution_count": 73,
   "metadata": {},
   "outputs": [
    {
     "name": "stdout",
     "output_type": "stream",
     "text": [
      "Лучшее Penalty: l2\n",
      "Лучшее C: 2.7825594022071245\n"
     ]
    }
   ],
   "source": [
    "# Подбор лучших гиперпараметров для модели\n",
    "\n",
    "from sklearn.model_selection import GridSearchCV\n",
    "\n",
    "# Добавим типы регуляризации\n",
    "penalty = ['l1', 'l2']\n",
    "\n",
    "# Зададим ограничения для параметра регуляризации\n",
    "C = np.logspace(0, 4, 10)\n",
    "\n",
    "# Создадим гиперпараметры\n",
    "hyperparameters = dict(C=C, penalty=penalty)\n",
    "\n",
    "model = LogisticRegression()\n",
    "model.fit(X_train, y_train)\n",
    "\n",
    "# Создаем сетку поиска с использованием 5-кратной перекрестной проверки\n",
    "clf = GridSearchCV(model, hyperparameters, cv=5, verbose=0)\n",
    "\n",
    "best_model = clf.fit(X_train, y_train)\n",
    "\n",
    "print('Лучшее Penalty:', best_model.best_estimator_.get_params()['penalty'])\n",
    "print('Лучшее C:', best_model.best_estimator_.get_params()['C'])"
   ]
  },
  {
   "cell_type": "code",
   "execution_count": 75,
   "metadata": {},
   "outputs": [
    {
     "data": {
      "text/plain": [
       "LogisticRegression(C=2.7825594022071245, class_weight='balanced', max_iter=1000,\n",
       "                   solver='liblinear')"
      ]
     },
     "execution_count": 75,
     "metadata": {},
     "output_type": "execute_result"
    }
   ],
   "source": [
    "# Описываем и обучаем модель\n",
    "model = LogisticRegression( \n",
    "                           C=2.7825594022071245, \n",
    "                           class_weight='balanced', \n",
    "                           dual=False, \n",
    "                           fit_intercept=True, \n",
    "                           intercept_scaling=1, \n",
    "                           l1_ratio=None, \n",
    "                           multi_class='auto', \n",
    "                           n_jobs=None, \n",
    "                           penalty='l2', \n",
    "                           solver='liblinear', \n",
    "                           verbose=0, \n",
    "                           max_iter=1000)\n",
    "\n",
    "model.fit(X_train, y_train)"
   ]
  },
  {
   "cell_type": "code",
   "execution_count": 76,
   "metadata": {},
   "outputs": [],
   "source": [
    "# Предсказываем значения валидационной базы\n",
    "Y_predict = model.predict(X_valid)\n",
    "Y_predict_prob = model.predict_proba(X_valid)[:,1]"
   ]
  },
  {
   "cell_type": "code",
   "execution_count": 77,
   "metadata": {},
   "outputs": [],
   "source": [
    "# Предсказываем значения тестовой базы\n",
    "y_pred_test = model.predict(test)\n",
    "y_pred_prob_test = model.predict_proba(test)[:,1]"
   ]
  },
  {
   "cell_type": "markdown",
   "metadata": {},
   "source": [
    "Оценим предварительные результаты"
   ]
  },
  {
   "cell_type": "code",
   "execution_count": 78,
   "metadata": {},
   "outputs": [
    {
     "data": {
      "image/png": "[encoded data removed]",
      "text/plain": [
       "<Figure size 432x288 with 1 Axes>"
      ]
     },
     "metadata": {
      "needs_background": "light"
     },
     "output_type": "display_data"
    }
   ],
   "source": [
    "# Строим ROC-кривую\n",
    "fpr, tpr, threshold = roc_curve(y_valid, Y_predict_prob)\n",
    "roc_auc = roc_auc_score(y_valid, Y_predict_prob)\n",
    "\n",
    "plt.figure()\n",
    "plt.plot([0, 1], label='Baseline', linestyle='--')\n",
    "plt.plot(fpr, tpr, label = 'Regression')\n",
    "plt.title('Logistic Regression ROC AUC = %0.3f' % roc_auc)\n",
    "plt.ylabel('True Positive Rate')\n",
    "plt.xlabel('False Positive Rate')\n",
    "plt.legend(loc = 'lower right')\n",
    "plt.show()"
   ]
  },
  {
   "cell_type": "code",
   "execution_count": 79,
   "metadata": {},
   "outputs": [
    {
     "data": {
      "image/png": "[encoded data removed]",
      "text/plain": [
       "<Figure size 432x432 with 2 Axes>"
      ]
     },
     "metadata": {
      "needs_background": "light"
     },
     "output_type": "display_data"
    }
   ],
   "source": [
    "# Выведем confusion_matrix\n",
    "show_confusion_matrix(y_valid, Y_predict)"
   ]
  },
  {
   "cell_type": "code",
   "execution_count": 80,
   "metadata": {},
   "outputs": [
    {
     "data": {
      "text/html": [
       "<div>\n",
       "<style scoped>\n",
       "    .dataframe tbody tr th:only-of-type {\n",
       "        vertical-align: middle;\n",
       "    }\n",
       "\n",
       "    .dataframe tbody tr th {\n",
       "        vertical-align: top;\n",
       "    }\n",
       "\n",
       "    .dataframe thead th {\n",
       "        text-align: right;\n",
       "    }\n",
       "</style>\n",
       "<table border=\"1\" class=\"dataframe\">\n",
       "  <thead>\n",
       "    <tr style=\"text-align: right;\">\n",
       "      <th></th>\n",
       "      <th>Value</th>\n",
       "      <th>Description</th>\n",
       "    </tr>\n",
       "  </thead>\n",
       "  <tbody>\n",
       "    <tr>\n",
       "      <th>Positive, P</th>\n",
       "      <td>1827.000000</td>\n",
       "      <td>default</td>\n",
       "    </tr>\n",
       "    <tr>\n",
       "      <th>Negative, N</th>\n",
       "      <td>12933.000000</td>\n",
       "      <td>non-default</td>\n",
       "    </tr>\n",
       "    <tr>\n",
       "      <th>True Positive, TP</th>\n",
       "      <td>1252.000000</td>\n",
       "      <td>correctly identified default</td>\n",
       "    </tr>\n",
       "    <tr>\n",
       "      <th>True Negative, TN</th>\n",
       "      <td>8655.000000</td>\n",
       "      <td>correctly identified non-default</td>\n",
       "    </tr>\n",
       "    <tr>\n",
       "      <th>False Positive, FP</th>\n",
       "      <td>4278.000000</td>\n",
       "      <td>incorrectly identified default</td>\n",
       "    </tr>\n",
       "    <tr>\n",
       "      <th>False Negative, FN</th>\n",
       "      <td>575.000000</td>\n",
       "      <td>incorrectly identified non-default</td>\n",
       "    </tr>\n",
       "    <tr>\n",
       "      <th>Accuracy</th>\n",
       "      <td>0.671206</td>\n",
       "      <td>Accuracy=(TP+TN)/(P+N)</td>\n",
       "    </tr>\n",
       "    <tr>\n",
       "      <th>Precision</th>\n",
       "      <td>0.226401</td>\n",
       "      <td>Precision = TP/(TP+FP)</td>\n",
       "    </tr>\n",
       "    <tr>\n",
       "      <th>Recall</th>\n",
       "      <td>0.685276</td>\n",
       "      <td>Recall = TP/P</td>\n",
       "    </tr>\n",
       "    <tr>\n",
       "      <th>F1-score</th>\n",
       "      <td>0.340356</td>\n",
       "      <td>Harmonical mean of Precision и Recall</td>\n",
       "    </tr>\n",
       "    <tr>\n",
       "      <th>ROC_AUC</th>\n",
       "      <td>0.745068</td>\n",
       "      <td>ROC AUC Score</td>\n",
       "    </tr>\n",
       "  </tbody>\n",
       "</table>\n",
       "</div>"
      ],
      "text/plain": [
       "                           Value                            Description\n",
       "Positive, P          1827.000000                                default\n",
       "Negative, N         12933.000000                            non-default\n",
       "True Positive, TP    1252.000000           correctly identified default\n",
       "True Negative, TN    8655.000000       correctly identified non-default\n",
       "False Positive, FP   4278.000000         incorrectly identified default\n",
       "False Negative, FN    575.000000     incorrectly identified non-default\n",
       "Accuracy                0.671206                 Accuracy=(TP+TN)/(P+N)\n",
       "Precision               0.226401                 Precision = TP/(TP+FP)\n",
       "Recall                  0.685276                          Recall = TP/P\n",
       "F1-score                0.340356  Harmonical mean of Precision и Recall\n",
       "ROC_AUC                 0.745068                          ROC AUC Score"
      ]
     },
     "metadata": {},
     "output_type": "display_data"
    }
   ],
   "source": [
    "# Выведем метрики качества модели\n",
    "all_metrics(y_valid, Y_predict, Y_predict_prob)"
   ]
  },
  {
   "cell_type": "code",
   "execution_count": 81,
   "metadata": {},
   "outputs": [],
   "source": [
    "# Обучаем модель на всей обучающей базе\n",
    "main_model = LogisticRegression( \n",
    "                           C=2.7825594022071245, \n",
    "                           class_weight='balanced', \n",
    "                           dual=False, \n",
    "                           fit_intercept=True, \n",
    "                           intercept_scaling=1, \n",
    "                           l1_ratio=None, \n",
    "                           multi_class='auto', \n",
    "                           n_jobs=None, \n",
    "                           penalty='l2', \n",
    "                           solver='liblinear', \n",
    "                           verbose=0, \n",
    "                           max_iter=1000)\n",
    "main_model.fit(X, Y)\n",
    "\n",
    "# Предсказываем значения тестовой базы\n",
    "y_pred_test = main_model.predict(test)\n",
    "y_pred_prob_test = main_model.predict_proba(test)[:,1]"
   ]
  },
  {
   "cell_type": "code",
   "execution_count": 82,
   "metadata": {},
   "outputs": [
    {
     "data": {
      "text/html": [
       "<div>\n",
       "<style scoped>\n",
       "    .dataframe tbody tr th:only-of-type {\n",
       "        vertical-align: middle;\n",
       "    }\n",
       "\n",
       "    .dataframe tbody tr th {\n",
       "        vertical-align: top;\n",
       "    }\n",
       "\n",
       "    .dataframe thead th {\n",
       "        text-align: right;\n",
       "    }\n",
       "</style>\n",
       "<table border=\"1\" class=\"dataframe\">\n",
       "  <thead>\n",
       "    <tr style=\"text-align: right;\">\n",
       "      <th></th>\n",
       "      <th>client_id</th>\n",
       "      <th>default</th>\n",
       "    </tr>\n",
       "  </thead>\n",
       "  <tbody>\n",
       "    <tr>\n",
       "      <th>0</th>\n",
       "      <td>74835</td>\n",
       "      <td>0.200498</td>\n",
       "    </tr>\n",
       "    <tr>\n",
       "      <th>1</th>\n",
       "      <td>17527</td>\n",
       "      <td>0.813580</td>\n",
       "    </tr>\n",
       "    <tr>\n",
       "      <th>2</th>\n",
       "      <td>75683</td>\n",
       "      <td>0.294055</td>\n",
       "    </tr>\n",
       "    <tr>\n",
       "      <th>3</th>\n",
       "      <td>26883</td>\n",
       "      <td>0.418648</td>\n",
       "    </tr>\n",
       "    <tr>\n",
       "      <th>4</th>\n",
       "      <td>28862</td>\n",
       "      <td>0.138772</td>\n",
       "    </tr>\n",
       "    <tr>\n",
       "      <th>5</th>\n",
       "      <td>99881</td>\n",
       "      <td>0.589646</td>\n",
       "    </tr>\n",
       "    <tr>\n",
       "      <th>6</th>\n",
       "      <td>26630</td>\n",
       "      <td>0.807283</td>\n",
       "    </tr>\n",
       "    <tr>\n",
       "      <th>7</th>\n",
       "      <td>79934</td>\n",
       "      <td>0.158189</td>\n",
       "    </tr>\n",
       "    <tr>\n",
       "      <th>8</th>\n",
       "      <td>16605</td>\n",
       "      <td>0.138343</td>\n",
       "    </tr>\n",
       "    <tr>\n",
       "      <th>9</th>\n",
       "      <td>105449</td>\n",
       "      <td>0.127831</td>\n",
       "    </tr>\n",
       "  </tbody>\n",
       "</table>\n",
       "</div>"
      ],
      "text/plain": [
       "   client_id   default\n",
       "0      74835  0.200498\n",
       "1      17527  0.813580\n",
       "2      75683  0.294055\n",
       "3      26883  0.418648\n",
       "4      28862  0.138772\n",
       "5      99881  0.589646\n",
       "6      26630  0.807283\n",
       "7      79934  0.158189\n",
       "8      16605  0.138343\n",
       "9     105449  0.127831"
      ]
     },
     "execution_count": 82,
     "metadata": {},
     "output_type": "execute_result"
    }
   ],
   "source": [
    "# Записываем предсказанные моделью вероятности дефолта заемщиков из тестовой базы в отдельный файл\n",
    "new_sample_submission = pd.DataFrame({'client_id': id_test,\n",
    "                              'default': y_pred_prob_test})\n",
    "new_sample_submission.to_csv('submission.csv', index=False)\n",
    "\n",
    "new_sample_submission.head(10)"
   ]
  },
  {
   "cell_type": "code",
   "execution_count": null,
   "metadata": {},
   "outputs": [],
   "source": []
  }
 ],
 "metadata": {
  "kernelspec": {
   "display_name": "Python 3",
   "language": "python",
   "name": "python3"
  },
  "language_info": {
   "codemirror_mode": {
    "name": "ipython",
    "version": 3
   },
   "file_extension": ".py",
   "mimetype": "text/x-python",
   "name": "python",
   "nbconvert_exporter": "python",
   "pygments_lexer": "ipython3",
   "version": "3.8.5"
  }
 },
 "nbformat": 4,
 "nbformat_minor": 4
}
